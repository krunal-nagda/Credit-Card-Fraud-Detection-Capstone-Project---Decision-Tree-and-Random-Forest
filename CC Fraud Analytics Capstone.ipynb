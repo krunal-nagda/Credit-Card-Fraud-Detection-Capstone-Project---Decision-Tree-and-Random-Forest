{
  "nbformat": 4,
  "nbformat_minor": 0,
  "metadata": {
    "colab": {
      "name": "Fraud Analytics Capstone.ipynb",
      "provenance": [],
      "collapsed_sections": []
    },
    "kernelspec": {
      "name": "python3",
      "display_name": "Python 3"
    },
    "language_info": {
      "name": "python"
    }
  },
  "cells": [
    {
      "cell_type": "code",
      "metadata": {
        "colab": {
          "base_uri": "https://localhost:8080/"
        },
        "id": "ihQzOv9h8gOA",
        "outputId": "d9c3d1f3-2a45-4c9a-ce60-8b38cca66da0"
      },
      "source": [
        "from google.colab import drive\n",
        "drive.mount('/content/gdrive')"
      ],
      "execution_count": null,
      "outputs": [
        {
          "output_type": "stream",
          "text": [
            "Mounted at /content/gdrive\n"
          ],
          "name": "stdout"
        }
      ]
    },
    {
      "cell_type": "code",
      "metadata": {
        "id": "GRIur4wb82J5"
      },
      "source": [
        "# Importing required libraries\n",
        "\n",
        "import numpy as np\n",
        "import pandas as pd\n",
        "pd.set_option('display.max_rows',1000)\n",
        "import matplotlib.pyplot as plt\n",
        "import seaborn as sns\n",
        "%matplotlib inline"
      ],
      "execution_count": null,
      "outputs": []
    },
    {
      "cell_type": "code",
      "metadata": {
        "colab": {
          "base_uri": "https://localhost:8080/",
          "height": 513
        },
        "id": "-n2drujO9rkO",
        "outputId": "12da8b36-7655-404d-a025-9fa58a4a12bd"
      },
      "source": [
        "# Reading the train and test dataset\n",
        "\n",
        "df_train = pd.read_csv('/content/gdrive/MyDrive/Capstone Project upGrad/fraudTrain.csv')\n",
        "df_test = pd.read_csv('/content/gdrive/MyDrive/Capstone Project upGrad/fraudTest.csv')\n",
        "df_train.head()"
      ],
      "execution_count": null,
      "outputs": [
        {
          "output_type": "execute_result",
          "data": {
            "text/html": [
              "<div>\n",
              "<style scoped>\n",
              "    .dataframe tbody tr th:only-of-type {\n",
              "        vertical-align: middle;\n",
              "    }\n",
              "\n",
              "    .dataframe tbody tr th {\n",
              "        vertical-align: top;\n",
              "    }\n",
              "\n",
              "    .dataframe thead th {\n",
              "        text-align: right;\n",
              "    }\n",
              "</style>\n",
              "<table border=\"1\" class=\"dataframe\">\n",
              "  <thead>\n",
              "    <tr style=\"text-align: right;\">\n",
              "      <th></th>\n",
              "      <th>Unnamed: 0</th>\n",
              "      <th>trans_date_trans_time</th>\n",
              "      <th>cc_num</th>\n",
              "      <th>merchant</th>\n",
              "      <th>category</th>\n",
              "      <th>amt</th>\n",
              "      <th>first</th>\n",
              "      <th>last</th>\n",
              "      <th>gender</th>\n",
              "      <th>street</th>\n",
              "      <th>city</th>\n",
              "      <th>state</th>\n",
              "      <th>zip</th>\n",
              "      <th>lat</th>\n",
              "      <th>long</th>\n",
              "      <th>city_pop</th>\n",
              "      <th>job</th>\n",
              "      <th>dob</th>\n",
              "      <th>trans_num</th>\n",
              "      <th>unix_time</th>\n",
              "      <th>merch_lat</th>\n",
              "      <th>merch_long</th>\n",
              "      <th>is_fraud</th>\n",
              "    </tr>\n",
              "  </thead>\n",
              "  <tbody>\n",
              "    <tr>\n",
              "      <th>0</th>\n",
              "      <td>0</td>\n",
              "      <td>2019-01-01 00:00:18</td>\n",
              "      <td>2703186189652095</td>\n",
              "      <td>fraud_Rippin, Kub and Mann</td>\n",
              "      <td>misc_net</td>\n",
              "      <td>4.97</td>\n",
              "      <td>Jennifer</td>\n",
              "      <td>Banks</td>\n",
              "      <td>F</td>\n",
              "      <td>561 Perry Cove</td>\n",
              "      <td>Moravian Falls</td>\n",
              "      <td>NC</td>\n",
              "      <td>28654</td>\n",
              "      <td>36.0788</td>\n",
              "      <td>-81.1781</td>\n",
              "      <td>3495</td>\n",
              "      <td>Psychologist, counselling</td>\n",
              "      <td>1988-03-09</td>\n",
              "      <td>0b242abb623afc578575680df30655b9</td>\n",
              "      <td>1325376018</td>\n",
              "      <td>36.011293</td>\n",
              "      <td>-82.048315</td>\n",
              "      <td>0</td>\n",
              "    </tr>\n",
              "    <tr>\n",
              "      <th>1</th>\n",
              "      <td>1</td>\n",
              "      <td>2019-01-01 00:00:44</td>\n",
              "      <td>630423337322</td>\n",
              "      <td>fraud_Heller, Gutmann and Zieme</td>\n",
              "      <td>grocery_pos</td>\n",
              "      <td>107.23</td>\n",
              "      <td>Stephanie</td>\n",
              "      <td>Gill</td>\n",
              "      <td>F</td>\n",
              "      <td>43039 Riley Greens Suite 393</td>\n",
              "      <td>Orient</td>\n",
              "      <td>WA</td>\n",
              "      <td>99160</td>\n",
              "      <td>48.8878</td>\n",
              "      <td>-118.2105</td>\n",
              "      <td>149</td>\n",
              "      <td>Special educational needs teacher</td>\n",
              "      <td>1978-06-21</td>\n",
              "      <td>1f76529f8574734946361c461b024d99</td>\n",
              "      <td>1325376044</td>\n",
              "      <td>49.159047</td>\n",
              "      <td>-118.186462</td>\n",
              "      <td>0</td>\n",
              "    </tr>\n",
              "    <tr>\n",
              "      <th>2</th>\n",
              "      <td>2</td>\n",
              "      <td>2019-01-01 00:00:51</td>\n",
              "      <td>38859492057661</td>\n",
              "      <td>fraud_Lind-Buckridge</td>\n",
              "      <td>entertainment</td>\n",
              "      <td>220.11</td>\n",
              "      <td>Edward</td>\n",
              "      <td>Sanchez</td>\n",
              "      <td>M</td>\n",
              "      <td>594 White Dale Suite 530</td>\n",
              "      <td>Malad City</td>\n",
              "      <td>ID</td>\n",
              "      <td>83252</td>\n",
              "      <td>42.1808</td>\n",
              "      <td>-112.2620</td>\n",
              "      <td>4154</td>\n",
              "      <td>Nature conservation officer</td>\n",
              "      <td>1962-01-19</td>\n",
              "      <td>a1a22d70485983eac12b5b88dad1cf95</td>\n",
              "      <td>1325376051</td>\n",
              "      <td>43.150704</td>\n",
              "      <td>-112.154481</td>\n",
              "      <td>0</td>\n",
              "    </tr>\n",
              "    <tr>\n",
              "      <th>3</th>\n",
              "      <td>3</td>\n",
              "      <td>2019-01-01 00:01:16</td>\n",
              "      <td>3534093764340240</td>\n",
              "      <td>fraud_Kutch, Hermiston and Farrell</td>\n",
              "      <td>gas_transport</td>\n",
              "      <td>45.00</td>\n",
              "      <td>Jeremy</td>\n",
              "      <td>White</td>\n",
              "      <td>M</td>\n",
              "      <td>9443 Cynthia Court Apt. 038</td>\n",
              "      <td>Boulder</td>\n",
              "      <td>MT</td>\n",
              "      <td>59632</td>\n",
              "      <td>46.2306</td>\n",
              "      <td>-112.1138</td>\n",
              "      <td>1939</td>\n",
              "      <td>Patent attorney</td>\n",
              "      <td>1967-01-12</td>\n",
              "      <td>6b849c168bdad6f867558c3793159a81</td>\n",
              "      <td>1325376076</td>\n",
              "      <td>47.034331</td>\n",
              "      <td>-112.561071</td>\n",
              "      <td>0</td>\n",
              "    </tr>\n",
              "    <tr>\n",
              "      <th>4</th>\n",
              "      <td>4</td>\n",
              "      <td>2019-01-01 00:03:06</td>\n",
              "      <td>375534208663984</td>\n",
              "      <td>fraud_Keeling-Crist</td>\n",
              "      <td>misc_pos</td>\n",
              "      <td>41.96</td>\n",
              "      <td>Tyler</td>\n",
              "      <td>Garcia</td>\n",
              "      <td>M</td>\n",
              "      <td>408 Bradley Rest</td>\n",
              "      <td>Doe Hill</td>\n",
              "      <td>VA</td>\n",
              "      <td>24433</td>\n",
              "      <td>38.4207</td>\n",
              "      <td>-79.4629</td>\n",
              "      <td>99</td>\n",
              "      <td>Dance movement psychotherapist</td>\n",
              "      <td>1986-03-28</td>\n",
              "      <td>a41d7549acf90789359a9aa5346dcb46</td>\n",
              "      <td>1325376186</td>\n",
              "      <td>38.674999</td>\n",
              "      <td>-78.632459</td>\n",
              "      <td>0</td>\n",
              "    </tr>\n",
              "  </tbody>\n",
              "</table>\n",
              "</div>"
            ],
            "text/plain": [
              "   Unnamed: 0 trans_date_trans_time  ...  merch_long is_fraud\n",
              "0           0   2019-01-01 00:00:18  ...  -82.048315        0\n",
              "1           1   2019-01-01 00:00:44  ... -118.186462        0\n",
              "2           2   2019-01-01 00:00:51  ... -112.154481        0\n",
              "3           3   2019-01-01 00:01:16  ... -112.561071        0\n",
              "4           4   2019-01-01 00:03:06  ...  -78.632459        0\n",
              "\n",
              "[5 rows x 23 columns]"
            ]
          },
          "metadata": {
            "tags": []
          },
          "execution_count": 3
        }
      ]
    },
    {
      "cell_type": "markdown",
      "metadata": {
        "id": "l9SplcbHCGAj"
      },
      "source": [
        "#### Exploratory Data Analysis"
      ]
    },
    {
      "cell_type": "code",
      "metadata": {
        "colab": {
          "base_uri": "https://localhost:8080/"
        },
        "id": "fIh8DBUT_BQM",
        "outputId": "6236261e-5374-4946-f458-7d8ec95c1fa6"
      },
      "source": [
        "print(df_train.shape)\n",
        "print(df_test.shape)"
      ],
      "execution_count": null,
      "outputs": [
        {
          "output_type": "stream",
          "text": [
            "(1296675, 23)\n",
            "(555719, 23)\n"
          ],
          "name": "stdout"
        }
      ]
    },
    {
      "cell_type": "code",
      "metadata": {
        "colab": {
          "base_uri": "https://localhost:8080/"
        },
        "id": "3mTimM6QCQKw",
        "outputId": "594e6e94-186a-4bb1-a084-dded8b91ef71"
      },
      "source": [
        "df_train.info()"
      ],
      "execution_count": null,
      "outputs": [
        {
          "output_type": "stream",
          "text": [
            "<class 'pandas.core.frame.DataFrame'>\n",
            "RangeIndex: 1296675 entries, 0 to 1296674\n",
            "Data columns (total 23 columns):\n",
            " #   Column                 Non-Null Count    Dtype  \n",
            "---  ------                 --------------    -----  \n",
            " 0   Unnamed: 0             1296675 non-null  int64  \n",
            " 1   trans_date_trans_time  1296675 non-null  object \n",
            " 2   cc_num                 1296675 non-null  int64  \n",
            " 3   merchant               1296675 non-null  object \n",
            " 4   category               1296675 non-null  object \n",
            " 5   amt                    1296675 non-null  float64\n",
            " 6   first                  1296675 non-null  object \n",
            " 7   last                   1296675 non-null  object \n",
            " 8   gender                 1296675 non-null  object \n",
            " 9   street                 1296675 non-null  object \n",
            " 10  city                   1296675 non-null  object \n",
            " 11  state                  1296675 non-null  object \n",
            " 12  zip                    1296675 non-null  int64  \n",
            " 13  lat                    1296675 non-null  float64\n",
            " 14  long                   1296675 non-null  float64\n",
            " 15  city_pop               1296675 non-null  int64  \n",
            " 16  job                    1296675 non-null  object \n",
            " 17  dob                    1296675 non-null  object \n",
            " 18  trans_num              1296675 non-null  object \n",
            " 19  unix_time              1296675 non-null  int64  \n",
            " 20  merch_lat              1296675 non-null  float64\n",
            " 21  merch_long             1296675 non-null  float64\n",
            " 22  is_fraud               1296675 non-null  int64  \n",
            "dtypes: float64(5), int64(6), object(12)\n",
            "memory usage: 227.5+ MB\n"
          ],
          "name": "stdout"
        }
      ]
    },
    {
      "cell_type": "code",
      "metadata": {
        "colab": {
          "base_uri": "https://localhost:8080/"
        },
        "id": "AIYZErNACYMY",
        "outputId": "04750066-573e-454c-edc2-e95c729dd0a5"
      },
      "source": [
        "df_test.info()"
      ],
      "execution_count": null,
      "outputs": [
        {
          "output_type": "stream",
          "text": [
            "<class 'pandas.core.frame.DataFrame'>\n",
            "RangeIndex: 555719 entries, 0 to 555718\n",
            "Data columns (total 23 columns):\n",
            " #   Column                 Non-Null Count   Dtype  \n",
            "---  ------                 --------------   -----  \n",
            " 0   Unnamed: 0             555719 non-null  int64  \n",
            " 1   trans_date_trans_time  555719 non-null  object \n",
            " 2   cc_num                 555719 non-null  int64  \n",
            " 3   merchant               555719 non-null  object \n",
            " 4   category               555719 non-null  object \n",
            " 5   amt                    555719 non-null  float64\n",
            " 6   first                  555719 non-null  object \n",
            " 7   last                   555719 non-null  object \n",
            " 8   gender                 555719 non-null  object \n",
            " 9   street                 555719 non-null  object \n",
            " 10  city                   555719 non-null  object \n",
            " 11  state                  555719 non-null  object \n",
            " 12  zip                    555719 non-null  int64  \n",
            " 13  lat                    555719 non-null  float64\n",
            " 14  long                   555719 non-null  float64\n",
            " 15  city_pop               555719 non-null  int64  \n",
            " 16  job                    555719 non-null  object \n",
            " 17  dob                    555719 non-null  object \n",
            " 18  trans_num              555719 non-null  object \n",
            " 19  unix_time              555719 non-null  int64  \n",
            " 20  merch_lat              555719 non-null  float64\n",
            " 21  merch_long             555719 non-null  float64\n",
            " 22  is_fraud               555719 non-null  int64  \n",
            "dtypes: float64(5), int64(6), object(12)\n",
            "memory usage: 97.5+ MB\n"
          ],
          "name": "stdout"
        }
      ]
    },
    {
      "cell_type": "code",
      "metadata": {
        "id": "MsGOO4cWjOtl",
        "colab": {
          "base_uri": "https://localhost:8080/",
          "height": 496
        },
        "outputId": "0387fe74-e975-45b0-9544-b4548eaa5e58"
      },
      "source": [
        "# Dropping Unnamed column\n",
        "\n",
        "df_train.drop(\"Unnamed: 0\",axis=1,inplace=True)\n",
        "df_test.drop(\"Unnamed: 0\",axis=1,inplace=True)\n",
        "df_train.head()"
      ],
      "execution_count": null,
      "outputs": [
        {
          "output_type": "execute_result",
          "data": {
            "text/html": [
              "<div>\n",
              "<style scoped>\n",
              "    .dataframe tbody tr th:only-of-type {\n",
              "        vertical-align: middle;\n",
              "    }\n",
              "\n",
              "    .dataframe tbody tr th {\n",
              "        vertical-align: top;\n",
              "    }\n",
              "\n",
              "    .dataframe thead th {\n",
              "        text-align: right;\n",
              "    }\n",
              "</style>\n",
              "<table border=\"1\" class=\"dataframe\">\n",
              "  <thead>\n",
              "    <tr style=\"text-align: right;\">\n",
              "      <th></th>\n",
              "      <th>trans_date_trans_time</th>\n",
              "      <th>cc_num</th>\n",
              "      <th>merchant</th>\n",
              "      <th>category</th>\n",
              "      <th>amt</th>\n",
              "      <th>first</th>\n",
              "      <th>last</th>\n",
              "      <th>gender</th>\n",
              "      <th>street</th>\n",
              "      <th>city</th>\n",
              "      <th>state</th>\n",
              "      <th>zip</th>\n",
              "      <th>lat</th>\n",
              "      <th>long</th>\n",
              "      <th>city_pop</th>\n",
              "      <th>job</th>\n",
              "      <th>dob</th>\n",
              "      <th>trans_num</th>\n",
              "      <th>unix_time</th>\n",
              "      <th>merch_lat</th>\n",
              "      <th>merch_long</th>\n",
              "      <th>is_fraud</th>\n",
              "    </tr>\n",
              "  </thead>\n",
              "  <tbody>\n",
              "    <tr>\n",
              "      <th>0</th>\n",
              "      <td>2019-01-01 00:00:18</td>\n",
              "      <td>2703186189652095</td>\n",
              "      <td>fraud_Rippin, Kub and Mann</td>\n",
              "      <td>misc_net</td>\n",
              "      <td>4.97</td>\n",
              "      <td>Jennifer</td>\n",
              "      <td>Banks</td>\n",
              "      <td>F</td>\n",
              "      <td>561 Perry Cove</td>\n",
              "      <td>Moravian Falls</td>\n",
              "      <td>NC</td>\n",
              "      <td>28654</td>\n",
              "      <td>36.0788</td>\n",
              "      <td>-81.1781</td>\n",
              "      <td>3495</td>\n",
              "      <td>Psychologist, counselling</td>\n",
              "      <td>1988-03-09</td>\n",
              "      <td>0b242abb623afc578575680df30655b9</td>\n",
              "      <td>1325376018</td>\n",
              "      <td>36.011293</td>\n",
              "      <td>-82.048315</td>\n",
              "      <td>0</td>\n",
              "    </tr>\n",
              "    <tr>\n",
              "      <th>1</th>\n",
              "      <td>2019-01-01 00:00:44</td>\n",
              "      <td>630423337322</td>\n",
              "      <td>fraud_Heller, Gutmann and Zieme</td>\n",
              "      <td>grocery_pos</td>\n",
              "      <td>107.23</td>\n",
              "      <td>Stephanie</td>\n",
              "      <td>Gill</td>\n",
              "      <td>F</td>\n",
              "      <td>43039 Riley Greens Suite 393</td>\n",
              "      <td>Orient</td>\n",
              "      <td>WA</td>\n",
              "      <td>99160</td>\n",
              "      <td>48.8878</td>\n",
              "      <td>-118.2105</td>\n",
              "      <td>149</td>\n",
              "      <td>Special educational needs teacher</td>\n",
              "      <td>1978-06-21</td>\n",
              "      <td>1f76529f8574734946361c461b024d99</td>\n",
              "      <td>1325376044</td>\n",
              "      <td>49.159047</td>\n",
              "      <td>-118.186462</td>\n",
              "      <td>0</td>\n",
              "    </tr>\n",
              "    <tr>\n",
              "      <th>2</th>\n",
              "      <td>2019-01-01 00:00:51</td>\n",
              "      <td>38859492057661</td>\n",
              "      <td>fraud_Lind-Buckridge</td>\n",
              "      <td>entertainment</td>\n",
              "      <td>220.11</td>\n",
              "      <td>Edward</td>\n",
              "      <td>Sanchez</td>\n",
              "      <td>M</td>\n",
              "      <td>594 White Dale Suite 530</td>\n",
              "      <td>Malad City</td>\n",
              "      <td>ID</td>\n",
              "      <td>83252</td>\n",
              "      <td>42.1808</td>\n",
              "      <td>-112.2620</td>\n",
              "      <td>4154</td>\n",
              "      <td>Nature conservation officer</td>\n",
              "      <td>1962-01-19</td>\n",
              "      <td>a1a22d70485983eac12b5b88dad1cf95</td>\n",
              "      <td>1325376051</td>\n",
              "      <td>43.150704</td>\n",
              "      <td>-112.154481</td>\n",
              "      <td>0</td>\n",
              "    </tr>\n",
              "    <tr>\n",
              "      <th>3</th>\n",
              "      <td>2019-01-01 00:01:16</td>\n",
              "      <td>3534093764340240</td>\n",
              "      <td>fraud_Kutch, Hermiston and Farrell</td>\n",
              "      <td>gas_transport</td>\n",
              "      <td>45.00</td>\n",
              "      <td>Jeremy</td>\n",
              "      <td>White</td>\n",
              "      <td>M</td>\n",
              "      <td>9443 Cynthia Court Apt. 038</td>\n",
              "      <td>Boulder</td>\n",
              "      <td>MT</td>\n",
              "      <td>59632</td>\n",
              "      <td>46.2306</td>\n",
              "      <td>-112.1138</td>\n",
              "      <td>1939</td>\n",
              "      <td>Patent attorney</td>\n",
              "      <td>1967-01-12</td>\n",
              "      <td>6b849c168bdad6f867558c3793159a81</td>\n",
              "      <td>1325376076</td>\n",
              "      <td>47.034331</td>\n",
              "      <td>-112.561071</td>\n",
              "      <td>0</td>\n",
              "    </tr>\n",
              "    <tr>\n",
              "      <th>4</th>\n",
              "      <td>2019-01-01 00:03:06</td>\n",
              "      <td>375534208663984</td>\n",
              "      <td>fraud_Keeling-Crist</td>\n",
              "      <td>misc_pos</td>\n",
              "      <td>41.96</td>\n",
              "      <td>Tyler</td>\n",
              "      <td>Garcia</td>\n",
              "      <td>M</td>\n",
              "      <td>408 Bradley Rest</td>\n",
              "      <td>Doe Hill</td>\n",
              "      <td>VA</td>\n",
              "      <td>24433</td>\n",
              "      <td>38.4207</td>\n",
              "      <td>-79.4629</td>\n",
              "      <td>99</td>\n",
              "      <td>Dance movement psychotherapist</td>\n",
              "      <td>1986-03-28</td>\n",
              "      <td>a41d7549acf90789359a9aa5346dcb46</td>\n",
              "      <td>1325376186</td>\n",
              "      <td>38.674999</td>\n",
              "      <td>-78.632459</td>\n",
              "      <td>0</td>\n",
              "    </tr>\n",
              "  </tbody>\n",
              "</table>\n",
              "</div>"
            ],
            "text/plain": [
              "  trans_date_trans_time            cc_num  ...  merch_long is_fraud\n",
              "0   2019-01-01 00:00:18  2703186189652095  ...  -82.048315        0\n",
              "1   2019-01-01 00:00:44      630423337322  ... -118.186462        0\n",
              "2   2019-01-01 00:00:51    38859492057661  ... -112.154481        0\n",
              "3   2019-01-01 00:01:16  3534093764340240  ... -112.561071        0\n",
              "4   2019-01-01 00:03:06   375534208663984  ...  -78.632459        0\n",
              "\n",
              "[5 rows x 22 columns]"
            ]
          },
          "metadata": {
            "tags": []
          },
          "execution_count": 7
        }
      ]
    },
    {
      "cell_type": "code",
      "metadata": {
        "colab": {
          "base_uri": "https://localhost:8080/",
          "height": 496
        },
        "id": "k_i-Yoo0MBzK",
        "outputId": "7e923b7e-f4d3-48cb-93aa-690c82fb8392"
      },
      "source": [
        "# Converting date columns to datetime format\n",
        "\n",
        "df_train['trans_date_trans_time']=pd.to_datetime(df_train['trans_date_trans_time'])\n",
        "df_train['trans_date']=df_train['trans_date_trans_time'].dt.strftime('%Y-%m-%d')\n",
        "df_train['trans_date']=pd.to_datetime(df_train['trans_date'])\n",
        "df_train['dob']=pd.to_datetime(df_train['dob'])\n",
        "\n",
        "df_test['trans_date_trans_time']=pd.to_datetime(df_test['trans_date_trans_time'])\n",
        "df_test['trans_date']=df_test['trans_date_trans_time'].dt.strftime('%Y-%m-%d')\n",
        "df_test['trans_date']=pd.to_datetime(df_test['trans_date'])\n",
        "df_test['dob']=pd.to_datetime(df_test['dob'])\n",
        "\n",
        "df_train.head()"
      ],
      "execution_count": null,
      "outputs": [
        {
          "output_type": "execute_result",
          "data": {
            "text/html": [
              "<div>\n",
              "<style scoped>\n",
              "    .dataframe tbody tr th:only-of-type {\n",
              "        vertical-align: middle;\n",
              "    }\n",
              "\n",
              "    .dataframe tbody tr th {\n",
              "        vertical-align: top;\n",
              "    }\n",
              "\n",
              "    .dataframe thead th {\n",
              "        text-align: right;\n",
              "    }\n",
              "</style>\n",
              "<table border=\"1\" class=\"dataframe\">\n",
              "  <thead>\n",
              "    <tr style=\"text-align: right;\">\n",
              "      <th></th>\n",
              "      <th>trans_date_trans_time</th>\n",
              "      <th>cc_num</th>\n",
              "      <th>merchant</th>\n",
              "      <th>category</th>\n",
              "      <th>amt</th>\n",
              "      <th>first</th>\n",
              "      <th>last</th>\n",
              "      <th>gender</th>\n",
              "      <th>street</th>\n",
              "      <th>city</th>\n",
              "      <th>state</th>\n",
              "      <th>zip</th>\n",
              "      <th>lat</th>\n",
              "      <th>long</th>\n",
              "      <th>city_pop</th>\n",
              "      <th>job</th>\n",
              "      <th>dob</th>\n",
              "      <th>trans_num</th>\n",
              "      <th>unix_time</th>\n",
              "      <th>merch_lat</th>\n",
              "      <th>merch_long</th>\n",
              "      <th>is_fraud</th>\n",
              "      <th>trans_date</th>\n",
              "    </tr>\n",
              "  </thead>\n",
              "  <tbody>\n",
              "    <tr>\n",
              "      <th>0</th>\n",
              "      <td>2019-01-01 00:00:18</td>\n",
              "      <td>2703186189652095</td>\n",
              "      <td>fraud_Rippin, Kub and Mann</td>\n",
              "      <td>misc_net</td>\n",
              "      <td>4.97</td>\n",
              "      <td>Jennifer</td>\n",
              "      <td>Banks</td>\n",
              "      <td>F</td>\n",
              "      <td>561 Perry Cove</td>\n",
              "      <td>Moravian Falls</td>\n",
              "      <td>NC</td>\n",
              "      <td>28654</td>\n",
              "      <td>36.0788</td>\n",
              "      <td>-81.1781</td>\n",
              "      <td>3495</td>\n",
              "      <td>Psychologist, counselling</td>\n",
              "      <td>1988-03-09</td>\n",
              "      <td>0b242abb623afc578575680df30655b9</td>\n",
              "      <td>1325376018</td>\n",
              "      <td>36.011293</td>\n",
              "      <td>-82.048315</td>\n",
              "      <td>0</td>\n",
              "      <td>2019-01-01</td>\n",
              "    </tr>\n",
              "    <tr>\n",
              "      <th>1</th>\n",
              "      <td>2019-01-01 00:00:44</td>\n",
              "      <td>630423337322</td>\n",
              "      <td>fraud_Heller, Gutmann and Zieme</td>\n",
              "      <td>grocery_pos</td>\n",
              "      <td>107.23</td>\n",
              "      <td>Stephanie</td>\n",
              "      <td>Gill</td>\n",
              "      <td>F</td>\n",
              "      <td>43039 Riley Greens Suite 393</td>\n",
              "      <td>Orient</td>\n",
              "      <td>WA</td>\n",
              "      <td>99160</td>\n",
              "      <td>48.8878</td>\n",
              "      <td>-118.2105</td>\n",
              "      <td>149</td>\n",
              "      <td>Special educational needs teacher</td>\n",
              "      <td>1978-06-21</td>\n",
              "      <td>1f76529f8574734946361c461b024d99</td>\n",
              "      <td>1325376044</td>\n",
              "      <td>49.159047</td>\n",
              "      <td>-118.186462</td>\n",
              "      <td>0</td>\n",
              "      <td>2019-01-01</td>\n",
              "    </tr>\n",
              "    <tr>\n",
              "      <th>2</th>\n",
              "      <td>2019-01-01 00:00:51</td>\n",
              "      <td>38859492057661</td>\n",
              "      <td>fraud_Lind-Buckridge</td>\n",
              "      <td>entertainment</td>\n",
              "      <td>220.11</td>\n",
              "      <td>Edward</td>\n",
              "      <td>Sanchez</td>\n",
              "      <td>M</td>\n",
              "      <td>594 White Dale Suite 530</td>\n",
              "      <td>Malad City</td>\n",
              "      <td>ID</td>\n",
              "      <td>83252</td>\n",
              "      <td>42.1808</td>\n",
              "      <td>-112.2620</td>\n",
              "      <td>4154</td>\n",
              "      <td>Nature conservation officer</td>\n",
              "      <td>1962-01-19</td>\n",
              "      <td>a1a22d70485983eac12b5b88dad1cf95</td>\n",
              "      <td>1325376051</td>\n",
              "      <td>43.150704</td>\n",
              "      <td>-112.154481</td>\n",
              "      <td>0</td>\n",
              "      <td>2019-01-01</td>\n",
              "    </tr>\n",
              "    <tr>\n",
              "      <th>3</th>\n",
              "      <td>2019-01-01 00:01:16</td>\n",
              "      <td>3534093764340240</td>\n",
              "      <td>fraud_Kutch, Hermiston and Farrell</td>\n",
              "      <td>gas_transport</td>\n",
              "      <td>45.00</td>\n",
              "      <td>Jeremy</td>\n",
              "      <td>White</td>\n",
              "      <td>M</td>\n",
              "      <td>9443 Cynthia Court Apt. 038</td>\n",
              "      <td>Boulder</td>\n",
              "      <td>MT</td>\n",
              "      <td>59632</td>\n",
              "      <td>46.2306</td>\n",
              "      <td>-112.1138</td>\n",
              "      <td>1939</td>\n",
              "      <td>Patent attorney</td>\n",
              "      <td>1967-01-12</td>\n",
              "      <td>6b849c168bdad6f867558c3793159a81</td>\n",
              "      <td>1325376076</td>\n",
              "      <td>47.034331</td>\n",
              "      <td>-112.561071</td>\n",
              "      <td>0</td>\n",
              "      <td>2019-01-01</td>\n",
              "    </tr>\n",
              "    <tr>\n",
              "      <th>4</th>\n",
              "      <td>2019-01-01 00:03:06</td>\n",
              "      <td>375534208663984</td>\n",
              "      <td>fraud_Keeling-Crist</td>\n",
              "      <td>misc_pos</td>\n",
              "      <td>41.96</td>\n",
              "      <td>Tyler</td>\n",
              "      <td>Garcia</td>\n",
              "      <td>M</td>\n",
              "      <td>408 Bradley Rest</td>\n",
              "      <td>Doe Hill</td>\n",
              "      <td>VA</td>\n",
              "      <td>24433</td>\n",
              "      <td>38.4207</td>\n",
              "      <td>-79.4629</td>\n",
              "      <td>99</td>\n",
              "      <td>Dance movement psychotherapist</td>\n",
              "      <td>1986-03-28</td>\n",
              "      <td>a41d7549acf90789359a9aa5346dcb46</td>\n",
              "      <td>1325376186</td>\n",
              "      <td>38.674999</td>\n",
              "      <td>-78.632459</td>\n",
              "      <td>0</td>\n",
              "      <td>2019-01-01</td>\n",
              "    </tr>\n",
              "  </tbody>\n",
              "</table>\n",
              "</div>"
            ],
            "text/plain": [
              "  trans_date_trans_time            cc_num  ... is_fraud trans_date\n",
              "0   2019-01-01 00:00:18  2703186189652095  ...        0 2019-01-01\n",
              "1   2019-01-01 00:00:44      630423337322  ...        0 2019-01-01\n",
              "2   2019-01-01 00:00:51    38859492057661  ...        0 2019-01-01\n",
              "3   2019-01-01 00:01:16  3534093764340240  ...        0 2019-01-01\n",
              "4   2019-01-01 00:03:06   375534208663984  ...        0 2019-01-01\n",
              "\n",
              "[5 rows x 23 columns]"
            ]
          },
          "metadata": {
            "tags": []
          },
          "execution_count": 8
        }
      ]
    },
    {
      "cell_type": "code",
      "metadata": {
        "colab": {
          "base_uri": "https://localhost:8080/"
        },
        "id": "jEKXFkwSNsIw",
        "outputId": "ddf87c5e-0420-45e1-bcbe-6931027ef0a2"
      },
      "source": [
        "df_train.info()"
      ],
      "execution_count": null,
      "outputs": [
        {
          "output_type": "stream",
          "text": [
            "<class 'pandas.core.frame.DataFrame'>\n",
            "RangeIndex: 1296675 entries, 0 to 1296674\n",
            "Data columns (total 23 columns):\n",
            " #   Column                 Non-Null Count    Dtype         \n",
            "---  ------                 --------------    -----         \n",
            " 0   trans_date_trans_time  1296675 non-null  datetime64[ns]\n",
            " 1   cc_num                 1296675 non-null  int64         \n",
            " 2   merchant               1296675 non-null  object        \n",
            " 3   category               1296675 non-null  object        \n",
            " 4   amt                    1296675 non-null  float64       \n",
            " 5   first                  1296675 non-null  object        \n",
            " 6   last                   1296675 non-null  object        \n",
            " 7   gender                 1296675 non-null  object        \n",
            " 8   street                 1296675 non-null  object        \n",
            " 9   city                   1296675 non-null  object        \n",
            " 10  state                  1296675 non-null  object        \n",
            " 11  zip                    1296675 non-null  int64         \n",
            " 12  lat                    1296675 non-null  float64       \n",
            " 13  long                   1296675 non-null  float64       \n",
            " 14  city_pop               1296675 non-null  int64         \n",
            " 15  job                    1296675 non-null  object        \n",
            " 16  dob                    1296675 non-null  datetime64[ns]\n",
            " 17  trans_num              1296675 non-null  object        \n",
            " 18  unix_time              1296675 non-null  int64         \n",
            " 19  merch_lat              1296675 non-null  float64       \n",
            " 20  merch_long             1296675 non-null  float64       \n",
            " 21  is_fraud               1296675 non-null  int64         \n",
            " 22  trans_date             1296675 non-null  datetime64[ns]\n",
            "dtypes: datetime64[ns](3), float64(5), int64(5), object(10)\n",
            "memory usage: 227.5+ MB\n"
          ],
          "name": "stdout"
        }
      ]
    },
    {
      "cell_type": "code",
      "metadata": {
        "colab": {
          "base_uri": "https://localhost:8080/"
        },
        "id": "SpmerFX4V_v1",
        "outputId": "7c323212-94a3-4bca-d3f7-65954ff50d2c"
      },
      "source": [
        "df_test.info()"
      ],
      "execution_count": null,
      "outputs": [
        {
          "output_type": "stream",
          "text": [
            "<class 'pandas.core.frame.DataFrame'>\n",
            "RangeIndex: 555719 entries, 0 to 555718\n",
            "Data columns (total 23 columns):\n",
            " #   Column                 Non-Null Count   Dtype         \n",
            "---  ------                 --------------   -----         \n",
            " 0   trans_date_trans_time  555719 non-null  datetime64[ns]\n",
            " 1   cc_num                 555719 non-null  int64         \n",
            " 2   merchant               555719 non-null  object        \n",
            " 3   category               555719 non-null  object        \n",
            " 4   amt                    555719 non-null  float64       \n",
            " 5   first                  555719 non-null  object        \n",
            " 6   last                   555719 non-null  object        \n",
            " 7   gender                 555719 non-null  object        \n",
            " 8   street                 555719 non-null  object        \n",
            " 9   city                   555719 non-null  object        \n",
            " 10  state                  555719 non-null  object        \n",
            " 11  zip                    555719 non-null  int64         \n",
            " 12  lat                    555719 non-null  float64       \n",
            " 13  long                   555719 non-null  float64       \n",
            " 14  city_pop               555719 non-null  int64         \n",
            " 15  job                    555719 non-null  object        \n",
            " 16  dob                    555719 non-null  datetime64[ns]\n",
            " 17  trans_num              555719 non-null  object        \n",
            " 18  unix_time              555719 non-null  int64         \n",
            " 19  merch_lat              555719 non-null  float64       \n",
            " 20  merch_long             555719 non-null  float64       \n",
            " 21  is_fraud               555719 non-null  int64         \n",
            " 22  trans_date             555719 non-null  datetime64[ns]\n",
            "dtypes: datetime64[ns](3), float64(5), int64(5), object(10)\n",
            "memory usage: 97.5+ MB\n"
          ],
          "name": "stdout"
        }
      ]
    },
    {
      "cell_type": "code",
      "metadata": {
        "colab": {
          "base_uri": "https://localhost:8080/"
        },
        "id": "NIjA9ufTDfZU",
        "outputId": "46b3d7c8-c473-4ad1-a9ab-810b7e4e6256"
      },
      "source": [
        "# Dropping fields not necessary for model building\n",
        "\n",
        "drop_cols = ['cc_num','merchant','first','last','street','zip','trans_num','unix_time']\n",
        "\n",
        "df_train1 = df_train.drop(drop_cols,axis=1)\n",
        "df_test1 = df_test.drop(drop_cols,axis=1)\n",
        "\n",
        "df_train1.info()"
      ],
      "execution_count": null,
      "outputs": [
        {
          "output_type": "stream",
          "text": [
            "<class 'pandas.core.frame.DataFrame'>\n",
            "RangeIndex: 1296675 entries, 0 to 1296674\n",
            "Data columns (total 15 columns):\n",
            " #   Column                 Non-Null Count    Dtype         \n",
            "---  ------                 --------------    -----         \n",
            " 0   trans_date_trans_time  1296675 non-null  datetime64[ns]\n",
            " 1   category               1296675 non-null  object        \n",
            " 2   amt                    1296675 non-null  float64       \n",
            " 3   gender                 1296675 non-null  object        \n",
            " 4   city                   1296675 non-null  object        \n",
            " 5   state                  1296675 non-null  object        \n",
            " 6   lat                    1296675 non-null  float64       \n",
            " 7   long                   1296675 non-null  float64       \n",
            " 8   city_pop               1296675 non-null  int64         \n",
            " 9   job                    1296675 non-null  object        \n",
            " 10  dob                    1296675 non-null  datetime64[ns]\n",
            " 11  merch_lat              1296675 non-null  float64       \n",
            " 12  merch_long             1296675 non-null  float64       \n",
            " 13  is_fraud               1296675 non-null  int64         \n",
            " 14  trans_date             1296675 non-null  datetime64[ns]\n",
            "dtypes: datetime64[ns](3), float64(5), int64(2), object(5)\n",
            "memory usage: 148.4+ MB\n"
          ],
          "name": "stdout"
        }
      ]
    },
    {
      "cell_type": "code",
      "metadata": {
        "colab": {
          "base_uri": "https://localhost:8080/",
          "height": 281
        },
        "id": "Pv1BJu71HoaF",
        "outputId": "e9752516-28ad-4058-a524-07592c36b464"
      },
      "source": [
        "# Checking Class Imbalance\n",
        "\n",
        "classes_train=df_train1['is_fraud'].value_counts()\n",
        "normal_share_train=classes_train[0]/df_train1['is_fraud'].count()*100\n",
        "fraud_share_train=classes_train[1]/df_train1['is_fraud'].count()*100\n",
        "\n",
        "classes_test=df_test1['is_fraud'].value_counts()\n",
        "normal_share_test=classes_test[0]/df_test1['is_fraud'].count()*100\n",
        "fraud_share_test=classes_test[1]/df_test1['is_fraud'].count()*100\n",
        "\n",
        "plt.subplot(2,1,1)\n",
        "plt.bar(['Non-Fraud','Fraud'], classes_train, color=['y','b'])\n",
        "plt.title('Train')\n",
        "plt.ylabel('Number of transactions')\n",
        "plt.annotate(\"{0:.4}%\".format(normal_share_train),(0.2, 0.5), xycoords='axes fraction')\n",
        "plt.annotate(\"{0:.4}%\".format(fraud_share_train),(0.7, 0.5), xycoords='axes fraction')\n",
        "\n",
        "plt.subplot(2,1,2)\n",
        "plt.bar(['Non-Fraud','Fraud'], classes_test, color=['y','b'])\n",
        "plt.title('Test')\n",
        "plt.ylabel('Number of transactions')\n",
        "plt.annotate(\"{0:.4}%\".format(normal_share_test),(0.2, 0.5), xycoords='axes fraction')\n",
        "plt.annotate(\"{0:.4}%\".format(fraud_share_test),(0.7, 0.5), xycoords='axes fraction')\n",
        "\n",
        "plt.show()"
      ],
      "execution_count": null,
      "outputs": [
        {
          "output_type": "display_data",
          "data": {
            "image/png": "[encoded data removed]",
            "text/plain": [
              "<Figure size 432x288 with 2 Axes>"
            ]
          },
          "metadata": {
            "tags": [],
            "needs_background": "light"
          }
        }
      ]
    },
    {
      "cell_type": "code",
      "metadata": {
        "colab": {
          "base_uri": "https://localhost:8080/",
          "height": 204
        },
        "id": "bM77irOFKgXt",
        "outputId": "6d560c1a-9bb5-4ccb-920a-5538652a6bef"
      },
      "source": [
        "# Creating field for age on transaction date\n",
        "\n",
        "df_train1['age_at_trans'] = df_train1['trans_date'] - df_train1['dob']\n",
        "df_train1['age_at_trans'] = df_train1['age_at_trans'].astype('timedelta64[Y]')\n",
        "\n",
        "df_test1['age_at_trans'] = df_test1['trans_date'] - df_test1['dob']\n",
        "df_test1['age_at_trans'] = df_test1['age_at_trans'].astype('timedelta64[Y]')\n",
        "\n",
        "df_train1.head()"
      ],
      "execution_count": null,
      "outputs": [
        {
          "output_type": "execute_result",
          "data": {
            "text/html": [
              "<div>\n",
              "<style scoped>\n",
              "    .dataframe tbody tr th:only-of-type {\n",
              "        vertical-align: middle;\n",
              "    }\n",
              "\n",
              "    .dataframe tbody tr th {\n",
              "        vertical-align: top;\n",
              "    }\n",
              "\n",
              "    .dataframe thead th {\n",
              "        text-align: right;\n",
              "    }\n",
              "</style>\n",
              "<table border=\"1\" class=\"dataframe\">\n",
              "  <thead>\n",
              "    <tr style=\"text-align: right;\">\n",
              "      <th></th>\n",
              "      <th>trans_date_trans_time</th>\n",
              "      <th>category</th>\n",
              "      <th>amt</th>\n",
              "      <th>gender</th>\n",
              "      <th>city</th>\n",
              "      <th>state</th>\n",
              "      <th>lat</th>\n",
              "      <th>long</th>\n",
              "      <th>city_pop</th>\n",
              "      <th>job</th>\n",
              "      <th>dob</th>\n",
              "      <th>merch_lat</th>\n",
              "      <th>merch_long</th>\n",
              "      <th>is_fraud</th>\n",
              "      <th>trans_date</th>\n",
              "      <th>age_at_trans</th>\n",
              "    </tr>\n",
              "  </thead>\n",
              "  <tbody>\n",
              "    <tr>\n",
              "      <th>0</th>\n",
              "      <td>2019-01-01 00:00:18</td>\n",
              "      <td>misc_net</td>\n",
              "      <td>4.97</td>\n",
              "      <td>F</td>\n",
              "      <td>Moravian Falls</td>\n",
              "      <td>NC</td>\n",
              "      <td>36.0788</td>\n",
              "      <td>-81.1781</td>\n",
              "      <td>3495</td>\n",
              "      <td>Psychologist, counselling</td>\n",
              "      <td>1988-03-09</td>\n",
              "      <td>36.011293</td>\n",
              "      <td>-82.048315</td>\n",
              "      <td>0</td>\n",
              "      <td>2019-01-01</td>\n",
              "      <td>30.0</td>\n",
              "    </tr>\n",
              "    <tr>\n",
              "      <th>1</th>\n",
              "      <td>2019-01-01 00:00:44</td>\n",
              "      <td>grocery_pos</td>\n",
              "      <td>107.23</td>\n",
              "      <td>F</td>\n",
              "      <td>Orient</td>\n",
              "      <td>WA</td>\n",
              "      <td>48.8878</td>\n",
              "      <td>-118.2105</td>\n",
              "      <td>149</td>\n",
              "      <td>Special educational needs teacher</td>\n",
              "      <td>1978-06-21</td>\n",
              "      <td>49.159047</td>\n",
              "      <td>-118.186462</td>\n",
              "      <td>0</td>\n",
              "      <td>2019-01-01</td>\n",
              "      <td>40.0</td>\n",
              "    </tr>\n",
              "    <tr>\n",
              "      <th>2</th>\n",
              "      <td>2019-01-01 00:00:51</td>\n",
              "      <td>entertainment</td>\n",
              "      <td>220.11</td>\n",
              "      <td>M</td>\n",
              "      <td>Malad City</td>\n",
              "      <td>ID</td>\n",
              "      <td>42.1808</td>\n",
              "      <td>-112.2620</td>\n",
              "      <td>4154</td>\n",
              "      <td>Nature conservation officer</td>\n",
              "      <td>1962-01-19</td>\n",
              "      <td>43.150704</td>\n",
              "      <td>-112.154481</td>\n",
              "      <td>0</td>\n",
              "      <td>2019-01-01</td>\n",
              "      <td>56.0</td>\n",
              "    </tr>\n",
              "    <tr>\n",
              "      <th>3</th>\n",
              "      <td>2019-01-01 00:01:16</td>\n",
              "      <td>gas_transport</td>\n",
              "      <td>45.00</td>\n",
              "      <td>M</td>\n",
              "      <td>Boulder</td>\n",
              "      <td>MT</td>\n",
              "      <td>46.2306</td>\n",
              "      <td>-112.1138</td>\n",
              "      <td>1939</td>\n",
              "      <td>Patent attorney</td>\n",
              "      <td>1967-01-12</td>\n",
              "      <td>47.034331</td>\n",
              "      <td>-112.561071</td>\n",
              "      <td>0</td>\n",
              "      <td>2019-01-01</td>\n",
              "      <td>51.0</td>\n",
              "    </tr>\n",
              "    <tr>\n",
              "      <th>4</th>\n",
              "      <td>2019-01-01 00:03:06</td>\n",
              "      <td>misc_pos</td>\n",
              "      <td>41.96</td>\n",
              "      <td>M</td>\n",
              "      <td>Doe Hill</td>\n",
              "      <td>VA</td>\n",
              "      <td>38.4207</td>\n",
              "      <td>-79.4629</td>\n",
              "      <td>99</td>\n",
              "      <td>Dance movement psychotherapist</td>\n",
              "      <td>1986-03-28</td>\n",
              "      <td>38.674999</td>\n",
              "      <td>-78.632459</td>\n",
              "      <td>0</td>\n",
              "      <td>2019-01-01</td>\n",
              "      <td>32.0</td>\n",
              "    </tr>\n",
              "  </tbody>\n",
              "</table>\n",
              "</div>"
            ],
            "text/plain": [
              "  trans_date_trans_time       category  ...  trans_date age_at_trans\n",
              "0   2019-01-01 00:00:18       misc_net  ...  2019-01-01         30.0\n",
              "1   2019-01-01 00:00:44    grocery_pos  ...  2019-01-01         40.0\n",
              "2   2019-01-01 00:00:51  entertainment  ...  2019-01-01         56.0\n",
              "3   2019-01-01 00:01:16  gas_transport  ...  2019-01-01         51.0\n",
              "4   2019-01-01 00:03:06       misc_pos  ...  2019-01-01         32.0\n",
              "\n",
              "[5 rows x 16 columns]"
            ]
          },
          "metadata": {
            "tags": []
          },
          "execution_count": 13
        }
      ]
    },
    {
      "cell_type": "code",
      "metadata": {
        "colab": {
          "base_uri": "https://localhost:8080/"
        },
        "id": "g1a-9EpbZE-D",
        "outputId": "a38114f5-9ac4-4c0f-f152-e330260ea5d8"
      },
      "source": [
        "df_train1.info()"
      ],
      "execution_count": null,
      "outputs": [
        {
          "output_type": "stream",
          "text": [
            "<class 'pandas.core.frame.DataFrame'>\n",
            "RangeIndex: 1296675 entries, 0 to 1296674\n",
            "Data columns (total 16 columns):\n",
            " #   Column                 Non-Null Count    Dtype         \n",
            "---  ------                 --------------    -----         \n",
            " 0   trans_date_trans_time  1296675 non-null  datetime64[ns]\n",
            " 1   category               1296675 non-null  object        \n",
            " 2   amt                    1296675 non-null  float64       \n",
            " 3   gender                 1296675 non-null  object        \n",
            " 4   city                   1296675 non-null  object        \n",
            " 5   state                  1296675 non-null  object        \n",
            " 6   lat                    1296675 non-null  float64       \n",
            " 7   long                   1296675 non-null  float64       \n",
            " 8   city_pop               1296675 non-null  int64         \n",
            " 9   job                    1296675 non-null  object        \n",
            " 10  dob                    1296675 non-null  datetime64[ns]\n",
            " 11  merch_lat              1296675 non-null  float64       \n",
            " 12  merch_long             1296675 non-null  float64       \n",
            " 13  is_fraud               1296675 non-null  int64         \n",
            " 14  trans_date             1296675 non-null  datetime64[ns]\n",
            " 15  age_at_trans           1296675 non-null  float64       \n",
            "dtypes: datetime64[ns](3), float64(6), int64(2), object(5)\n",
            "memory usage: 158.3+ MB\n"
          ],
          "name": "stdout"
        }
      ]
    },
    {
      "cell_type": "code",
      "metadata": {
        "colab": {
          "base_uri": "https://localhost:8080/"
        },
        "id": "myXsBAyRZMFW",
        "outputId": "4a4f4654-aa4a-4aab-f679-65ac8a32fb69"
      },
      "source": [
        "df_test1.info()"
      ],
      "execution_count": null,
      "outputs": [
        {
          "output_type": "stream",
          "text": [
            "<class 'pandas.core.frame.DataFrame'>\n",
            "RangeIndex: 555719 entries, 0 to 555718\n",
            "Data columns (total 16 columns):\n",
            " #   Column                 Non-Null Count   Dtype         \n",
            "---  ------                 --------------   -----         \n",
            " 0   trans_date_trans_time  555719 non-null  datetime64[ns]\n",
            " 1   category               555719 non-null  object        \n",
            " 2   amt                    555719 non-null  float64       \n",
            " 3   gender                 555719 non-null  object        \n",
            " 4   city                   555719 non-null  object        \n",
            " 5   state                  555719 non-null  object        \n",
            " 6   lat                    555719 non-null  float64       \n",
            " 7   long                   555719 non-null  float64       \n",
            " 8   city_pop               555719 non-null  int64         \n",
            " 9   job                    555719 non-null  object        \n",
            " 10  dob                    555719 non-null  datetime64[ns]\n",
            " 11  merch_lat              555719 non-null  float64       \n",
            " 12  merch_long             555719 non-null  float64       \n",
            " 13  is_fraud               555719 non-null  int64         \n",
            " 14  trans_date             555719 non-null  datetime64[ns]\n",
            " 15  age_at_trans           555719 non-null  float64       \n",
            "dtypes: datetime64[ns](3), float64(6), int64(2), object(5)\n",
            "memory usage: 67.8+ MB\n"
          ],
          "name": "stdout"
        }
      ]
    },
    {
      "cell_type": "code",
      "metadata": {
        "colab": {
          "base_uri": "https://localhost:8080/"
        },
        "id": "9WtPb-xebYRi",
        "outputId": "d2c9b57a-47a7-4ca3-97c3-d519f2c05108"
      },
      "source": [
        "fraud_city = pd.DataFrame(df_train1.groupby('city')['is_fraud'].sum())\n",
        "fraud_city = fraud_city[fraud_city['is_fraud']>0]\n",
        "fraud_city.index"
      ],
      "execution_count": null,
      "outputs": [
        {
          "output_type": "execute_result",
          "data": {
            "text/plain": [
              "Index(['Achille', 'Acworth', 'Afton', 'Albany', 'Albuquerque', 'Alder',\n",
              "       'Aledo', 'Alexandria', 'Allenhurst', 'Allentown',\n",
              "       ...\n",
              "       'Wilmington', 'Winfield', 'Winger', 'Winnsboro', 'Winslow', 'Winter',\n",
              "       'Winthrop', 'Wittenberg', 'Yellowstone National Park', 'Zaleski'],\n",
              "      dtype='object', name='city', length=702)"
            ]
          },
          "metadata": {
            "tags": []
          },
          "execution_count": 16
        }
      ]
    },
    {
      "cell_type": "code",
      "metadata": {
        "colab": {
          "base_uri": "https://localhost:8080/"
        },
        "id": "7eHQE9DadG9v",
        "outputId": "df002cf8-4a3a-4e5a-adb8-8acbfa12f03e"
      },
      "source": [
        "fraud_state = pd.DataFrame(df_train1.groupby('state')['is_fraud'].sum())\n",
        "fraud_state = fraud_state[fraud_state['is_fraud']>0]\n",
        "fraud_state.index"
      ],
      "execution_count": null,
      "outputs": [
        {
          "output_type": "execute_result",
          "data": {
            "text/plain": [
              "Index(['AK', 'AL', 'AR', 'AZ', 'CA', 'CO', 'CT', 'DC', 'DE', 'FL', 'GA', 'HI',\n",
              "       'IA', 'ID', 'IL', 'IN', 'KS', 'KY', 'LA', 'MA', 'MD', 'ME', 'MI', 'MN',\n",
              "       'MO', 'MS', 'MT', 'NC', 'ND', 'NE', 'NH', 'NJ', 'NM', 'NV', 'NY', 'OH',\n",
              "       'OK', 'OR', 'PA', 'RI', 'SC', 'SD', 'TN', 'TX', 'UT', 'VA', 'VT', 'WA',\n",
              "       'WI', 'WV', 'WY'],\n",
              "      dtype='object', name='state')"
            ]
          },
          "metadata": {
            "tags": []
          },
          "execution_count": 17
        }
      ]
    },
    {
      "cell_type": "code",
      "metadata": {
        "colab": {
          "base_uri": "https://localhost:8080/"
        },
        "id": "JBDKxE91Xu3I",
        "outputId": "279b9799-781a-4f7e-e727-a940f155ab64"
      },
      "source": [
        "fraud_job = pd.DataFrame(df_train1.groupby('job')['is_fraud'].sum())\n",
        "fraud_job = fraud_job[fraud_job['is_fraud']>0]\n",
        "fraud_job.index"
      ],
      "execution_count": null,
      "outputs": [
        {
          "output_type": "execute_result",
          "data": {
            "text/plain": [
              "Index(['Academic librarian', 'Accountant, chartered',\n",
              "       'Accountant, chartered certified',\n",
              "       'Accountant, chartered public finance', 'Accounting technician',\n",
              "       'Acupuncturist', 'Administrator', 'Administrator, arts',\n",
              "       'Administrator, charities/voluntary organisations',\n",
              "       'Administrator, education',\n",
              "       ...\n",
              "       'Veterinary surgeon', 'Video editor', 'Volunteer coordinator',\n",
              "       'Warden/ranger', 'Warehouse manager', 'Waste management officer',\n",
              "       'Water quality scientist', 'Web designer', 'Wellsite geologist',\n",
              "       'Writer'],\n",
              "      dtype='object', name='job', length=443)"
            ]
          },
          "metadata": {
            "tags": []
          },
          "execution_count": 18
        }
      ]
    },
    {
      "cell_type": "code",
      "metadata": {
        "id": "ZOYzOLZMgLaf",
        "colab": {
          "base_uri": "https://localhost:8080/",
          "height": 204
        },
        "outputId": "f9794415-1628-4375-f4f8-a06b43155bd1"
      },
      "source": [
        "# Finding distance from customer location to merchant location in degrees latitude and degrees longitude\n",
        "\n",
        "df_train1['lat_dist'] = abs(round(df_train1['merch_lat']-df_train1['lat'],3))\n",
        "df_train1['long_dist'] = abs(round(df_train1['merch_long']-df_train1['long'],3))\n",
        "\n",
        "df_test1['lat_dist'] = abs(round(df_test1['merch_lat']-df_test1['lat'],3))\n",
        "df_test1['long_dist'] = abs(round(df_test1['merch_long']-df_test1['long'],3))\n",
        "\n",
        "df_train1[['merch_lat','lat','lat_dist','merch_long','long','long_dist']].head()"
      ],
      "execution_count": null,
      "outputs": [
        {
          "output_type": "execute_result",
          "data": {
            "text/html": [
              "<div>\n",
              "<style scoped>\n",
              "    .dataframe tbody tr th:only-of-type {\n",
              "        vertical-align: middle;\n",
              "    }\n",
              "\n",
              "    .dataframe tbody tr th {\n",
              "        vertical-align: top;\n",
              "    }\n",
              "\n",
              "    .dataframe thead th {\n",
              "        text-align: right;\n",
              "    }\n",
              "</style>\n",
              "<table border=\"1\" class=\"dataframe\">\n",
              "  <thead>\n",
              "    <tr style=\"text-align: right;\">\n",
              "      <th></th>\n",
              "      <th>merch_lat</th>\n",
              "      <th>lat</th>\n",
              "      <th>lat_dist</th>\n",
              "      <th>merch_long</th>\n",
              "      <th>long</th>\n",
              "      <th>long_dist</th>\n",
              "    </tr>\n",
              "  </thead>\n",
              "  <tbody>\n",
              "    <tr>\n",
              "      <th>0</th>\n",
              "      <td>36.011293</td>\n",
              "      <td>36.0788</td>\n",
              "      <td>0.068</td>\n",
              "      <td>-82.048315</td>\n",
              "      <td>-81.1781</td>\n",
              "      <td>0.870</td>\n",
              "    </tr>\n",
              "    <tr>\n",
              "      <th>1</th>\n",
              "      <td>49.159047</td>\n",
              "      <td>48.8878</td>\n",
              "      <td>0.271</td>\n",
              "      <td>-118.186462</td>\n",
              "      <td>-118.2105</td>\n",
              "      <td>0.024</td>\n",
              "    </tr>\n",
              "    <tr>\n",
              "      <th>2</th>\n",
              "      <td>43.150704</td>\n",
              "      <td>42.1808</td>\n",
              "      <td>0.970</td>\n",
              "      <td>-112.154481</td>\n",
              "      <td>-112.2620</td>\n",
              "      <td>0.108</td>\n",
              "    </tr>\n",
              "    <tr>\n",
              "      <th>3</th>\n",
              "      <td>47.034331</td>\n",
              "      <td>46.2306</td>\n",
              "      <td>0.804</td>\n",
              "      <td>-112.561071</td>\n",
              "      <td>-112.1138</td>\n",
              "      <td>0.447</td>\n",
              "    </tr>\n",
              "    <tr>\n",
              "      <th>4</th>\n",
              "      <td>38.674999</td>\n",
              "      <td>38.4207</td>\n",
              "      <td>0.254</td>\n",
              "      <td>-78.632459</td>\n",
              "      <td>-79.4629</td>\n",
              "      <td>0.830</td>\n",
              "    </tr>\n",
              "  </tbody>\n",
              "</table>\n",
              "</div>"
            ],
            "text/plain": [
              "   merch_lat      lat  lat_dist  merch_long      long  long_dist\n",
              "0  36.011293  36.0788     0.068  -82.048315  -81.1781      0.870\n",
              "1  49.159047  48.8878     0.271 -118.186462 -118.2105      0.024\n",
              "2  43.150704  42.1808     0.970 -112.154481 -112.2620      0.108\n",
              "3  47.034331  46.2306     0.804 -112.561071 -112.1138      0.447\n",
              "4  38.674999  38.4207     0.254  -78.632459  -79.4629      0.830"
            ]
          },
          "metadata": {
            "tags": []
          },
          "execution_count": 19
        }
      ]
    },
    {
      "cell_type": "code",
      "metadata": {
        "colab": {
          "base_uri": "https://localhost:8080/"
        },
        "id": "oioXvCRbV53e",
        "outputId": "05753801-0b52-432d-f30f-a4516e898c56"
      },
      "source": [
        "df_train1.info()"
      ],
      "execution_count": null,
      "outputs": [
        {
          "output_type": "stream",
          "text": [
            "<class 'pandas.core.frame.DataFrame'>\n",
            "RangeIndex: 1296675 entries, 0 to 1296674\n",
            "Data columns (total 18 columns):\n",
            " #   Column                 Non-Null Count    Dtype         \n",
            "---  ------                 --------------    -----         \n",
            " 0   trans_date_trans_time  1296675 non-null  datetime64[ns]\n",
            " 1   category               1296675 non-null  object        \n",
            " 2   amt                    1296675 non-null  float64       \n",
            " 3   gender                 1296675 non-null  object        \n",
            " 4   city                   1296675 non-null  object        \n",
            " 5   state                  1296675 non-null  object        \n",
            " 6   lat                    1296675 non-null  float64       \n",
            " 7   long                   1296675 non-null  float64       \n",
            " 8   city_pop               1296675 non-null  int64         \n",
            " 9   job                    1296675 non-null  object        \n",
            " 10  dob                    1296675 non-null  datetime64[ns]\n",
            " 11  merch_lat              1296675 non-null  float64       \n",
            " 12  merch_long             1296675 non-null  float64       \n",
            " 13  is_fraud               1296675 non-null  int64         \n",
            " 14  trans_date             1296675 non-null  datetime64[ns]\n",
            " 15  age_at_trans           1296675 non-null  float64       \n",
            " 16  lat_dist               1296675 non-null  float64       \n",
            " 17  long_dist              1296675 non-null  float64       \n",
            "dtypes: datetime64[ns](3), float64(8), int64(2), object(5)\n",
            "memory usage: 178.1+ MB\n"
          ],
          "name": "stdout"
        }
      ]
    },
    {
      "cell_type": "code",
      "metadata": {
        "colab": {
          "base_uri": "https://localhost:8080/",
          "height": 204
        },
        "id": "Z5ltaNXrfbIZ",
        "outputId": "89f155e8-8d0f-4c07-9343-e763d1232c78"
      },
      "source": [
        "# Creating month column\n",
        "\n",
        "df_train1['trans_month'] = pd.DatetimeIndex(df_train1['trans_date']).month\n",
        "df_test1['trans_month'] = pd.DatetimeIndex(df_test1['trans_date']).month\n",
        "\n",
        "df_train1[['trans_date_trans_time','trans_month']].head()"
      ],
      "execution_count": null,
      "outputs": [
        {
          "output_type": "execute_result",
          "data": {
            "text/html": [
              "<div>\n",
              "<style scoped>\n",
              "    .dataframe tbody tr th:only-of-type {\n",
              "        vertical-align: middle;\n",
              "    }\n",
              "\n",
              "    .dataframe tbody tr th {\n",
              "        vertical-align: top;\n",
              "    }\n",
              "\n",
              "    .dataframe thead th {\n",
              "        text-align: right;\n",
              "    }\n",
              "</style>\n",
              "<table border=\"1\" class=\"dataframe\">\n",
              "  <thead>\n",
              "    <tr style=\"text-align: right;\">\n",
              "      <th></th>\n",
              "      <th>trans_date_trans_time</th>\n",
              "      <th>trans_month</th>\n",
              "    </tr>\n",
              "  </thead>\n",
              "  <tbody>\n",
              "    <tr>\n",
              "      <th>0</th>\n",
              "      <td>2019-01-01 00:00:18</td>\n",
              "      <td>1</td>\n",
              "    </tr>\n",
              "    <tr>\n",
              "      <th>1</th>\n",
              "      <td>2019-01-01 00:00:44</td>\n",
              "      <td>1</td>\n",
              "    </tr>\n",
              "    <tr>\n",
              "      <th>2</th>\n",
              "      <td>2019-01-01 00:00:51</td>\n",
              "      <td>1</td>\n",
              "    </tr>\n",
              "    <tr>\n",
              "      <th>3</th>\n",
              "      <td>2019-01-01 00:01:16</td>\n",
              "      <td>1</td>\n",
              "    </tr>\n",
              "    <tr>\n",
              "      <th>4</th>\n",
              "      <td>2019-01-01 00:03:06</td>\n",
              "      <td>1</td>\n",
              "    </tr>\n",
              "  </tbody>\n",
              "</table>\n",
              "</div>"
            ],
            "text/plain": [
              "  trans_date_trans_time  trans_month\n",
              "0   2019-01-01 00:00:18            1\n",
              "1   2019-01-01 00:00:44            1\n",
              "2   2019-01-01 00:00:51            1\n",
              "3   2019-01-01 00:01:16            1\n",
              "4   2019-01-01 00:03:06            1"
            ]
          },
          "metadata": {
            "tags": []
          },
          "execution_count": 21
        }
      ]
    },
    {
      "cell_type": "code",
      "metadata": {
        "colab": {
          "base_uri": "https://localhost:8080/"
        },
        "id": "YyWhzyUap7O2",
        "outputId": "3f282569-8c1f-4bcd-b31d-49919de5e03a"
      },
      "source": [
        "df_train1.info()"
      ],
      "execution_count": null,
      "outputs": [
        {
          "output_type": "stream",
          "text": [
            "<class 'pandas.core.frame.DataFrame'>\n",
            "RangeIndex: 1296675 entries, 0 to 1296674\n",
            "Data columns (total 19 columns):\n",
            " #   Column                 Non-Null Count    Dtype         \n",
            "---  ------                 --------------    -----         \n",
            " 0   trans_date_trans_time  1296675 non-null  datetime64[ns]\n",
            " 1   category               1296675 non-null  object        \n",
            " 2   amt                    1296675 non-null  float64       \n",
            " 3   gender                 1296675 non-null  object        \n",
            " 4   city                   1296675 non-null  object        \n",
            " 5   state                  1296675 non-null  object        \n",
            " 6   lat                    1296675 non-null  float64       \n",
            " 7   long                   1296675 non-null  float64       \n",
            " 8   city_pop               1296675 non-null  int64         \n",
            " 9   job                    1296675 non-null  object        \n",
            " 10  dob                    1296675 non-null  datetime64[ns]\n",
            " 11  merch_lat              1296675 non-null  float64       \n",
            " 12  merch_long             1296675 non-null  float64       \n",
            " 13  is_fraud               1296675 non-null  int64         \n",
            " 14  trans_date             1296675 non-null  datetime64[ns]\n",
            " 15  age_at_trans           1296675 non-null  float64       \n",
            " 16  lat_dist               1296675 non-null  float64       \n",
            " 17  long_dist              1296675 non-null  float64       \n",
            " 18  trans_month            1296675 non-null  int64         \n",
            "dtypes: datetime64[ns](3), float64(8), int64(3), object(5)\n",
            "memory usage: 188.0+ MB\n"
          ],
          "name": "stdout"
        }
      ]
    },
    {
      "cell_type": "code",
      "metadata": {
        "colab": {
          "base_uri": "https://localhost:8080/"
        },
        "id": "YvAM7lhrMqNK",
        "outputId": "0d0c82b8-6e3d-4ee1-a898-fd3a9ccf57de"
      },
      "source": [
        "df_train1.nunique()"
      ],
      "execution_count": null,
      "outputs": [
        {
          "output_type": "execute_result",
          "data": {
            "text/plain": [
              "trans_date_trans_time    1274791\n",
              "category                      14\n",
              "amt                        52928\n",
              "gender                         2\n",
              "city                         894\n",
              "state                         51\n",
              "lat                          968\n",
              "long                         969\n",
              "city_pop                     879\n",
              "job                          494\n",
              "dob                          968\n",
              "merch_lat                1247805\n",
              "merch_long               1275745\n",
              "is_fraud                       2\n",
              "trans_date                   537\n",
              "age_at_trans                  83\n",
              "lat_dist                    1001\n",
              "long_dist                   1001\n",
              "trans_month                   12\n",
              "dtype: int64"
            ]
          },
          "metadata": {
            "tags": []
          },
          "execution_count": 23
        }
      ]
    },
    {
      "cell_type": "code",
      "metadata": {
        "colab": {
          "base_uri": "https://localhost:8080/"
        },
        "id": "n6LA7nEdM7YK",
        "outputId": "a8895de8-d905-4465-9a02-3bd2d14ffa9e"
      },
      "source": [
        "df_test1.nunique()"
      ],
      "execution_count": null,
      "outputs": [
        {
          "output_type": "execute_result",
          "data": {
            "text/plain": [
              "trans_date_trans_time    544760\n",
              "category                     14\n",
              "amt                       37256\n",
              "gender                        2\n",
              "city                        849\n",
              "state                        50\n",
              "lat                         910\n",
              "long                        910\n",
              "city_pop                    835\n",
              "job                         478\n",
              "dob                         910\n",
              "merch_lat                546490\n",
              "merch_long               551770\n",
              "is_fraud                      2\n",
              "trans_date                  194\n",
              "age_at_trans                 82\n",
              "lat_dist                   1001\n",
              "long_dist                  1001\n",
              "trans_month                   7\n",
              "dtype: int64"
            ]
          },
          "metadata": {
            "tags": []
          },
          "execution_count": 24
        }
      ]
    },
    {
      "cell_type": "markdown",
      "metadata": {
        "id": "9hhyhrxDLl3H"
      },
      "source": [
        "#### Checking if there are any highly skewed categorical variables"
      ]
    },
    {
      "cell_type": "code",
      "metadata": {
        "colab": {
          "base_uri": "https://localhost:8080/"
        },
        "id": "f1hKjuopGyKt",
        "outputId": "9edcc1ee-b8f7-41a2-fb06-40d79ef33e3a"
      },
      "source": [
        "round(df_train1['category'].value_counts()/len(df_train1.index)*100,2)"
      ],
      "execution_count": null,
      "outputs": [
        {
          "output_type": "execute_result",
          "data": {
            "text/plain": [
              "gas_transport     10.15\n",
              "grocery_pos        9.54\n",
              "home               9.49\n",
              "shopping_pos       9.00\n",
              "kids_pets          8.72\n",
              "shopping_net       7.52\n",
              "entertainment      7.25\n",
              "food_dining        7.05\n",
              "personal_care      7.00\n",
              "health_fitness     6.62\n",
              "misc_pos           6.14\n",
              "misc_net           4.88\n",
              "grocery_net        3.51\n",
              "travel             3.12\n",
              "Name: category, dtype: float64"
            ]
          },
          "metadata": {
            "tags": []
          },
          "execution_count": 25
        }
      ]
    },
    {
      "cell_type": "code",
      "metadata": {
        "colab": {
          "base_uri": "https://localhost:8080/"
        },
        "id": "1_6t_7clJIPB",
        "outputId": "5992fb58-c106-415a-d065-caca5de410f8"
      },
      "source": [
        "round(df_train1['gender'].value_counts()/len(df_train1.index)*100,2)"
      ],
      "execution_count": null,
      "outputs": [
        {
          "output_type": "execute_result",
          "data": {
            "text/plain": [
              "F    54.74\n",
              "M    45.26\n",
              "Name: gender, dtype: float64"
            ]
          },
          "metadata": {
            "tags": []
          },
          "execution_count": 26
        }
      ]
    },
    {
      "cell_type": "code",
      "metadata": {
        "colab": {
          "base_uri": "https://localhost:8080/"
        },
        "id": "O9GL1a8XJSGe",
        "outputId": "01698014-c690-449d-c810-dd0b30540084"
      },
      "source": [
        "round(df_train1['city'].value_counts()/len(df_train1.index)*100,2)"
      ],
      "execution_count": null,
      "outputs": [
        {
          "output_type": "execute_result",
          "data": {
            "text/plain": [
              "Birmingham                   0.43\n",
              "San Antonio                  0.40\n",
              "Utica                        0.39\n",
              "Phoenix                      0.39\n",
              "Meridian                     0.39\n",
              "Thomas                       0.36\n",
              "Conway                       0.36\n",
              "Cleveland                    0.36\n",
              "Warren                       0.35\n",
              "Houston                      0.32\n",
              "Burbank                      0.32\n",
              "Naples                       0.32\n",
              "Arcadia                      0.32\n",
              "Indianapolis                 0.31\n",
              "Brandon                      0.31\n",
              "Fulton                       0.31\n",
              "Lahoma                       0.28\n",
              "Allentown                    0.28\n",
              "Lakeland                     0.28\n",
              "Dallas                       0.28\n",
              "Washington                   0.28\n",
              "Andrews                      0.28\n",
              "Detroit                      0.28\n",
              "Huntsville                   0.27\n",
              "Hudson                       0.27\n",
              "Orient                       0.27\n",
              "Fort Washakie                0.27\n",
              "Philadelphia                 0.27\n",
              "Uledi                        0.24\n",
              "Elberta                      0.24\n",
              "Superior                     0.24\n",
              "Bradley                      0.24\n",
              "Moorhead                     0.24\n",
              "Hinesburg                    0.24\n",
              "Hinckley                     0.24\n",
              "Wilmington                   0.24\n",
              "Bowdoin                      0.24\n",
              "De Witt                      0.24\n",
              "Morrisdale                   0.24\n",
              "Cottekill                    0.24\n",
              "Littleton                    0.24\n",
              "East Canaan                  0.24\n",
              "Centerview                   0.24\n",
              "Tulsa                        0.24\n",
              "Jones                        0.24\n",
              "De Soto                      0.24\n",
              "Bauxite                      0.24\n",
              "Plainfield                   0.24\n",
              "Whaleyville                  0.24\n",
              "Heart Butte                  0.24\n",
              "Wetmore                      0.24\n",
              "Walnut Ridge                 0.24\n",
              "Norwalk                      0.24\n",
              "Thrall                       0.24\n",
              "Baton Rouge                  0.24\n",
              "Sutherland                   0.24\n",
              "Gadsden                      0.24\n",
              "Shields                      0.24\n",
              "Tupper Lake                  0.24\n",
              "Goodrich                     0.24\n",
              "Florence                     0.23\n",
              "Rocky Mount                  0.23\n",
              "Thompson                     0.23\n",
              "Norman                       0.23\n",
              "Grandview                    0.23\n",
              "Roma                         0.23\n",
              "Newhall                      0.23\n",
              "Topeka                       0.23\n",
              "Sebring                      0.23\n",
              "Manistique                   0.23\n",
              "Sun City                     0.23\n",
              "Reno                         0.23\n",
              "Lomax                        0.23\n",
              "Ranier                       0.23\n",
              "Thida                        0.23\n",
              "Westport                     0.23\n",
              "Kingsford Heights            0.23\n",
              "Edisto Island                0.23\n",
              "Clarks Mills                 0.23\n",
              "Pembroke Township            0.22\n",
              "Ruckersville                 0.20\n",
              "Oakland                      0.20\n",
              "Glendale                     0.20\n",
              "Espanola                     0.20\n",
              "Issaquah                     0.20\n",
              "Ronceverte                   0.20\n",
              "Lawrence                     0.20\n",
              "San Diego                    0.20\n",
              "Sachse                       0.20\n",
              "Sherman                      0.20\n",
              "Knoxville                    0.20\n",
              "Johns Island                 0.20\n",
              "Grover                       0.20\n",
              "Bagley                       0.20\n",
              "Key West                     0.20\n",
              "West Sayville                0.20\n",
              "Scotland                     0.20\n",
              "Red River                    0.20\n",
              "Bellmore                     0.20\n",
              "Murfreesboro                 0.20\n",
              "Esbon                        0.20\n",
              "Stanchfield                  0.20\n",
              "Lanark Village               0.20\n",
              "North Wilkesboro             0.20\n",
              "New Holstein                 0.20\n",
              "Elizabeth                    0.20\n",
              "Smiths Grove                 0.20\n",
              "Leonard                      0.20\n",
              "Moundsville                  0.20\n",
              "Kensington                   0.20\n",
              "New York City                0.20\n",
              "Hannawa Falls                0.20\n",
              "Alpharetta                   0.20\n",
              "Rock Springs                 0.20\n",
              "Edmond                       0.20\n",
              "Muskegon                     0.20\n",
              "Wichita                      0.20\n",
              "Meadville                    0.20\n",
              "Lake Jackson                 0.20\n",
              "Blooming Grove               0.20\n",
              "Haw River                    0.20\n",
              "Moriarty                     0.20\n",
              "Bessemer                     0.20\n",
              "Spencer                      0.20\n",
              "Cochranton                   0.20\n",
              "Winfield                     0.20\n",
              "Fenelton                     0.20\n",
              "Springfield                  0.20\n",
              "Romulus                      0.20\n",
              "Drakes Branch                0.20\n",
              "Diamond                      0.20\n",
              "Oolitic                      0.20\n",
              "Denham Springs               0.20\n",
              "Armagh                       0.20\n",
              "Mobile                       0.20\n",
              "Camden                       0.20\n",
              "Mulberry Grove               0.20\n",
              "Redford                      0.20\n",
              "Fayetteville                 0.19\n",
              "Milford                      0.19\n",
              "Saint Amant                  0.19\n",
              "Fort Myers                   0.19\n",
              "Hancock                      0.19\n",
              "Brunson                      0.19\n",
              "Tekoa                        0.19\n",
              "Murrayville                  0.19\n",
              "Woodville                    0.16\n",
              "Harrodsburg                  0.16\n",
              "Tyler                        0.16\n",
              "Barneveld                    0.16\n",
              "Acworth                      0.16\n",
              "Saxon                        0.16\n",
              "Wilmette                     0.16\n",
              "Napa                         0.16\n",
              "Basye                        0.16\n",
              "Barnstable                   0.16\n",
              "Altonah                      0.16\n",
              "Grassflat                    0.16\n",
              "Coffeeville                  0.16\n",
              "Mount Hope                   0.16\n",
              "Sontag                       0.16\n",
              "Mount Saint Joseph           0.16\n",
              "Bridger                      0.16\n",
              "Holstein                     0.16\n",
              "Falconer                     0.16\n",
              "Steuben                      0.16\n",
              "Cisco                        0.16\n",
              "Catawba                      0.16\n",
              "Cokeburg                     0.16\n",
              "Summerfield                  0.16\n",
              "Comfrey                      0.16\n",
              "Heiskell                     0.16\n",
              "Pointe Aux Pins              0.16\n",
              "Creedmoor                    0.16\n",
              "High Rolls Mountain Park     0.16\n",
              "Corriganville                0.16\n",
              "Lawn                         0.16\n",
              "Lohrville                    0.16\n",
              "Brownville                   0.16\n",
              "Atlantic                     0.16\n",
              "Noonan                       0.16\n",
              "New Boston                   0.16\n",
              "Dunlevy                      0.16\n",
              "Holliday                     0.16\n",
              "Louisville                   0.16\n",
              "North Prairie                0.16\n",
              "Saint Paul                   0.16\n",
              "Keisterville                 0.16\n",
              "Oconto Falls                 0.16\n",
              "Mc Veytown                   0.16\n",
              "Mc Nabb                      0.16\n",
              "Winger                       0.16\n",
              "Pittsburgh                   0.16\n",
              "Methuen                      0.16\n",
              "Scotia                       0.16\n",
              "Holcomb                      0.16\n",
              "Georgetown                   0.16\n",
              "Plantersville                0.16\n",
              "Bronx                        0.16\n",
              "Matawan                      0.16\n",
              "Freedom                      0.16\n",
              "Shippingport                 0.16\n",
              "Tallmansville                0.16\n",
              "Rock Tavern                  0.16\n",
              "O Brien                      0.16\n",
              "Egan                         0.16\n",
              "Altair                       0.16\n",
              "West Hartford                0.16\n",
              "Nobleboro                    0.16\n",
              "Grant                        0.16\n",
              "Westerville                  0.16\n",
              "Sacramento                   0.16\n",
              "Southfield                   0.16\n",
              "Bolton                       0.16\n",
              "Fiddletown                   0.16\n",
              "Notrees                      0.16\n",
              "Saint Bonaventure            0.16\n",
              "Breesport                    0.16\n",
              "Marathon                     0.16\n",
              "Hurricane                    0.16\n",
              "Hooper                       0.16\n",
              "Cascade Locks                0.16\n",
              "Mesa                         0.16\n",
              "Kansas City                  0.16\n",
              "Graniteville                 0.16\n",
              "Logan                        0.16\n",
              "Belgrade                     0.16\n",
              "Ogdensburg                   0.16\n",
              "Nazareth                     0.16\n",
              "Wheaton                      0.16\n",
              "Tomales                      0.16\n",
              "Wilton                       0.16\n",
              "Burlington                   0.16\n",
              "Fordoche                     0.16\n",
              "Clayton                      0.16\n",
              "Mound City                   0.16\n",
              "Meredith                     0.16\n",
              "Parsonsfield                 0.16\n",
              "North Washington             0.16\n",
              "Coleharbor                   0.16\n",
              "Carlotta                     0.16\n",
              "Mayersville                  0.16\n",
              "Monmouth Beach               0.16\n",
              "Afton                        0.16\n",
              "Altona                       0.16\n",
              "Leo                          0.16\n",
              "Falmouth                     0.16\n",
              "Ratcliff                     0.16\n",
              "Brooklyn                     0.16\n",
              "Schaefferstown               0.16\n",
              "Cromona                      0.16\n",
              "Enola                        0.16\n",
              "Mountain Park                0.16\n",
              "North Loup                   0.16\n",
              "Saint Petersburg             0.16\n",
              "San Jose                     0.16\n",
              "Avoca                        0.16\n",
              "Lonsdale                     0.16\n",
              "Moravian Falls               0.16\n",
              "Mifflin                      0.16\n",
              "Roosevelt                    0.16\n",
              "Plymouth                     0.16\n",
              "Harper                       0.16\n",
              "Manderson                    0.16\n",
              "Shenandoah Junction          0.16\n",
              "Hewitt                       0.16\n",
              "Greenwich                    0.16\n",
              "May                          0.16\n",
              "Sheffield                    0.16\n",
              "Clarinda                     0.16\n",
              "Laramie                      0.16\n",
              "Prairie Hill                 0.16\n",
              "Doe Hill                     0.16\n",
              "Surrency                     0.16\n",
              "Tyaskin                      0.16\n",
              "Mallie                       0.16\n",
              "Cord                         0.16\n",
              "Arnold                       0.16\n",
              "Port Costa                   0.16\n",
              "Helm                         0.15\n",
              "Manville                     0.15\n",
              "Phenix City                  0.15\n",
              "Riverton                     0.15\n",
              "Garrattsville                0.15\n",
              "Kirby                        0.15\n",
              "Lakeport                     0.15\n",
              "Battle Creek                 0.15\n",
              "Delhi                        0.12\n",
              "Blackville                   0.12\n",
              "Beaver Falls                 0.12\n",
              "Sturgis                      0.12\n",
              "Mount Morris                 0.12\n",
              "Kissee Mills                 0.12\n",
              "Lake Oswego                  0.12\n",
              "Milwaukee                    0.12\n",
              "Clarksville                  0.12\n",
              "West Palm Beach              0.12\n",
              "Fairview                     0.12\n",
              "Deadwood                     0.12\n",
              "Wales                        0.12\n",
              "Luray                        0.12\n",
              "Oaks                         0.12\n",
              "Great Mills                  0.12\n",
              "Cherokee Village             0.12\n",
              "Grenada                      0.12\n",
              "Harborcreek                  0.12\n",
              "Moulton                      0.12\n",
              "Cass                         0.12\n",
              "Columbia                     0.12\n",
              "Bay Minette                  0.12\n",
              "Mc Cracken                   0.12\n",
              "Coleman                      0.12\n",
              "Dieterich                    0.12\n",
              "Independence                 0.12\n",
              "Greenview                    0.12\n",
              "New Ellenton                 0.12\n",
              "Eugene                       0.12\n",
              "Seneca                       0.12\n",
              "East Andover                 0.12\n",
              "Zaleski                      0.12\n",
              "Elizabethtown                0.12\n",
              "West Columbia                0.12\n",
              "Oxford                       0.12\n",
              "Lowell                       0.12\n",
              "Big Indian                   0.12\n",
              "Loxahatchee                  0.12\n",
              "Juliette                     0.12\n",
              "Indian Wells                 0.12\n",
              "Des Moines                   0.12\n",
              "Montandon                    0.12\n",
              "Fullerton                    0.12\n",
              "North Judson                 0.12\n",
              "Vero Beach                   0.12\n",
              "Viola                        0.12\n",
              "Quanah                       0.12\n",
              "Paulding                     0.12\n",
              "Jermyn                       0.12\n",
              "Athena                       0.12\n",
              "Smackover                    0.12\n",
              "Shelter Island               0.12\n",
              "Greendale                    0.12\n",
              "Saint James City             0.12\n",
              "Cuyahoga Falls               0.12\n",
              "Washington Court House       0.12\n",
              "Oak Hill                     0.12\n",
              "Rule                         0.12\n",
              "Irwinton                     0.12\n",
              "Stirling                     0.12\n",
              "Fields Landing               0.12\n",
              "Lima                         0.12\n",
              "Ballwin                      0.12\n",
              "Colorado Springs             0.12\n",
              "Ruth                         0.12\n",
              "Manchester                   0.12\n",
              "Tomahawk                     0.12\n",
              "Bowersville                  0.12\n",
              "Cazenovia                    0.12\n",
              "Ozawkie                      0.12\n",
              "Laguna Hills                 0.12\n",
              "Howells                      0.12\n",
              "Browning                     0.12\n",
              "New Waverly                  0.12\n",
              "University                   0.12\n",
              "Randolph                     0.12\n",
              "Grand Junction               0.12\n",
              "Clay Center                  0.12\n",
              "Margaretville                0.12\n",
              "Belmond                      0.12\n",
              "Irvine                       0.12\n",
              "Cedar                        0.12\n",
              "Mansfield                    0.12\n",
              "Eldridge                     0.12\n",
              "Newark Valley                0.12\n",
              "Comfort                      0.12\n",
              "Stephensport                 0.12\n",
              "Hawthorne                    0.12\n",
              "Baroda                       0.12\n",
              "Santa Monica                 0.12\n",
              "Moro                         0.12\n",
              "Ruidoso                      0.12\n",
              "Henderson                    0.12\n",
              "Zavalla                      0.12\n",
              "Palermo                      0.12\n",
              "Lamberton                    0.12\n",
              "Manley                       0.12\n",
              "Jefferson                    0.12\n",
              "Port Gibson                  0.12\n",
              "Arlington                    0.12\n",
              "Mount Perry                  0.12\n",
              "Turner                       0.12\n",
              "Kilgore                      0.12\n",
              "Darien                       0.12\n",
              "Hahira                       0.12\n",
              "Chester Heights              0.12\n",
              "North Augusta                0.12\n",
              "Daly City                    0.12\n",
              "Laredo                       0.12\n",
              "Paint Rock                   0.12\n",
              "Hopkins                      0.12\n",
              "Bonfield                     0.12\n",
              "Amanda                       0.12\n",
              "Tower Hill                   0.12\n",
              "Lowville                     0.12\n",
              "Cecilton                     0.12\n",
              "Center Point                 0.12\n",
              "Kenner                       0.12\n",
              "June Lake                    0.12\n",
              "Port Ewen                    0.12\n",
              "Paauilo                      0.12\n",
              "Jelm                         0.12\n",
              "Scarborough                  0.12\n",
              "Princeton                    0.12\n",
              "Highland                     0.12\n",
              "Titusville                   0.12\n",
              "Gardiner                     0.12\n",
              "Joliet                       0.12\n",
              "Purmela                      0.12\n",
              "Holloway                     0.12\n",
              "Karnack                      0.12\n",
              "West Harrison                0.12\n",
              "Whigham                      0.12\n",
              "Ollie                        0.12\n",
              "Keller                       0.12\n",
              "Marienville                  0.12\n",
              "Hawley                       0.12\n",
              "Mounds                       0.12\n",
              "Valdosta                     0.12\n",
              "Cadiz                        0.12\n",
              "Gretna                       0.12\n",
              "Munith                       0.12\n",
              "Mill Creek                   0.12\n",
              "River                        0.12\n",
              "Eureka                       0.12\n",
              "Minneapolis                  0.12\n",
              "Norman Park                  0.12\n",
              "Matthews                     0.12\n",
              "Coyle                        0.12\n",
              "Orangeburg                   0.12\n",
              "Harrington Park              0.12\n",
              "Cranks                       0.12\n",
              "Mooresville                  0.12\n",
              "Big Creek                    0.12\n",
              "Powell                       0.12\n",
              "Bridgeport                   0.12\n",
              "Corsica                      0.12\n",
              "Ash Flat                     0.12\n",
              "Collettsville                0.12\n",
              "Blairstown                   0.12\n",
              "Hatch                        0.12\n",
              "Sula                         0.12\n",
              "Lolita                       0.12\n",
              "Timberville                  0.12\n",
              "Campbell                     0.12\n",
              "Bristol                      0.12\n",
              "Bailey                       0.12\n",
              "Dumont                       0.12\n",
              "Cowlesville                  0.12\n",
              "Ford                         0.12\n",
              "Payson                       0.12\n",
              "Elkhart                      0.12\n",
              "Waupaca                      0.12\n",
              "Varnell                      0.12\n",
              "Belfast                      0.12\n",
              "Creola                       0.12\n",
              "Moab                         0.12\n",
              "Farmington                   0.12\n",
              "Spring Church                0.12\n",
              "Rhame                        0.11\n",
              "Burke                        0.11\n",
              "West Henrietta               0.11\n",
              "Deane                        0.11\n",
              "Hampton                      0.08\n",
              "Christine                    0.08\n",
              "Greenville                   0.08\n",
              "North Tonawanda              0.08\n",
              "Dubre                        0.08\n",
              "Albany                       0.08\n",
              "Texarkana                    0.08\n",
              "Winter                       0.08\n",
              "Oran                         0.08\n",
              "Ridgeland                    0.08\n",
              "Lonetree                     0.08\n",
              "Bristow                      0.08\n",
              "Alva                         0.08\n",
              "Maysville                    0.08\n",
              "Parks                        0.08\n",
              "Pomona                       0.08\n",
              "Pelham                       0.08\n",
              "Smock                        0.08\n",
              "Beasley                      0.08\n",
              "Alexandria                   0.08\n",
              "Pueblo                       0.08\n",
              "Halma                        0.08\n",
              "Boonton                      0.08\n",
              "Amsterdam                    0.08\n",
              "Colton                       0.08\n",
              "Heislerville                 0.08\n",
              "Brinson                      0.08\n",
              "Stayton                      0.08\n",
              "Hurley                       0.08\n",
              "Clifton                      0.08\n",
              "Umatilla                     0.08\n",
              "American Fork                0.08\n",
              "Kent                         0.08\n",
              "Kirk                         0.08\n",
              "Edinburg                     0.08\n",
              "Gibsonville                  0.08\n",
              "Sixes                        0.08\n",
              "Carroll                      0.08\n",
              "Carlisle                     0.08\n",
              "Pewee Valley                 0.08\n",
              "Iliff                        0.08\n",
              "Sauk Rapids                  0.08\n",
              "Winslow                      0.08\n",
              "Ashford                      0.08\n",
              "Queenstown                   0.08\n",
              "Orr                          0.08\n",
              "Downsville                   0.08\n",
              "East Troy                    0.08\n",
              "Pikesville                   0.08\n",
              "West Green                   0.08\n",
              "Mount Clemens                0.08\n",
              "Slayden                      0.08\n",
              "Duncan                       0.08\n",
              "Belle Fourche                0.08\n",
              "Weeping Water                0.08\n",
              "Port Richey                  0.08\n",
              "Spearsville                  0.08\n",
              "Grantham                     0.08\n",
              "Easton                       0.08\n",
              "Auburn                       0.08\n",
              "Jordanville                  0.08\n",
              "Pembroke                     0.08\n",
              "Paradise Valley              0.08\n",
              "Montrose                     0.08\n",
              "Eagarville                   0.08\n",
              "Aledo                        0.08\n",
              "Olmsted                      0.08\n",
              "Westhampton Beach            0.08\n",
              "Grand Bay                    0.08\n",
              "Rumely                       0.08\n",
              "Higganum                     0.08\n",
              "Milner                       0.08\n",
              "Marion                       0.08\n",
              "Honokaa                      0.08\n",
              "Bethel Springs               0.08\n",
              "Ashfield                     0.08\n",
              "Oklahoma City                0.08\n",
              "Halstad                      0.08\n",
              "Smith River                  0.08\n",
              "Stillwater                   0.08\n",
              "Saint Louis                  0.08\n",
              "Scotts Mills                 0.08\n",
              "Lakeview                     0.08\n",
              "Central                      0.08\n",
              "Phil Campbell                0.08\n",
              "Vinton                       0.08\n",
              "Lubbock                      0.08\n",
              "Grand Ridge                  0.08\n",
              "Unionville                   0.08\n",
              "Cuthbert                     0.08\n",
              "Cape Coral                   0.08\n",
              "Glen Rock                    0.08\n",
              "Corona                       0.08\n",
              "Port Charlotte               0.08\n",
              "Metairie                     0.08\n",
              "Cressona                     0.08\n",
              "Avera                        0.08\n",
              "West Decatur                 0.08\n",
              "Nelson                       0.08\n",
              "Beaverdam                    0.08\n",
              "Tampa                        0.08\n",
              "Center Tuftonboro            0.08\n",
              "Albuquerque                  0.08\n",
              "Deltona                      0.08\n",
              "Cross Plains                 0.08\n",
              "Melbourne                    0.08\n",
              "Goreville                    0.08\n",
              "Barnard                      0.08\n",
              "Llano                        0.08\n",
              "Shrewsbury                   0.08\n",
              "Minnesota Lake               0.08\n",
              "Clune                        0.08\n",
              "Blairsden-Graeagle           0.08\n",
              "Hedley                       0.08\n",
              "Bolivar                      0.08\n",
              "Portland                     0.08\n",
              "Dongola                      0.08\n",
              "Watertown                    0.08\n",
              "South Hero                   0.08\n",
              "West Eaton                   0.08\n",
              "Falls Church                 0.08\n",
              "Bay City                     0.08\n",
              "Heidelberg                   0.08\n",
              "Union                        0.08\n",
              "Ringwood                     0.08\n",
              "Alder                        0.08\n",
              "Greenwood                    0.08\n",
              "Brantley                     0.08\n",
              "Sterling City                0.08\n",
              "Armonk                       0.08\n",
              "Chester                      0.08\n",
              "West Monroe                  0.08\n",
              "Emporium                     0.08\n",
              "Roseland                     0.08\n",
              "Canton                       0.08\n",
              "Brooklin                     0.08\n",
              "Newberg                      0.08\n",
              "Churubusco                   0.08\n",
              "Mountain Center              0.08\n",
              "Tamaroa                      0.08\n",
              "Gregory                      0.08\n",
              "Allenhurst                   0.08\n",
              "Montgomery                   0.08\n",
              "Schaumburg                   0.08\n",
              "Kirtland Afb                 0.08\n",
              "Haynes                       0.08\n",
              "Veedersburg                  0.08\n",
              "Oriskany Falls               0.08\n",
              "Manor                        0.08\n",
              "Parkers Lake                 0.08\n",
              "Lebanon                      0.08\n",
              "Atglen                       0.08\n",
              "Tickfaw                      0.08\n",
              "Haines City                  0.08\n",
              "South Londonderry            0.08\n",
              "Tiptonville                  0.08\n",
              "Harwood                      0.08\n",
              "Glade Spring                 0.08\n",
              "Prosperity                   0.08\n",
              "Wauchula                     0.08\n",
              "Vanderbilt                   0.08\n",
              "Humble                       0.08\n",
              "Crownpoint                   0.08\n",
              "Norwich                      0.08\n",
              "Leetsdale                    0.08\n",
              "Rockwood                     0.08\n",
              "Miamisburg                   0.08\n",
              "Mendon                       0.08\n",
              "Grimesland                   0.08\n",
              "Hedrick                      0.08\n",
              "Belmont                      0.08\n",
              "Luzerne                      0.08\n",
              "Waukesha                     0.08\n",
              "Reynolds                     0.08\n",
              "Kingsport                    0.08\n",
              "Lagrange                     0.08\n",
              "Alton                        0.08\n",
              "Tryon                        0.08\n",
              "Hovland                      0.08\n",
              "Falls City                   0.08\n",
              "Burrton                      0.07\n",
              "Clearwater                   0.04\n",
              "Dublin                       0.04\n",
              "Providence                   0.04\n",
              "Sprague                      0.04\n",
              "Huslia                       0.04\n",
              "Vienna                       0.04\n",
              "Curlew                       0.04\n",
              "El Paso                      0.04\n",
              "Old Hickory                  0.04\n",
              "Pecos                        0.04\n",
              "Winthrop                     0.04\n",
              "East Rochester               0.04\n",
              "Gainesville                  0.04\n",
              "Linthicum Heights            0.04\n",
              "Smithfield                   0.04\n",
              "Maria Stein                  0.04\n",
              "Mc Intosh                    0.04\n",
              "Jaffrey                      0.04\n",
              "New Memphis                  0.04\n",
              "Prairie Creek                0.04\n",
              "Achille                      0.04\n",
              "North Haverhill              0.04\n",
              "Tuscarora                    0.04\n",
              "Benton                       0.04\n",
              "Brainard                     0.04\n",
              "Dadeville                    0.04\n",
              "Paris                        0.04\n",
              "Hazel                        0.04\n",
              "Daniels                      0.04\n",
              "Pearlington                  0.04\n",
              "White Sulphur Springs        0.04\n",
              "Claremont                    0.04\n",
              "Elk Rapids                   0.04\n",
              "Burns Flat                   0.04\n",
              "Newton                       0.04\n",
              "Fairhope                     0.04\n",
              "Livonia                      0.04\n",
              "Galatia                      0.04\n",
              "Spring                       0.04\n",
              "Annapolis                    0.04\n",
              "Yellowstone National Park    0.04\n",
              "Saint Francis                0.04\n",
              "Dalton                       0.04\n",
              "Williamsburg                 0.04\n",
              "North Las Vegas              0.04\n",
              "Oakford                      0.04\n",
              "Monitor                      0.04\n",
              "Clutier                      0.04\n",
              "Skytop                       0.04\n",
              "Powell Butte                 0.04\n",
              "Odessa                       0.04\n",
              "Preston                      0.04\n",
              "Knowlesville                 0.04\n",
              "Red Cliff                    0.04\n",
              "Remer                        0.04\n",
              "Damascus                     0.04\n",
              "Sardis                       0.04\n",
              "Ironton                      0.04\n",
              "Du Pont                      0.04\n",
              "Jordan Valley                0.04\n",
              "Bigelow                      0.04\n",
              "Los Angeles                  0.04\n",
              "Emmons                       0.04\n",
              "New Goshen                   0.04\n",
              "Cassatt                      0.04\n",
              "Kittery Point                0.04\n",
              "Cross                        0.04\n",
              "Ravenna                      0.04\n",
              "De Queen                     0.04\n",
              "Stoneham                     0.04\n",
              "Newport                      0.04\n",
              "West Long Branch             0.04\n",
              "Boyd                         0.04\n",
              "Springfield Gardens          0.04\n",
              "Apison                       0.04\n",
              "Washoe Valley                0.04\n",
              "Paxton                       0.04\n",
              "Waynesfield                  0.04\n",
              "Bonita Springs               0.04\n",
              "Ferney                       0.04\n",
              "Ehrhardt                     0.04\n",
              "West Chazy                   0.04\n",
              "Westfir                      0.04\n",
              "Greenbush                    0.04\n",
              "Dayton                       0.04\n",
              "Omaha                        0.04\n",
              "Adams                        0.04\n",
              "Hills                        0.04\n",
              "Republic                     0.04\n",
              "Richland                     0.04\n",
              "Moscow                       0.04\n",
              "Williams                     0.04\n",
              "Brashear                     0.04\n",
              "Harmony                      0.04\n",
              "Arvada                       0.04\n",
              "North Brookfield             0.04\n",
              "Dexter                       0.04\n",
              "Wendel                       0.04\n",
              "Rockwell                     0.04\n",
              "Girard                       0.04\n",
              "Woods Cross                  0.04\n",
              "Etlan                        0.04\n",
              "Kingsville                   0.04\n",
              "Gaithersburg                 0.04\n",
              "Port Saint Lucie             0.04\n",
              "Iselin                       0.04\n",
              "Sunflower                    0.04\n",
              "Liberty Mills                0.04\n",
              "Putnam                       0.04\n",
              "Aurora                       0.04\n",
              "Wittenberg                   0.04\n",
              "West Bethel                  0.04\n",
              "Akron                        0.04\n",
              "Cardwell                     0.04\n",
              "Manquin                      0.04\n",
              "Rosewood                     0.04\n",
              "Trenton                      0.04\n",
              "Amorita                      0.04\n",
              "Mc Clellandtown              0.04\n",
              "Huntington Beach             0.04\n",
              "Marietta                     0.04\n",
              "Parker                       0.04\n",
              "Bynum                        0.04\n",
              "Oakdale                      0.04\n",
              "Syracuse                     0.04\n",
              "Premier                      0.04\n",
              "Parker Dam                   0.04\n",
              "Valentine                    0.04\n",
              "Louisiana                    0.04\n",
              "Bethel                       0.04\n",
              "Lepanto                      0.04\n",
              "Palmdale                     0.04\n",
              "Hartford                     0.04\n",
              "Lorenzo                      0.04\n",
              "San Angelo                   0.04\n",
              "Spirit Lake                  0.04\n",
              "Broomfield                   0.04\n",
              "Hopewell                     0.04\n",
              "Rock Glen                    0.04\n",
              "Dresden                      0.04\n",
              "Monetta                      0.04\n",
              "Collegeville                 0.04\n",
              "Riverview                    0.04\n",
              "Howes Cave                   0.04\n",
              "Nokomis                      0.04\n",
              "Whittemore                   0.04\n",
              "Bryant                       0.04\n",
              "Moores Hill                  0.04\n",
              "Desdemona                    0.04\n",
              "Malad City                   0.04\n",
              "Lamy                         0.04\n",
              "Ragland                      0.04\n",
              "Moriches                     0.04\n",
              "Shedd                        0.04\n",
              "Owensville                   0.04\n",
              "Jay                          0.04\n",
              "Chatham                      0.04\n",
              "Azusa                        0.04\n",
              "Vancouver                    0.04\n",
              "Lane                         0.04\n",
              "South Richmond Hill          0.04\n",
              "Northport                    0.04\n",
              "Garfield                     0.04\n",
              "Jackson                      0.04\n",
              "Rossville                    0.04\n",
              "Loami                        0.04\n",
              "Palmyra                      0.04\n",
              "Pea Ridge                    0.04\n",
              "Webster City                 0.04\n",
              "Boulder                      0.04\n",
              "Michigan                     0.04\n",
              "Thornville                   0.04\n",
              "Kings Bay                    0.04\n",
              "Sea Island                   0.04\n",
              "Loving                       0.04\n",
              "New Franken                  0.04\n",
              "Rochester                    0.04\n",
              "Early                        0.04\n",
              "Dell City                    0.04\n",
              "Lithopolis                   0.04\n",
              "De Lancey                    0.04\n",
              "Humboldt                     0.04\n",
              "Stittville                   0.04\n",
              "West Finley                  0.04\n",
              "Hubbell                      0.00\n",
              "Melville                     0.00\n",
              "Coulee Dam                   0.00\n",
              "Queen Anne                   0.00\n",
              "West Frankfort               0.00\n",
              "Granbury                     0.00\n",
              "Byesville                    0.00\n",
              "Kaktovik                     0.00\n",
              "La Grande                    0.00\n",
              "Mineral                      0.00\n",
              "Clinton                      0.00\n",
              "Mount Vernon                 0.00\n",
              "Roland                       0.00\n",
              "Phelps                       0.00\n",
              "Madisonville                 0.00\n",
              "Walkertown                   0.00\n",
              "Wartburg                     0.00\n",
              "Beacon                       0.00\n",
              "Winnsboro                    0.00\n",
              "Isanti                       0.00\n",
              "Mountain City                0.00\n",
              "Orange Park                  0.00\n",
              "Seattle                      0.00\n",
              "Greenport                    0.00\n",
              "Ridge Spring                 0.00\n",
              "Nanuet                       0.00\n",
              "Downey                       0.00\n",
              "Ashland                      0.00\n",
              "Moss Point                   0.00\n",
              "Angwin                       0.00\n",
              "Waukau                       0.00\n",
              "Marshall                     0.00\n",
              "Lockhart                     0.00\n",
              "East China                   0.00\n",
              "Medford                      0.00\n",
              "Grenola                      0.00\n",
              "Nicholson                    0.00\n",
              "Clarion                      0.00\n",
              "Brookfield                   0.00\n",
              "Freeport                     0.00\n",
              "Oakton                       0.00\n",
              "North East                   0.00\n",
              "Morven                       0.00\n",
              "Gaines                       0.00\n",
              "Irvington                    0.00\n",
              "Crouse                       0.00\n",
              "Las Vegas                    0.00\n",
              "Buellton                     0.00\n",
              "Wappapello                   0.00\n",
              "Pleasant Hill                0.00\n",
              "Noblesville                  0.00\n",
              "Chattanooga                  0.00\n",
              "Norfolk                      0.00\n",
              "Vacaville                    0.00\n",
              "Bruce                        0.00\n",
              "Karns City                   0.00\n",
              "Claypool                     0.00\n",
              "Streator                     0.00\n",
              "Name: city, dtype: float64"
            ]
          },
          "metadata": {
            "tags": []
          },
          "execution_count": 27
        }
      ]
    },
    {
      "cell_type": "code",
      "metadata": {
        "colab": {
          "base_uri": "https://localhost:8080/"
        },
        "id": "55fals5YJUn2",
        "outputId": "00881bbf-83a6-4a94-de8b-7df4eb9426e3"
      },
      "source": [
        "round(df_train1['state'].value_counts()/len(df_train1.index)*100,2)"
      ],
      "execution_count": null,
      "outputs": [
        {
          "output_type": "execute_result",
          "data": {
            "text/plain": [
              "TX    7.32\n",
              "NY    6.44\n",
              "PA    6.16\n",
              "CA    4.35\n",
              "OH    3.58\n",
              "MI    3.56\n",
              "IL    3.34\n",
              "FL    3.29\n",
              "AL    3.16\n",
              "MO    2.96\n",
              "MN    2.45\n",
              "AR    2.40\n",
              "NC    2.33\n",
              "WI    2.26\n",
              "VA    2.26\n",
              "SC    2.25\n",
              "KY    2.20\n",
              "IN    2.13\n",
              "IA    2.08\n",
              "OK    2.06\n",
              "MD    2.02\n",
              "GA    2.01\n",
              "WV    1.98\n",
              "NJ    1.90\n",
              "NE    1.86\n",
              "KS    1.77\n",
              "MS    1.63\n",
              "LA    1.62\n",
              "WY    1.49\n",
              "WA    1.46\n",
              "OR    1.43\n",
              "TN    1.35\n",
              "ME    1.27\n",
              "NM    1.27\n",
              "ND    1.14\n",
              "CO    1.07\n",
              "MA    0.95\n",
              "SD    0.95\n",
              "VT    0.91\n",
              "MT    0.91\n",
              "AZ    0.83\n",
              "UT    0.83\n",
              "NH    0.64\n",
              "CT    0.59\n",
              "NV    0.43\n",
              "ID    0.43\n",
              "DC    0.28\n",
              "HI    0.20\n",
              "AK    0.16\n",
              "RI    0.04\n",
              "DE    0.00\n",
              "Name: state, dtype: float64"
            ]
          },
          "metadata": {
            "tags": []
          },
          "execution_count": 28
        }
      ]
    },
    {
      "cell_type": "code",
      "metadata": {
        "colab": {
          "base_uri": "https://localhost:8080/"
        },
        "id": "hzntM4AbKuL5",
        "outputId": "2a37c23f-5e91-424d-c607-6085dd07bcb1"
      },
      "source": [
        "round(df_train1['job'].value_counts()/len(df_train1.index)*100,2)"
      ],
      "execution_count": null,
      "outputs": [
        {
          "output_type": "execute_result",
          "data": {
            "text/plain": [
              "Film/video editor                                              0.75\n",
              "Exhibition designer                                            0.71\n",
              "Naval architect                                                0.67\n",
              "Surveyor, land/geomatics                                       0.67\n",
              "Materials engineer                                             0.64\n",
              "Designer, ceramics/pottery                                     0.63\n",
              "Systems developer                                              0.59\n",
              "IT trainer                                                     0.59\n",
              "Financial adviser                                              0.59\n",
              "Environmental consultant                                       0.58\n",
              "Chartered public finance accountant                            0.56\n",
              "Scientist, audiological                                        0.55\n",
              "Chief Executive Officer                                        0.55\n",
              "Copywriter, advertising                                        0.55\n",
              "Comptroller                                                    0.52\n",
              "Sub                                                            0.52\n",
              "Podiatrist                                                     0.51\n",
              "Agricultural consultant                                        0.51\n",
              "Paramedic                                                      0.51\n",
              "Magazine features editor                                       0.51\n",
              "Historic buildings inspector/conservation officer              0.48\n",
              "Librarian, public                                              0.48\n",
              "Building surveyor                                              0.48\n",
              "Musician                                                       0.48\n",
              "Water engineer                                                 0.48\n",
              "Scientist, research (maths)                                    0.47\n",
              "Mining engineer                                                0.47\n",
              "Barrister                                                      0.47\n",
              "Audiological scientist                                         0.47\n",
              "Immunologist                                                   0.47\n",
              "Clothing/textile technologist                                  0.47\n",
              "Prison officer                                                 0.44\n",
              "Financial trader                                               0.44\n",
              "Energy engineer                                                0.44\n",
              "Claims inspector/assessor                                      0.44\n",
              "Petroleum engineer                                             0.44\n",
              "Quantity surveyor                                              0.44\n",
              "Make                                                           0.44\n",
              "Engineer, automotive                                           0.43\n",
              "Mechanical engineer                                            0.43\n",
              "Geoscientist                                                   0.43\n",
              "Counsellor                                                     0.43\n",
              "Secondary school teacher                                       0.43\n",
              "Land/geomatics surveyor                                        0.43\n",
              "Firefighter                                                    0.43\n",
              "Early years teacher                                            0.43\n",
              "Sales professional, IT                                         0.43\n",
              "Pensions consultant                                            0.42\n",
              "Psychologist, forensic                                         0.42\n",
              "Psychotherapist, child                                         0.42\n",
              "Librarian, academic                                            0.40\n",
              "Research scientist (physical sciences)                         0.40\n",
              "Electrical engineer                                            0.40\n",
              "Insurance underwriter                                          0.40\n",
              "Science writer                                                 0.40\n",
              "Medical sales representative                                   0.40\n",
              "Chartered loss adjuster                                        0.40\n",
              "Drilling engineer                                              0.40\n",
              "Engineer, biomedical                                           0.39\n",
              "Trade mark attorney                                            0.39\n",
              "Television production assistant                                0.39\n",
              "Special educational needs teacher                              0.39\n",
              "Scientist, marine                                              0.39\n",
              "Cytogeneticist                                                 0.39\n",
              "Chemical engineer                                              0.39\n",
              "Multimedia programmer                                          0.36\n",
              "Accounting technician                                          0.36\n",
              "Dealer                                                         0.36\n",
              "Counselling psychologist                                       0.36\n",
              "Technical brewer                                               0.36\n",
              "Trading standards officer                                      0.36\n",
              "Toxicologist                                                   0.36\n",
              "Engineer, production                                           0.36\n",
              "Social researcher                                              0.36\n",
              "Radio producer                                                 0.36\n",
              "Chief Strategy Officer                                         0.35\n",
              "Physiotherapist                                                0.35\n",
              "Fine artist                                                    0.35\n",
              "Teacher, special educational needs                             0.35\n",
              "Race relations officer                                         0.35\n",
              "Engineer, control and instrumentation                          0.35\n",
              "Radio broadcast assistant                                      0.35\n",
              "Therapist, occupational                                        0.35\n",
              "Surveyor, minerals                                             0.35\n",
              "Educational psychologist                                       0.35\n",
              "Ceramics designer                                              0.35\n",
              "Advertising account planner                                    0.32\n",
              "Town planner                                                   0.32\n",
              "Programme researcher, broadcasting/film/video                  0.32\n",
              "Exhibitions officer, museum/gallery                            0.32\n",
              "Surgeon                                                        0.32\n",
              "Television/film/video producer                                 0.32\n",
              "Futures trader                                                 0.32\n",
              "Further education lecturer                                     0.32\n",
              "Scientist, biomedical                                          0.32\n",
              "Designer, industrial/product                                   0.32\n",
              "English as a second language teacher                           0.32\n",
              "Applications developer                                         0.32\n",
              "Probation officer                                              0.32\n",
              "Senior tax professional/tax inspector                          0.32\n",
              "Buyer, industrial                                              0.32\n",
              "Curator                                                        0.32\n",
              "Child psychotherapist                                          0.32\n",
              "Lexicographer                                                  0.32\n",
              "Engineering geologist                                          0.32\n",
              "Occupational psychologist                                      0.31\n",
              "Herbalist                                                      0.31\n",
              "Development worker, community                                  0.31\n",
              "Pilot, airline                                                 0.31\n",
              "Radiographer, therapeutic                                      0.31\n",
              "Press photographer                                             0.31\n",
              "Archaeologist                                                  0.31\n",
              "Public relations account executive                             0.31\n",
              "Facilities manager                                             0.31\n",
              "Editor, commissioning                                          0.28\n",
              "Fisheries officer                                              0.28\n",
              "Forensic psychologist                                          0.28\n",
              "Research officer, political party                              0.28\n",
              "Engineer, electronics                                          0.28\n",
              "Dispensing optician                                            0.28\n",
              "Broadcast presenter                                            0.28\n",
              "Administrator                                                  0.28\n",
              "Insurance risk surveyor                                        0.28\n",
              "Exercise physiologist                                          0.28\n",
              "Systems analyst                                                0.28\n",
              "Retail merchandiser                                            0.28\n",
              "Engineer, mining                                               0.28\n",
              "Chiropodist                                                    0.28\n",
              "Operations geologist                                           0.28\n",
              "Lecturer, further education                                    0.28\n",
              "Call centre manager                                            0.28\n",
              "Physicist, medical                                             0.28\n",
              "Learning disability nurse                                      0.28\n",
              "Insurance broker                                               0.28\n",
              "Hospital doctor                                                0.28\n",
              "Heritage manager                                               0.28\n",
              "Research officer, trade union                                  0.27\n",
              "Private music teacher                                          0.27\n",
              "Structural engineer                                            0.27\n",
              "Travel agency manager                                          0.27\n",
              "Amenity horticulturist                                         0.27\n",
              "Psychologist, counselling                                      0.27\n",
              "Colour technologist                                            0.27\n",
              "Tree surgeon                                                   0.24\n",
              "Television floor manager                                       0.24\n",
              "Metallurgist                                                   0.24\n",
              "Geologist, engineering                                         0.24\n",
              "Producer, radio                                                0.24\n",
              "Arboriculturist                                                0.24\n",
              "Education officer, museum                                      0.24\n",
              "Phytotherapist                                                 0.24\n",
              "Journalist, newspaper                                          0.24\n",
              "Occupational hygienist                                         0.24\n",
              "Site engineer                                                  0.24\n",
              "Electronics engineer                                           0.24\n",
              "Tourist information centre manager                             0.24\n",
              "Video editor                                                   0.24\n",
              "Regulatory affairs officer                                     0.24\n",
              "Designer, jewellery                                            0.24\n",
              "Leisure centre manager                                         0.24\n",
              "Biomedical scientist                                           0.24\n",
              "Licensed conveyancer                                           0.24\n",
              "Press sub                                                      0.24\n",
              "Production manager                                             0.24\n",
              "Designer, furniture                                            0.24\n",
              "Manufacturing engineer                                         0.24\n",
              "Development worker, international aid                          0.24\n",
              "Barrister's clerk                                              0.24\n",
              "Camera operator                                                0.24\n",
              "Commercial horticulturist                                      0.24\n",
              "Warden/ranger                                                  0.24\n",
              "Tax inspector                                                  0.23\n",
              "Chief Operating Officer                                        0.23\n",
              "Radiographer, diagnostic                                       0.23\n",
              "Music tutor                                                    0.23\n",
              "Health physicist                                               0.23\n",
              "Product/process development scientist                          0.23\n",
              "Designer, exhibition/display                                   0.23\n",
              "Engineer, land                                                 0.23\n",
              "Contractor                                                     0.23\n",
              "Gaffer                                                         0.23\n",
              "Freight forwarder                                              0.23\n",
              "Lecturer, higher education                                     0.23\n",
              "Commercial/residential surveyor                                0.23\n",
              "Careers information officer                                    0.23\n",
              "Energy manager                                                 0.23\n",
              "Administrator, local government                                0.20\n",
              "Osteopath                                                      0.20\n",
              "Wellsite geologist                                             0.20\n",
              "Statistician                                                   0.20\n",
              "Market researcher                                              0.20\n",
              "Risk analyst                                                   0.20\n",
              "Nurse, children's                                              0.20\n",
              "Doctor, general practice                                       0.20\n",
              "Accountant, chartered public finance                           0.20\n",
              "Chief Technology Officer                                       0.20\n",
              "Programmer, multimedia                                         0.20\n",
              "Health and safety adviser                                      0.20\n",
              "Advice worker                                                  0.20\n",
              "Soil scientist                                                 0.20\n",
              "Tourism officer                                                0.20\n",
              "Equality and diversity officer                                 0.20\n",
              "Administrator, education                                       0.20\n",
              "Community arts worker                                          0.20\n",
              "Human resources officer                                        0.20\n",
              "Operational researcher                                         0.20\n",
              "Therapist, sports                                              0.20\n",
              "Police officer                                                 0.20\n",
              "Music therapist                                                0.20\n",
              "Chief Financial Officer                                        0.20\n",
              "Media buyer                                                    0.20\n",
              "Building control surveyor                                      0.20\n",
              "Bookseller                                                     0.20\n",
              "Database administrator                                         0.20\n",
              "Health service manager                                         0.20\n",
              "Optician, dispensing                                           0.20\n",
              "Fitness centre manager                                         0.20\n",
              "Land                                                           0.20\n",
              "Mental health nurse                                            0.20\n",
              "Web designer                                                   0.20\n",
              "Maintenance engineer                                           0.20\n",
              "Therapist, art                                                 0.20\n",
              "Doctor, hospital                                               0.20\n",
              "Teacher, secondary school                                      0.20\n",
              "Engineer, petroleum                                            0.20\n",
              "Paediatric nurse                                               0.20\n",
              "Product designer                                               0.20\n",
              "Armed forces training and education officer                    0.20\n",
              "Waste management officer                                       0.20\n",
              "Tax adviser                                                    0.20\n",
              "Investment analyst                                             0.20\n",
              "Geochemist                                                     0.20\n",
              "Patent attorney                                                0.20\n",
              "Therapist, horticultural                                       0.19\n",
              "Administrator, charities/voluntary organisations               0.19\n",
              "Surveyor, rural practice                                       0.19\n",
              "Intelligence analyst                                           0.19\n",
              "Teacher, early years/pre                                       0.19\n",
              "Sports development officer                                     0.16\n",
              "Neurosurgeon                                                   0.16\n",
              "Transport planner                                              0.16\n",
              "Horticultural therapist                                        0.16\n",
              "Chief Marketing Officer                                        0.16\n",
              "Airline pilot                                                  0.16\n",
              "Retail buyer                                                   0.16\n",
              "Pension scheme manager                                         0.16\n",
              "Charity fundraiser                                             0.16\n",
              "Scientist, physiological                                       0.16\n",
              "Psychologist, sport and exercise                               0.16\n",
              "Landscape architect                                            0.16\n",
              "Telecommunications researcher                                  0.16\n",
              "Industrial/product designer                                    0.16\n",
              "Animal nutritionist                                            0.16\n",
              "Seismic interpreter                                            0.16\n",
              "Geologist, wellsite                                            0.16\n",
              "Psychiatrist                                                   0.16\n",
              "Glass blower/designer                                          0.16\n",
              "Museum/gallery conservator                                     0.16\n",
              "Politician's assistant                                         0.16\n",
              "Clinical research associate                                    0.16\n",
              "Sport and exercise psychologist                                0.16\n",
              "Clinical biochemist                                            0.16\n",
              "Editor, film/video                                             0.16\n",
              "Nutritional therapist                                          0.16\n",
              "Museum/gallery exhibitions officer                             0.16\n",
              "Therapist, drama                                               0.16\n",
              "Art therapist                                                  0.16\n",
              "Secretary/administrator                                        0.16\n",
              "Immigration officer                                            0.16\n",
              "Psychotherapist                                                0.16\n",
              "Architect                                                      0.16\n",
              "Retail banker                                                  0.16\n",
              "Communications engineer                                        0.16\n",
              "Animal technologist                                            0.16\n",
              "Furniture designer                                             0.16\n",
              "Scientist, research (physical sciences)                        0.16\n",
              "Engineer, drilling                                             0.16\n",
              "Editor, magazine features                                      0.16\n",
              "Public house manager                                           0.16\n",
              "Community education officer                                    0.16\n",
              "Cartographer                                                   0.16\n",
              "Health promotion specialist                                    0.16\n",
              "Biomedical engineer                                            0.16\n",
              "Horticulturist, commercial                                     0.16\n",
              "Farm manager                                                   0.16\n",
              "Research scientist (life sciences)                             0.16\n",
              "Scientific laboratory technician                               0.16\n",
              "Investment banker, corporate                                   0.16\n",
              "Herpetologist                                                  0.16\n",
              "Volunteer coordinator                                          0.16\n",
              "Arts development officer                                       0.16\n",
              "Public affairs consultant                                      0.16\n",
              "Pharmacist, community                                          0.16\n",
              "Medical secretary                                              0.16\n",
              "Corporate investment banker                                    0.16\n",
              "Information systems manager                                    0.16\n",
              "Civil engineer, contracting                                    0.16\n",
              "Dance movement psychotherapist                                 0.16\n",
              "Engineer, technical sales                                      0.16\n",
              "Aid worker                                                     0.16\n",
              "General practice doctor                                        0.15\n",
              "Theme park manager                                             0.15\n",
              "Health visitor                                                 0.15\n",
              "Animator                                                       0.12\n",
              "Medical physicist                                              0.12\n",
              "Acupuncturist                                                  0.12\n",
              "Engineer, agricultural                                         0.12\n",
              "Advertising account executive                                  0.12\n",
              "Planning and development surveyor                              0.12\n",
              "Embryologist, clinical                                         0.12\n",
              "Oceanographer                                                  0.12\n",
              "Barista                                                        0.12\n",
              "Pharmacologist                                                 0.12\n",
              "Event organiser                                                0.12\n",
              "Special effects artist                                         0.12\n",
              "Designer, interior/spatial                                     0.12\n",
              "Psychologist, clinical                                         0.12\n",
              "Theatre manager                                                0.12\n",
              "Learning mentor                                                0.12\n",
              "Orthoptist                                                     0.12\n",
              "Surveyor, mining                                               0.12\n",
              "Sales executive                                                0.12\n",
              "Theatre director                                               0.12\n",
              "Network engineer                                               0.12\n",
              "Psychiatric nurse                                              0.12\n",
              "Community pharmacist                                           0.12\n",
              "Training and development officer                               0.12\n",
              "Logistics and distribution manager                             0.12\n",
              "Equities trader                                                0.12\n",
              "Field seismologist                                             0.12\n",
              "Engineer, communications                                       0.12\n",
              "Interpreter                                                    0.12\n",
              "Set designer                                                   0.12\n",
              "Research scientist (maths)                                     0.12\n",
              "Therapist, music                                               0.12\n",
              "Emergency planning/management officer                          0.12\n",
              "Environmental health practitioner                              0.12\n",
              "Social research officer, government                            0.12\n",
              "Physiological scientist                                        0.12\n",
              "Building services engineer                                     0.12\n",
              "Optometrist                                                    0.12\n",
              "Mudlogger                                                      0.12\n",
              "Production engineer                                            0.12\n",
              "Garment/textile technologist                                   0.12\n",
              "Diagnostic radiographer                                        0.12\n",
              "Management consultant                                          0.12\n",
              "Armed forces logistics/support/administrative officer          0.12\n",
              "Higher education careers adviser                               0.12\n",
              "Public librarian                                               0.12\n",
              "Engineer, maintenance                                          0.12\n",
              "Aeronautical engineer                                          0.12\n",
              "Commissioning editor                                           0.12\n",
              "Hydrologist                                                    0.12\n",
              "Geophysicist/field seismologist                                0.12\n",
              "Rural practice surveyor                                        0.12\n",
              "Quarry manager                                                 0.12\n",
              "Archivist                                                      0.12\n",
              "Records manager                                                0.12\n",
              "Control and instrumentation engineer                           0.12\n",
              "Teaching laboratory technician                                 0.12\n",
              "Engineer, civil (contracting)                                  0.12\n",
              "Chartered accountant                                           0.12\n",
              "Location manager                                               0.12\n",
              "Illustrator                                                    0.11\n",
              "Teacher, primary school                                        0.11\n",
              "Conservation officer, historic buildings                       0.11\n",
              "Media planner                                                  0.08\n",
              "Medical technical officer                                      0.08\n",
              "Plant breeder/geneticist                                       0.08\n",
              "Pharmacist, hospital                                           0.08\n",
              "Ambulance person                                               0.08\n",
              "Sports administrator                                           0.08\n",
              "Scientist, clinical (histocompatibility and immunogenetics)    0.08\n",
              "Designer, multimedia                                           0.08\n",
              "Furniture conservator/restorer                                 0.08\n",
              "Engineer, broadcasting (operations)                            0.08\n",
              "Designer, textile                                              0.08\n",
              "Museum education officer                                       0.08\n",
              "Economist                                                      0.08\n",
              "Pathologist                                                    0.08\n",
              "Academic librarian                                             0.08\n",
              "Hydrographic surveyor                                          0.08\n",
              "Stage manager                                                  0.08\n",
              "Presenter, broadcasting                                        0.08\n",
              "Company secretary                                              0.08\n",
              "Hospital pharmacist                                            0.08\n",
              "Biochemist, clinical                                           0.08\n",
              "Environmental education officer                                0.08\n",
              "Air broker                                                     0.08\n",
              "Retail manager                                                 0.08\n",
              "Engineer, building services                                    0.08\n",
              "Advertising copywriter                                         0.08\n",
              "Production assistant, radio                                    0.08\n",
              "Chief of Staff                                                 0.08\n",
              "Cabin crew                                                     0.08\n",
              "Engineer, aeronautical                                         0.08\n",
              "Art gallery manager                                            0.08\n",
              "Education administrator                                        0.08\n",
              "Insurance claims handler                                       0.08\n",
              "Ecologist                                                      0.08\n",
              "Civil Service fast streamer                                    0.08\n",
              "Architectural technologist                                     0.08\n",
              "Chartered legal executive (England and Wales)                  0.08\n",
              "Outdoor activities/education manager                           0.08\n",
              "Nurse, mental health                                           0.08\n",
              "Loss adjuster, chartered                                       0.08\n",
              "Chemist, analytical                                            0.08\n",
              "Jewellery designer                                             0.08\n",
              "Research scientist (medical)                                   0.08\n",
              "Programmer, applications                                       0.08\n",
              "Product manager                                                0.08\n",
              "Teacher, English as a foreign language                         0.08\n",
              "Clinical psychologist                                          0.08\n",
              "IT consultant                                                  0.08\n",
              "Manufacturing systems engineer                                 0.08\n",
              "Scientist, research (medical)                                  0.08\n",
              "Visual merchandiser                                            0.08\n",
              "Geneticist, molecular                                          0.04\n",
              "Lawyer                                                         0.04\n",
              "Engineer, civil (consulting)                                   0.04\n",
              "Estate manager/land agent                                      0.04\n",
              "Merchandiser, retail                                           0.04\n",
              "Engineer, manufacturing                                        0.04\n",
              "Community development worker                                   0.04\n",
              "Conservator, furniture                                         0.04\n",
              "Administrator, arts                                            0.04\n",
              "Designer, television/film set                                  0.04\n",
              "Accountant, chartered certified                                0.04\n",
              "Horticultural consultant                                       0.04\n",
              "TEFL teacher                                                   0.04\n",
              "Surveyor, hydrographic                                         0.04\n",
              "Magazine journalist                                            0.04\n",
              "Production assistant, television                               0.04\n",
              "Minerals surveyor                                              0.04\n",
              "Associate Professor                                            0.04\n",
              "Oncologist                                                     0.04\n",
              "Restaurant manager, fast food                                  0.04\n",
              "Catering manager                                               0.04\n",
              "Local government officer                                       0.04\n",
              "Broadcast engineer                                             0.04\n",
              "Solicitor, Scotland                                            0.04\n",
              "Artist                                                         0.04\n",
              "Occupational therapist                                         0.04\n",
              "Charity officer                                                0.04\n",
              "Textile designer                                               0.04\n",
              "Public relations officer                                       0.04\n",
              "Engineer, materials                                            0.04\n",
              "Field trials officer                                           0.04\n",
              "Air cabin crew                                                 0.04\n",
              "Television camera operator                                     0.04\n",
              "Environmental manager                                          0.04\n",
              "Data scientist                                                 0.04\n",
              "Hotel manager                                                  0.04\n",
              "Teacher, adult education                                       0.04\n",
              "Conservator, museum/gallery                                    0.04\n",
              "Primary school teacher                                         0.04\n",
              "Education officer, community                                   0.04\n",
              "Nature conservation officer                                    0.04\n",
              "Professor Emeritus                                             0.04\n",
              "Investment banker, operational                                 0.04\n",
              "Water quality scientist                                        0.04\n",
              "Interior and spatial designer                                  0.04\n",
              "Clinical cytogeneticist                                        0.04\n",
              "Marketing executive                                            0.04\n",
              "Civil Service administrator                                    0.04\n",
              "Purchasing manager                                             0.04\n",
              "Copy                                                           0.04\n",
              "Writer                                                         0.04\n",
              "Analytical chemist                                             0.04\n",
              "Tour manager                                                   0.04\n",
              "Buyer, retail                                                  0.04\n",
              "English as a foreign language teacher                          0.04\n",
              "Producer, television/film/video                                0.04\n",
              "Engineer, structural                                           0.04\n",
              "Hydrogeologist                                                 0.04\n",
              "Dancer                                                         0.00\n",
              "Air traffic controller                                         0.00\n",
              "Careers adviser                                                0.00\n",
              "Sales promotion account executive                              0.00\n",
              "Personnel officer                                              0.00\n",
              "Legal secretary                                                0.00\n",
              "Engineer, site                                                 0.00\n",
              "Solicitor                                                      0.00\n",
              "Accountant, chartered                                          0.00\n",
              "Homeopath                                                      0.00\n",
              "Industrial buyer                                               0.00\n",
              "Broadcast journalist                                           0.00\n",
              "Forest/woodland manager                                        0.00\n",
              "Information officer                                            0.00\n",
              "Armed forces technical officer                                 0.00\n",
              "Veterinary surgeon                                             0.00\n",
              "Ship broker                                                    0.00\n",
              "Contracting civil engineer                                     0.00\n",
              "Warehouse manager                                              0.00\n",
              "Name: job, dtype: float64"
            ]
          },
          "metadata": {
            "tags": []
          },
          "execution_count": 29
        }
      ]
    },
    {
      "cell_type": "code",
      "metadata": {
        "id": "OK8BuVhBK4cf",
        "colab": {
          "base_uri": "https://localhost:8080/"
        },
        "outputId": "a3999332-7fd0-4da6-9e4b-58faef6b2f57"
      },
      "source": [
        "df_train1.info()"
      ],
      "execution_count": null,
      "outputs": [
        {
          "output_type": "stream",
          "text": [
            "<class 'pandas.core.frame.DataFrame'>\n",
            "RangeIndex: 1296675 entries, 0 to 1296674\n",
            "Data columns (total 19 columns):\n",
            " #   Column                 Non-Null Count    Dtype         \n",
            "---  ------                 --------------    -----         \n",
            " 0   trans_date_trans_time  1296675 non-null  datetime64[ns]\n",
            " 1   category               1296675 non-null  object        \n",
            " 2   amt                    1296675 non-null  float64       \n",
            " 3   gender                 1296675 non-null  object        \n",
            " 4   city                   1296675 non-null  object        \n",
            " 5   state                  1296675 non-null  object        \n",
            " 6   lat                    1296675 non-null  float64       \n",
            " 7   long                   1296675 non-null  float64       \n",
            " 8   city_pop               1296675 non-null  int64         \n",
            " 9   job                    1296675 non-null  object        \n",
            " 10  dob                    1296675 non-null  datetime64[ns]\n",
            " 11  merch_lat              1296675 non-null  float64       \n",
            " 12  merch_long             1296675 non-null  float64       \n",
            " 13  is_fraud               1296675 non-null  int64         \n",
            " 14  trans_date             1296675 non-null  datetime64[ns]\n",
            " 15  age_at_trans           1296675 non-null  float64       \n",
            " 16  lat_dist               1296675 non-null  float64       \n",
            " 17  long_dist              1296675 non-null  float64       \n",
            " 18  trans_month            1296675 non-null  int64         \n",
            "dtypes: datetime64[ns](3), float64(8), int64(3), object(5)\n",
            "memory usage: 188.0+ MB\n"
          ],
          "name": "stdout"
        }
      ]
    },
    {
      "cell_type": "code",
      "metadata": {
        "colab": {
          "base_uri": "https://localhost:8080/"
        },
        "id": "OuyqlzzCPbue",
        "outputId": "afa7afd3-db0d-47f9-f05c-b8d8dfbc517b"
      },
      "source": [
        "df_train1.nunique()"
      ],
      "execution_count": null,
      "outputs": [
        {
          "output_type": "execute_result",
          "data": {
            "text/plain": [
              "trans_date_trans_time    1274791\n",
              "category                      14\n",
              "amt                        52928\n",
              "gender                         2\n",
              "city                         894\n",
              "state                         51\n",
              "lat                          968\n",
              "long                         969\n",
              "city_pop                     879\n",
              "job                          494\n",
              "dob                          968\n",
              "merch_lat                1247805\n",
              "merch_long               1275745\n",
              "is_fraud                       2\n",
              "trans_date                   537\n",
              "age_at_trans                  83\n",
              "lat_dist                    1001\n",
              "long_dist                   1001\n",
              "trans_month                   12\n",
              "dtype: int64"
            ]
          },
          "metadata": {
            "tags": []
          },
          "execution_count": 31
        }
      ]
    },
    {
      "cell_type": "code",
      "metadata": {
        "colab": {
          "base_uri": "https://localhost:8080/",
          "height": 204
        },
        "id": "mTKG0l65Pmwq",
        "outputId": "e579f944-289c-4ff8-942b-ec810835f6bb"
      },
      "source": [
        "# Dropping variables not useful for model building\n",
        "\n",
        "drop_cols = ['trans_date_trans_time','city','lat','long','job','dob','merch_lat','merch_long','trans_date']\n",
        "\n",
        "df_train2 = df_train1.drop(drop_cols,axis=1)\n",
        "df_test2 = df_test1.drop(drop_cols,axis=1)\n",
        "\n",
        "df_train2.head()"
      ],
      "execution_count": null,
      "outputs": [
        {
          "output_type": "execute_result",
          "data": {
            "text/html": [
              "<div>\n",
              "<style scoped>\n",
              "    .dataframe tbody tr th:only-of-type {\n",
              "        vertical-align: middle;\n",
              "    }\n",
              "\n",
              "    .dataframe tbody tr th {\n",
              "        vertical-align: top;\n",
              "    }\n",
              "\n",
              "    .dataframe thead th {\n",
              "        text-align: right;\n",
              "    }\n",
              "</style>\n",
              "<table border=\"1\" class=\"dataframe\">\n",
              "  <thead>\n",
              "    <tr style=\"text-align: right;\">\n",
              "      <th></th>\n",
              "      <th>category</th>\n",
              "      <th>amt</th>\n",
              "      <th>gender</th>\n",
              "      <th>state</th>\n",
              "      <th>city_pop</th>\n",
              "      <th>is_fraud</th>\n",
              "      <th>age_at_trans</th>\n",
              "      <th>lat_dist</th>\n",
              "      <th>long_dist</th>\n",
              "      <th>trans_month</th>\n",
              "    </tr>\n",
              "  </thead>\n",
              "  <tbody>\n",
              "    <tr>\n",
              "      <th>0</th>\n",
              "      <td>misc_net</td>\n",
              "      <td>4.97</td>\n",
              "      <td>F</td>\n",
              "      <td>NC</td>\n",
              "      <td>3495</td>\n",
              "      <td>0</td>\n",
              "      <td>30.0</td>\n",
              "      <td>0.068</td>\n",
              "      <td>0.870</td>\n",
              "      <td>1</td>\n",
              "    </tr>\n",
              "    <tr>\n",
              "      <th>1</th>\n",
              "      <td>grocery_pos</td>\n",
              "      <td>107.23</td>\n",
              "      <td>F</td>\n",
              "      <td>WA</td>\n",
              "      <td>149</td>\n",
              "      <td>0</td>\n",
              "      <td>40.0</td>\n",
              "      <td>0.271</td>\n",
              "      <td>0.024</td>\n",
              "      <td>1</td>\n",
              "    </tr>\n",
              "    <tr>\n",
              "      <th>2</th>\n",
              "      <td>entertainment</td>\n",
              "      <td>220.11</td>\n",
              "      <td>M</td>\n",
              "      <td>ID</td>\n",
              "      <td>4154</td>\n",
              "      <td>0</td>\n",
              "      <td>56.0</td>\n",
              "      <td>0.970</td>\n",
              "      <td>0.108</td>\n",
              "      <td>1</td>\n",
              "    </tr>\n",
              "    <tr>\n",
              "      <th>3</th>\n",
              "      <td>gas_transport</td>\n",
              "      <td>45.00</td>\n",
              "      <td>M</td>\n",
              "      <td>MT</td>\n",
              "      <td>1939</td>\n",
              "      <td>0</td>\n",
              "      <td>51.0</td>\n",
              "      <td>0.804</td>\n",
              "      <td>0.447</td>\n",
              "      <td>1</td>\n",
              "    </tr>\n",
              "    <tr>\n",
              "      <th>4</th>\n",
              "      <td>misc_pos</td>\n",
              "      <td>41.96</td>\n",
              "      <td>M</td>\n",
              "      <td>VA</td>\n",
              "      <td>99</td>\n",
              "      <td>0</td>\n",
              "      <td>32.0</td>\n",
              "      <td>0.254</td>\n",
              "      <td>0.830</td>\n",
              "      <td>1</td>\n",
              "    </tr>\n",
              "  </tbody>\n",
              "</table>\n",
              "</div>"
            ],
            "text/plain": [
              "        category     amt gender  ... lat_dist  long_dist  trans_month\n",
              "0       misc_net    4.97      F  ...    0.068      0.870            1\n",
              "1    grocery_pos  107.23      F  ...    0.271      0.024            1\n",
              "2  entertainment  220.11      M  ...    0.970      0.108            1\n",
              "3  gas_transport   45.00      M  ...    0.804      0.447            1\n",
              "4       misc_pos   41.96      M  ...    0.254      0.830            1\n",
              "\n",
              "[5 rows x 10 columns]"
            ]
          },
          "metadata": {
            "tags": []
          },
          "execution_count": 32
        }
      ]
    },
    {
      "cell_type": "code",
      "metadata": {
        "colab": {
          "base_uri": "https://localhost:8080/",
          "height": 204
        },
        "id": "wR68sW60QR2l",
        "outputId": "1fbbc1f4-0ecb-4337-bfea-06dccf9fd90a"
      },
      "source": [
        "#Binary mapping on Gender\n",
        "  \n",
        "df_train2['gender'] = df_train2['gender'].map({'M': 1, 'F': 0})\n",
        "df_test2['gender'] = df_test2['gender'].map({'M': 1, 'F': 0})\n",
        "\n",
        "df_train2.head()"
      ],
      "execution_count": null,
      "outputs": [
        {
          "output_type": "execute_result",
          "data": {
            "text/html": [
              "<div>\n",
              "<style scoped>\n",
              "    .dataframe tbody tr th:only-of-type {\n",
              "        vertical-align: middle;\n",
              "    }\n",
              "\n",
              "    .dataframe tbody tr th {\n",
              "        vertical-align: top;\n",
              "    }\n",
              "\n",
              "    .dataframe thead th {\n",
              "        text-align: right;\n",
              "    }\n",
              "</style>\n",
              "<table border=\"1\" class=\"dataframe\">\n",
              "  <thead>\n",
              "    <tr style=\"text-align: right;\">\n",
              "      <th></th>\n",
              "      <th>category</th>\n",
              "      <th>amt</th>\n",
              "      <th>gender</th>\n",
              "      <th>state</th>\n",
              "      <th>city_pop</th>\n",
              "      <th>is_fraud</th>\n",
              "      <th>age_at_trans</th>\n",
              "      <th>lat_dist</th>\n",
              "      <th>long_dist</th>\n",
              "      <th>trans_month</th>\n",
              "    </tr>\n",
              "  </thead>\n",
              "  <tbody>\n",
              "    <tr>\n",
              "      <th>0</th>\n",
              "      <td>misc_net</td>\n",
              "      <td>4.97</td>\n",
              "      <td>0</td>\n",
              "      <td>NC</td>\n",
              "      <td>3495</td>\n",
              "      <td>0</td>\n",
              "      <td>30.0</td>\n",
              "      <td>0.068</td>\n",
              "      <td>0.870</td>\n",
              "      <td>1</td>\n",
              "    </tr>\n",
              "    <tr>\n",
              "      <th>1</th>\n",
              "      <td>grocery_pos</td>\n",
              "      <td>107.23</td>\n",
              "      <td>0</td>\n",
              "      <td>WA</td>\n",
              "      <td>149</td>\n",
              "      <td>0</td>\n",
              "      <td>40.0</td>\n",
              "      <td>0.271</td>\n",
              "      <td>0.024</td>\n",
              "      <td>1</td>\n",
              "    </tr>\n",
              "    <tr>\n",
              "      <th>2</th>\n",
              "      <td>entertainment</td>\n",
              "      <td>220.11</td>\n",
              "      <td>1</td>\n",
              "      <td>ID</td>\n",
              "      <td>4154</td>\n",
              "      <td>0</td>\n",
              "      <td>56.0</td>\n",
              "      <td>0.970</td>\n",
              "      <td>0.108</td>\n",
              "      <td>1</td>\n",
              "    </tr>\n",
              "    <tr>\n",
              "      <th>3</th>\n",
              "      <td>gas_transport</td>\n",
              "      <td>45.00</td>\n",
              "      <td>1</td>\n",
              "      <td>MT</td>\n",
              "      <td>1939</td>\n",
              "      <td>0</td>\n",
              "      <td>51.0</td>\n",
              "      <td>0.804</td>\n",
              "      <td>0.447</td>\n",
              "      <td>1</td>\n",
              "    </tr>\n",
              "    <tr>\n",
              "      <th>4</th>\n",
              "      <td>misc_pos</td>\n",
              "      <td>41.96</td>\n",
              "      <td>1</td>\n",
              "      <td>VA</td>\n",
              "      <td>99</td>\n",
              "      <td>0</td>\n",
              "      <td>32.0</td>\n",
              "      <td>0.254</td>\n",
              "      <td>0.830</td>\n",
              "      <td>1</td>\n",
              "    </tr>\n",
              "  </tbody>\n",
              "</table>\n",
              "</div>"
            ],
            "text/plain": [
              "        category     amt  gender  ... lat_dist  long_dist  trans_month\n",
              "0       misc_net    4.97       0  ...    0.068      0.870            1\n",
              "1    grocery_pos  107.23       0  ...    0.271      0.024            1\n",
              "2  entertainment  220.11       1  ...    0.970      0.108            1\n",
              "3  gas_transport   45.00       1  ...    0.804      0.447            1\n",
              "4       misc_pos   41.96       1  ...    0.254      0.830            1\n",
              "\n",
              "[5 rows x 10 columns]"
            ]
          },
          "metadata": {
            "tags": []
          },
          "execution_count": 33
        }
      ]
    },
    {
      "cell_type": "code",
      "metadata": {
        "colab": {
          "base_uri": "https://localhost:8080/",
          "height": 390
        },
        "id": "oAhK9utgSU0N",
        "outputId": "9523db29-66e5-4e60-eda9-d246aa0f8408"
      },
      "source": [
        "df_train2[['amt','city_pop','age_at_trans','lat_dist','long_dist']].describe(percentiles=[.25, .5, .75, .90, .95, .99])"
      ],
      "execution_count": null,
      "outputs": [
        {
          "output_type": "execute_result",
          "data": {
            "text/html": [
              "<div>\n",
              "<style scoped>\n",
              "    .dataframe tbody tr th:only-of-type {\n",
              "        vertical-align: middle;\n",
              "    }\n",
              "\n",
              "    .dataframe tbody tr th {\n",
              "        vertical-align: top;\n",
              "    }\n",
              "\n",
              "    .dataframe thead th {\n",
              "        text-align: right;\n",
              "    }\n",
              "</style>\n",
              "<table border=\"1\" class=\"dataframe\">\n",
              "  <thead>\n",
              "    <tr style=\"text-align: right;\">\n",
              "      <th></th>\n",
              "      <th>amt</th>\n",
              "      <th>city_pop</th>\n",
              "      <th>age_at_trans</th>\n",
              "      <th>lat_dist</th>\n",
              "      <th>long_dist</th>\n",
              "    </tr>\n",
              "  </thead>\n",
              "  <tbody>\n",
              "    <tr>\n",
              "      <th>count</th>\n",
              "      <td>1.296675e+06</td>\n",
              "      <td>1.296675e+06</td>\n",
              "      <td>1.296675e+06</td>\n",
              "      <td>1.296675e+06</td>\n",
              "      <td>1.296675e+06</td>\n",
              "    </tr>\n",
              "    <tr>\n",
              "      <th>mean</th>\n",
              "      <td>7.035104e+01</td>\n",
              "      <td>8.882444e+04</td>\n",
              "      <td>4.549592e+01</td>\n",
              "      <td>5.002626e-01</td>\n",
              "      <td>5.003366e-01</td>\n",
              "    </tr>\n",
              "    <tr>\n",
              "      <th>std</th>\n",
              "      <td>1.603160e+02</td>\n",
              "      <td>3.019564e+05</td>\n",
              "      <td>1.739739e+01</td>\n",
              "      <td>2.885700e-01</td>\n",
              "      <td>2.888704e-01</td>\n",
              "    </tr>\n",
              "    <tr>\n",
              "      <th>min</th>\n",
              "      <td>1.000000e+00</td>\n",
              "      <td>2.300000e+01</td>\n",
              "      <td>1.300000e+01</td>\n",
              "      <td>0.000000e+00</td>\n",
              "      <td>0.000000e+00</td>\n",
              "    </tr>\n",
              "    <tr>\n",
              "      <th>25%</th>\n",
              "      <td>9.650000e+00</td>\n",
              "      <td>7.430000e+02</td>\n",
              "      <td>3.200000e+01</td>\n",
              "      <td>2.500000e-01</td>\n",
              "      <td>2.500000e-01</td>\n",
              "    </tr>\n",
              "    <tr>\n",
              "      <th>50%</th>\n",
              "      <td>4.752000e+01</td>\n",
              "      <td>2.456000e+03</td>\n",
              "      <td>4.300000e+01</td>\n",
              "      <td>5.010000e-01</td>\n",
              "      <td>5.000000e-01</td>\n",
              "    </tr>\n",
              "    <tr>\n",
              "      <th>75%</th>\n",
              "      <td>8.314000e+01</td>\n",
              "      <td>2.032800e+04</td>\n",
              "      <td>5.700000e+01</td>\n",
              "      <td>7.500000e-01</td>\n",
              "      <td>7.510000e-01</td>\n",
              "    </tr>\n",
              "    <tr>\n",
              "      <th>90%</th>\n",
              "      <td>1.366700e+02</td>\n",
              "      <td>1.861400e+05</td>\n",
              "      <td>7.000000e+01</td>\n",
              "      <td>9.000000e-01</td>\n",
              "      <td>9.000000e-01</td>\n",
              "    </tr>\n",
              "    <tr>\n",
              "      <th>95%</th>\n",
              "      <td>1.963100e+02</td>\n",
              "      <td>5.257130e+05</td>\n",
              "      <td>7.900000e+01</td>\n",
              "      <td>9.500000e-01</td>\n",
              "      <td>9.500000e-01</td>\n",
              "    </tr>\n",
              "    <tr>\n",
              "      <th>99%</th>\n",
              "      <td>5.459926e+02</td>\n",
              "      <td>1.577385e+06</td>\n",
              "      <td>9.100000e+01</td>\n",
              "      <td>9.900000e-01</td>\n",
              "      <td>9.900000e-01</td>\n",
              "    </tr>\n",
              "    <tr>\n",
              "      <th>max</th>\n",
              "      <td>2.894890e+04</td>\n",
              "      <td>2.906700e+06</td>\n",
              "      <td>9.500000e+01</td>\n",
              "      <td>1.000000e+00</td>\n",
              "      <td>1.000000e+00</td>\n",
              "    </tr>\n",
              "  </tbody>\n",
              "</table>\n",
              "</div>"
            ],
            "text/plain": [
              "                amt      city_pop  age_at_trans      lat_dist     long_dist\n",
              "count  1.296675e+06  1.296675e+06  1.296675e+06  1.296675e+06  1.296675e+06\n",
              "mean   7.035104e+01  8.882444e+04  4.549592e+01  5.002626e-01  5.003366e-01\n",
              "std    1.603160e+02  3.019564e+05  1.739739e+01  2.885700e-01  2.888704e-01\n",
              "min    1.000000e+00  2.300000e+01  1.300000e+01  0.000000e+00  0.000000e+00\n",
              "25%    9.650000e+00  7.430000e+02  3.200000e+01  2.500000e-01  2.500000e-01\n",
              "50%    4.752000e+01  2.456000e+03  4.300000e+01  5.010000e-01  5.000000e-01\n",
              "75%    8.314000e+01  2.032800e+04  5.700000e+01  7.500000e-01  7.510000e-01\n",
              "90%    1.366700e+02  1.861400e+05  7.000000e+01  9.000000e-01  9.000000e-01\n",
              "95%    1.963100e+02  5.257130e+05  7.900000e+01  9.500000e-01  9.500000e-01\n",
              "99%    5.459926e+02  1.577385e+06  9.100000e+01  9.900000e-01  9.900000e-01\n",
              "max    2.894890e+04  2.906700e+06  9.500000e+01  1.000000e+00  1.000000e+00"
            ]
          },
          "metadata": {
            "tags": []
          },
          "execution_count": 34
        }
      ]
    },
    {
      "cell_type": "code",
      "metadata": {
        "colab": {
          "base_uri": "https://localhost:8080/"
        },
        "id": "8LtD6_X2UqXE",
        "outputId": "e884e9d2-ec10-4673-acb9-715ea41fa820"
      },
      "source": [
        "# Creating dummy variables for Category\n",
        "\n",
        "df_train3 = pd.get_dummies(df_train2,columns=['category'],drop_first=True)\n",
        "df_test3 = pd.get_dummies(df_test2,columns=['category'],drop_first=True)\n",
        "\n",
        "df_train3.info()"
      ],
      "execution_count": null,
      "outputs": [
        {
          "output_type": "stream",
          "text": [
            "<class 'pandas.core.frame.DataFrame'>\n",
            "RangeIndex: 1296675 entries, 0 to 1296674\n",
            "Data columns (total 22 columns):\n",
            " #   Column                   Non-Null Count    Dtype  \n",
            "---  ------                   --------------    -----  \n",
            " 0   amt                      1296675 non-null  float64\n",
            " 1   gender                   1296675 non-null  int64  \n",
            " 2   state                    1296675 non-null  object \n",
            " 3   city_pop                 1296675 non-null  int64  \n",
            " 4   is_fraud                 1296675 non-null  int64  \n",
            " 5   age_at_trans             1296675 non-null  float64\n",
            " 6   lat_dist                 1296675 non-null  float64\n",
            " 7   long_dist                1296675 non-null  float64\n",
            " 8   trans_month              1296675 non-null  int64  \n",
            " 9   category_food_dining     1296675 non-null  uint8  \n",
            " 10  category_gas_transport   1296675 non-null  uint8  \n",
            " 11  category_grocery_net     1296675 non-null  uint8  \n",
            " 12  category_grocery_pos     1296675 non-null  uint8  \n",
            " 13  category_health_fitness  1296675 non-null  uint8  \n",
            " 14  category_home            1296675 non-null  uint8  \n",
            " 15  category_kids_pets       1296675 non-null  uint8  \n",
            " 16  category_misc_net        1296675 non-null  uint8  \n",
            " 17  category_misc_pos        1296675 non-null  uint8  \n",
            " 18  category_personal_care   1296675 non-null  uint8  \n",
            " 19  category_shopping_net    1296675 non-null  uint8  \n",
            " 20  category_shopping_pos    1296675 non-null  uint8  \n",
            " 21  category_travel          1296675 non-null  uint8  \n",
            "dtypes: float64(4), int64(4), object(1), uint8(13)\n",
            "memory usage: 105.1+ MB\n"
          ],
          "name": "stdout"
        }
      ]
    },
    {
      "cell_type": "markdown",
      "metadata": {
        "id": "q3BZSp7DYqo4"
      },
      "source": [
        "#### Building Model"
      ]
    },
    {
      "cell_type": "code",
      "metadata": {
        "colab": {
          "base_uri": "https://localhost:8080/"
        },
        "id": "Of8-UEbTY_c8",
        "outputId": "ee50f49e-fb2f-48ab-fef3-86debae99145"
      },
      "source": [
        "# Dropping State\n",
        "\n",
        "df_train4 = df_train3.drop('state',axis=1)\n",
        "df_test4 = df_test3.drop('state',axis=1)\n",
        "df_train4.info()"
      ],
      "execution_count": null,
      "outputs": [
        {
          "output_type": "stream",
          "text": [
            "<class 'pandas.core.frame.DataFrame'>\n",
            "RangeIndex: 1296675 entries, 0 to 1296674\n",
            "Data columns (total 21 columns):\n",
            " #   Column                   Non-Null Count    Dtype  \n",
            "---  ------                   --------------    -----  \n",
            " 0   amt                      1296675 non-null  float64\n",
            " 1   gender                   1296675 non-null  int64  \n",
            " 2   city_pop                 1296675 non-null  int64  \n",
            " 3   is_fraud                 1296675 non-null  int64  \n",
            " 4   age_at_trans             1296675 non-null  float64\n",
            " 5   lat_dist                 1296675 non-null  float64\n",
            " 6   long_dist                1296675 non-null  float64\n",
            " 7   trans_month              1296675 non-null  int64  \n",
            " 8   category_food_dining     1296675 non-null  uint8  \n",
            " 9   category_gas_transport   1296675 non-null  uint8  \n",
            " 10  category_grocery_net     1296675 non-null  uint8  \n",
            " 11  category_grocery_pos     1296675 non-null  uint8  \n",
            " 12  category_health_fitness  1296675 non-null  uint8  \n",
            " 13  category_home            1296675 non-null  uint8  \n",
            " 14  category_kids_pets       1296675 non-null  uint8  \n",
            " 15  category_misc_net        1296675 non-null  uint8  \n",
            " 16  category_misc_pos        1296675 non-null  uint8  \n",
            " 17  category_personal_care   1296675 non-null  uint8  \n",
            " 18  category_shopping_net    1296675 non-null  uint8  \n",
            " 19  category_shopping_pos    1296675 non-null  uint8  \n",
            " 20  category_travel          1296675 non-null  uint8  \n",
            "dtypes: float64(4), int64(4), uint8(13)\n",
            "memory usage: 95.2 MB\n"
          ],
          "name": "stdout"
        }
      ]
    },
    {
      "cell_type": "code",
      "metadata": {
        "id": "O5_E4rcGZYJd"
      },
      "source": [
        "# Splitting train and test dataset into X and y\n",
        "\n",
        "X_train = df_train4.drop(['is_fraud'],axis=1)\n",
        "y_train = df_train4['is_fraud']\n",
        "\n",
        "X_test = df_test4.drop(['is_fraud'],axis=1)\n",
        "y_test = df_test4['is_fraud']"
      ],
      "execution_count": null,
      "outputs": []
    },
    {
      "cell_type": "markdown",
      "metadata": {
        "id": "GI6T0xIno4pr"
      },
      "source": [
        "#### Oversampling data to compensate for the high class imbalance in the data"
      ]
    },
    {
      "cell_type": "code",
      "metadata": {
        "colab": {
          "base_uri": "https://localhost:8080/"
        },
        "id": "jpAbepY8pBUx",
        "outputId": "128c0226-f285-4b27-82b9-86f4f5c731d7"
      },
      "source": [
        "# Using ADASYN to oversample\n",
        "\n",
        "from imblearn.over_sampling import ADASYN\n",
        "X_train_res, y_train_res = ADASYN().fit_resample(X_train, y_train)\n",
        "\n",
        "from collections import Counter\n",
        "print(sorted(Counter(y_train_res).items()))"
      ],
      "execution_count": null,
      "outputs": [
        {
          "output_type": "stream",
          "text": [
            "/usr/local/lib/python3.7/dist-packages/sklearn/utils/deprecation.py:87: FutureWarning: Function safe_indexing is deprecated; safe_indexing is deprecated in version 0.22 and will be removed in version 0.24.\n",
            "  warnings.warn(msg, category=FutureWarning)\n"
          ],
          "name": "stderr"
        },
        {
          "output_type": "stream",
          "text": [
            "[(0, 1289169), (1, 1288749)]\n"
          ],
          "name": "stdout"
        }
      ]
    },
    {
      "cell_type": "markdown",
      "metadata": {
        "id": "Si2e7J5ObDhi"
      },
      "source": [
        "##### Building a Random Forest Model"
      ]
    },
    {
      "cell_type": "code",
      "metadata": {
        "id": "LaXYT3icbKvI"
      },
      "source": [
        "# Importing required library\n",
        "\n",
        "from sklearn.ensemble import RandomForestClassifier\n",
        "from sklearn.metrics import plot_roc_curve\n",
        "from sklearn.model_selection import GridSearchCV"
      ],
      "execution_count": null,
      "outputs": []
    },
    {
      "cell_type": "code",
      "metadata": {
        "id": "dmVxgMcgbTu_"
      },
      "source": [
        "rf = RandomForestClassifier(n_estimators=10, max_depth=5, max_features=12, min_samples_leaf=100, random_state=100, oob_score=True)"
      ],
      "execution_count": null,
      "outputs": []
    },
    {
      "cell_type": "code",
      "metadata": {
        "colab": {
          "base_uri": "https://localhost:8080/"
        },
        "id": "TzRQN-OrbZ-n",
        "outputId": "44e6d429-bc2e-4de0-ea3c-ffe69a3ebeb8"
      },
      "source": [
        "rf.fit(X_train_res, y_train_res)"
      ],
      "execution_count": null,
      "outputs": [
        {
          "output_type": "stream",
          "text": [
            "/usr/local/lib/python3.7/dist-packages/sklearn/ensemble/_forest.py:523: UserWarning: Some inputs do not have OOB scores. This probably means too few trees were used to compute any reliable oob estimates.\n",
            "  warn(\"Some inputs do not have OOB scores. \"\n",
            "/usr/local/lib/python3.7/dist-packages/sklearn/ensemble/_forest.py:528: RuntimeWarning: invalid value encountered in true_divide\n",
            "  predictions[k].sum(axis=1)[:, np.newaxis])\n"
          ],
          "name": "stderr"
        },
        {
          "output_type": "execute_result",
          "data": {
            "text/plain": [
              "RandomForestClassifier(bootstrap=True, ccp_alpha=0.0, class_weight=None,\n",
              "                       criterion='gini', max_depth=5, max_features=12,\n",
              "                       max_leaf_nodes=None, max_samples=None,\n",
              "                       min_impurity_decrease=0.0, min_impurity_split=None,\n",
              "                       min_samples_leaf=100, min_samples_split=2,\n",
              "                       min_weight_fraction_leaf=0.0, n_estimators=10,\n",
              "                       n_jobs=None, oob_score=True, random_state=100, verbose=0,\n",
              "                       warm_start=False)"
            ]
          },
          "metadata": {
            "tags": []
          },
          "execution_count": 226
        }
      ]
    },
    {
      "cell_type": "code",
      "metadata": {
        "colab": {
          "base_uri": "https://localhost:8080/"
        },
        "id": "XjVqWqNKbcyg",
        "outputId": "bf9df007-1fb6-4da3-a970-8d97fb67eaf1"
      },
      "source": [
        "rf.oob_score_"
      ],
      "execution_count": null,
      "outputs": [
        {
          "output_type": "execute_result",
          "data": {
            "text/plain": [
              "0.9298899344354631"
            ]
          },
          "metadata": {
            "tags": []
          },
          "execution_count": 227
        }
      ]
    },
    {
      "cell_type": "code",
      "metadata": {
        "colab": {
          "base_uri": "https://localhost:8080/",
          "height": 279
        },
        "id": "K1v2b85_bj_O",
        "outputId": "e6035502-64c8-4c58-807c-532b606a1efa"
      },
      "source": [
        "plot_roc_curve(rf, X_train_res, y_train_res)\n",
        "plt.show()"
      ],
      "execution_count": null,
      "outputs": [
        {
          "output_type": "display_data",
          "data": {
            "image/png": "[encoded data removed]",
            "text/plain": [
              "<Figure size 432x288 with 1 Axes>"
            ]
          },
          "metadata": {
            "tags": [],
            "needs_background": "light"
          }
        }
      ]
    },
    {
      "cell_type": "code",
      "metadata": {
        "id": "QgKwuI_6NxKW"
      },
      "source": [
        "imp_df = pd.DataFrame({\n",
        "    \"Varname\": X_train.columns,\n",
        "    \"Imp\": rf.feature_importances_\n",
        "})"
      ],
      "execution_count": null,
      "outputs": []
    },
    {
      "cell_type": "code",
      "metadata": {
        "colab": {
          "base_uri": "https://localhost:8080/",
          "height": 669
        },
        "id": "FPIj6qaKPRAv",
        "outputId": "7b49d578-8f32-4c4e-e68d-7a917ed2013c"
      },
      "source": [
        "imp_df.sort_values(by=\"Imp\", ascending=False)"
      ],
      "execution_count": null,
      "outputs": [
        {
          "output_type": "execute_result",
          "data": {
            "text/html": [
              "<div>\n",
              "<style scoped>\n",
              "    .dataframe tbody tr th:only-of-type {\n",
              "        vertical-align: middle;\n",
              "    }\n",
              "\n",
              "    .dataframe tbody tr th {\n",
              "        vertical-align: top;\n",
              "    }\n",
              "\n",
              "    .dataframe thead th {\n",
              "        text-align: right;\n",
              "    }\n",
              "</style>\n",
              "<table border=\"1\" class=\"dataframe\">\n",
              "  <thead>\n",
              "    <tr style=\"text-align: right;\">\n",
              "      <th></th>\n",
              "      <th>Varname</th>\n",
              "      <th>Imp</th>\n",
              "    </tr>\n",
              "  </thead>\n",
              "  <tbody>\n",
              "    <tr>\n",
              "      <th>0</th>\n",
              "      <td>amt</td>\n",
              "      <td>6.741811e-01</td>\n",
              "    </tr>\n",
              "    <tr>\n",
              "      <th>8</th>\n",
              "      <td>category_gas_transport</td>\n",
              "      <td>1.293945e-01</td>\n",
              "    </tr>\n",
              "    <tr>\n",
              "      <th>10</th>\n",
              "      <td>category_grocery_pos</td>\n",
              "      <td>5.232301e-02</td>\n",
              "    </tr>\n",
              "    <tr>\n",
              "      <th>17</th>\n",
              "      <td>category_shopping_net</td>\n",
              "      <td>3.205304e-02</td>\n",
              "    </tr>\n",
              "    <tr>\n",
              "      <th>16</th>\n",
              "      <td>category_personal_care</td>\n",
              "      <td>2.711764e-02</td>\n",
              "    </tr>\n",
              "    <tr>\n",
              "      <th>13</th>\n",
              "      <td>category_kids_pets</td>\n",
              "      <td>2.518517e-02</td>\n",
              "    </tr>\n",
              "    <tr>\n",
              "      <th>15</th>\n",
              "      <td>category_misc_pos</td>\n",
              "      <td>1.750431e-02</td>\n",
              "    </tr>\n",
              "    <tr>\n",
              "      <th>1</th>\n",
              "      <td>gender</td>\n",
              "      <td>9.864341e-03</td>\n",
              "    </tr>\n",
              "    <tr>\n",
              "      <th>14</th>\n",
              "      <td>category_misc_net</td>\n",
              "      <td>9.285657e-03</td>\n",
              "    </tr>\n",
              "    <tr>\n",
              "      <th>19</th>\n",
              "      <td>category_travel</td>\n",
              "      <td>8.042764e-03</td>\n",
              "    </tr>\n",
              "    <tr>\n",
              "      <th>7</th>\n",
              "      <td>category_food_dining</td>\n",
              "      <td>4.431430e-03</td>\n",
              "    </tr>\n",
              "    <tr>\n",
              "      <th>9</th>\n",
              "      <td>category_grocery_net</td>\n",
              "      <td>4.091956e-03</td>\n",
              "    </tr>\n",
              "    <tr>\n",
              "      <th>18</th>\n",
              "      <td>category_shopping_pos</td>\n",
              "      <td>3.208406e-03</td>\n",
              "    </tr>\n",
              "    <tr>\n",
              "      <th>2</th>\n",
              "      <td>city_pop</td>\n",
              "      <td>1.781310e-03</td>\n",
              "    </tr>\n",
              "    <tr>\n",
              "      <th>12</th>\n",
              "      <td>category_home</td>\n",
              "      <td>1.009814e-03</td>\n",
              "    </tr>\n",
              "    <tr>\n",
              "      <th>6</th>\n",
              "      <td>trans_month</td>\n",
              "      <td>4.629258e-04</td>\n",
              "    </tr>\n",
              "    <tr>\n",
              "      <th>3</th>\n",
              "      <td>age_at_trans</td>\n",
              "      <td>6.080661e-05</td>\n",
              "    </tr>\n",
              "    <tr>\n",
              "      <th>5</th>\n",
              "      <td>long_dist</td>\n",
              "      <td>1.130483e-06</td>\n",
              "    </tr>\n",
              "    <tr>\n",
              "      <th>4</th>\n",
              "      <td>lat_dist</td>\n",
              "      <td>6.153246e-07</td>\n",
              "    </tr>\n",
              "    <tr>\n",
              "      <th>11</th>\n",
              "      <td>category_health_fitness</td>\n",
              "      <td>0.000000e+00</td>\n",
              "    </tr>\n",
              "  </tbody>\n",
              "</table>\n",
              "</div>"
            ],
            "text/plain": [
              "                    Varname           Imp\n",
              "0                       amt  6.741811e-01\n",
              "8    category_gas_transport  1.293945e-01\n",
              "10     category_grocery_pos  5.232301e-02\n",
              "17    category_shopping_net  3.205304e-02\n",
              "16   category_personal_care  2.711764e-02\n",
              "13       category_kids_pets  2.518517e-02\n",
              "15        category_misc_pos  1.750431e-02\n",
              "1                    gender  9.864341e-03\n",
              "14        category_misc_net  9.285657e-03\n",
              "19          category_travel  8.042764e-03\n",
              "7      category_food_dining  4.431430e-03\n",
              "9      category_grocery_net  4.091956e-03\n",
              "18    category_shopping_pos  3.208406e-03\n",
              "2                  city_pop  1.781310e-03\n",
              "12            category_home  1.009814e-03\n",
              "6               trans_month  4.629258e-04\n",
              "3              age_at_trans  6.080661e-05\n",
              "5                 long_dist  1.130483e-06\n",
              "4                  lat_dist  6.153246e-07\n",
              "11  category_health_fitness  0.000000e+00"
            ]
          },
          "metadata": {
            "tags": []
          },
          "execution_count": 230
        }
      ]
    },
    {
      "cell_type": "code",
      "metadata": {
        "colab": {
          "base_uri": "https://localhost:8080/"
        },
        "id": "uRB0tiPYNAGX",
        "outputId": "a0f29be0-8cd4-43de-f329-08cb5443c491"
      },
      "source": [
        "y_train_pred = rf.predict(X_train_res)\n",
        "y_train_pred[:10]"
      ],
      "execution_count": null,
      "outputs": [
        {
          "output_type": "execute_result",
          "data": {
            "text/plain": [
              "array([0, 0, 0, 0, 0, 0, 0, 0, 0, 0])"
            ]
          },
          "metadata": {
            "tags": []
          },
          "execution_count": 231
        }
      ]
    },
    {
      "cell_type": "code",
      "metadata": {
        "colab": {
          "base_uri": "https://localhost:8080/"
        },
        "id": "6UVcGIVjNAVR",
        "outputId": "9638aa6d-49b7-4063-ddbd-10761689ff32"
      },
      "source": [
        "from sklearn.metrics import classification_report\n",
        "print(classification_report(y_train_res, y_train_pred))"
      ],
      "execution_count": null,
      "outputs": [
        {
          "output_type": "stream",
          "text": [
            "              precision    recall  f1-score   support\n",
            "\n",
            "           0       0.91      0.98      0.95   1289169\n",
            "           1       0.98      0.91      0.94   1288749\n",
            "\n",
            "    accuracy                           0.94   2577918\n",
            "   macro avg       0.95      0.94      0.94   2577918\n",
            "weighted avg       0.95      0.94      0.94   2577918\n",
            "\n"
          ],
          "name": "stdout"
        }
      ]
    },
    {
      "cell_type": "markdown",
      "metadata": {
        "id": "6t9F64mqSGwq"
      },
      "source": [
        "#### Predicting on test set"
      ]
    },
    {
      "cell_type": "code",
      "metadata": {
        "colab": {
          "base_uri": "https://localhost:8080/"
        },
        "id": "NP8PIunJNAeB",
        "outputId": "05120937-7d49-4416-e616-1963163d047f"
      },
      "source": [
        "y_test_pred = rf.predict(X_test)\n",
        "y_test_pred[:10]"
      ],
      "execution_count": null,
      "outputs": [
        {
          "output_type": "execute_result",
          "data": {
            "text/plain": [
              "array([0, 0, 0, 0, 0, 0, 0, 0, 0, 0])"
            ]
          },
          "metadata": {
            "tags": []
          },
          "execution_count": 237
        }
      ]
    },
    {
      "cell_type": "code",
      "metadata": {
        "colab": {
          "base_uri": "https://localhost:8080/"
        },
        "id": "RkaWkR6USBIt",
        "outputId": "16285176-50c5-4125-9751-a15aef7ceac8"
      },
      "source": [
        "print(classification_report(y_test, y_test_pred))"
      ],
      "execution_count": null,
      "outputs": [
        {
          "output_type": "stream",
          "text": [
            "              precision    recall  f1-score   support\n",
            "\n",
            "           0       1.00      0.98      0.99    553574\n",
            "           1       0.15      0.81      0.26      2145\n",
            "\n",
            "    accuracy                           0.98    555719\n",
            "   macro avg       0.58      0.90      0.62    555719\n",
            "weighted avg       1.00      0.98      0.99    555719\n",
            "\n"
          ],
          "name": "stdout"
        }
      ]
    },
    {
      "cell_type": "markdown",
      "metadata": {
        "id": "PtDliZuDYbAr"
      },
      "source": [
        "#### Testing model on original data without oversampling"
      ]
    },
    {
      "cell_type": "code",
      "metadata": {
        "colab": {
          "base_uri": "https://localhost:8080/"
        },
        "id": "0DNLGbNHNAoo",
        "outputId": "ced9b24b-83c4-4644-db46-3efe74d2feac"
      },
      "source": [
        "y_train_pred = rf.predict(X_train)\n",
        "y_test_pred = rf.predict(X_test)\n",
        "\n",
        "print(classification_report(y_train, y_train_pred))\n",
        "print(classification_report(y_test, y_test_pred))"
      ],
      "execution_count": null,
      "outputs": [
        {
          "output_type": "stream",
          "text": [
            "              precision    recall  f1-score   support\n",
            "\n",
            "           0       1.00      0.98      0.99   1289169\n",
            "           1       0.21      0.84      0.34      7506\n",
            "\n",
            "    accuracy                           0.98   1296675\n",
            "   macro avg       0.60      0.91      0.66   1296675\n",
            "weighted avg       0.99      0.98      0.99   1296675\n",
            "\n",
            "              precision    recall  f1-score   support\n",
            "\n",
            "           0       1.00      0.98      0.99    553574\n",
            "           1       0.15      0.81      0.26      2145\n",
            "\n",
            "    accuracy                           0.98    555719\n",
            "   macro avg       0.58      0.90      0.62    555719\n",
            "weighted avg       1.00      0.98      0.99    555719\n",
            "\n"
          ],
          "name": "stdout"
        }
      ]
    },
    {
      "cell_type": "code",
      "metadata": {
        "colab": {
          "base_uri": "https://localhost:8080/"
        },
        "id": "c8iLXhhgZund",
        "outputId": "c3ac1f5e-40eb-4d88-e112-ad30c059086f"
      },
      "source": [
        "df_train.nunique()"
      ],
      "execution_count": null,
      "outputs": [
        {
          "output_type": "execute_result",
          "data": {
            "text/plain": [
              "trans_date_trans_time    1274791\n",
              "cc_num                       983\n",
              "merchant                     693\n",
              "category                      14\n",
              "amt                        52928\n",
              "first                        352\n",
              "last                         481\n",
              "gender                         2\n",
              "street                       983\n",
              "city                         894\n",
              "state                         51\n",
              "zip                          970\n",
              "lat                          968\n",
              "long                         969\n",
              "city_pop                     879\n",
              "job                          494\n",
              "dob                          968\n",
              "trans_num                1296675\n",
              "unix_time                1274823\n",
              "merch_lat                1247805\n",
              "merch_long               1275745\n",
              "is_fraud                       2\n",
              "trans_date                   537\n",
              "dtype: int64"
            ]
          },
          "metadata": {
            "tags": []
          },
          "execution_count": 239
        }
      ]
    },
    {
      "cell_type": "code",
      "metadata": {
        "colab": {
          "base_uri": "https://localhost:8080/"
        },
        "id": "5m2RJ2MUiENZ",
        "outputId": "9bf694e2-b419-4bb0-80ed-46085127ac04"
      },
      "source": [
        "df_train.shape"
      ],
      "execution_count": null,
      "outputs": [
        {
          "output_type": "execute_result",
          "data": {
            "text/plain": [
              "(1296675, 23)"
            ]
          },
          "metadata": {
            "tags": []
          },
          "execution_count": 240
        }
      ]
    },
    {
      "cell_type": "code",
      "metadata": {
        "colab": {
          "base_uri": "https://localhost:8080/",
          "height": 204
        },
        "id": "VgW8LhbRiPgq",
        "outputId": "a6083c84-2934-4fa4-8b24-3410e868747d"
      },
      "source": [
        "# Subset of df_train\n",
        "\n",
        "df_train_merge = df_train[['trans_date_trans_time','amt','trans_num','is_fraud']]\n",
        "df_train_merge.head()"
      ],
      "execution_count": null,
      "outputs": [
        {
          "output_type": "execute_result",
          "data": {
            "text/html": [
              "<div>\n",
              "<style scoped>\n",
              "    .dataframe tbody tr th:only-of-type {\n",
              "        vertical-align: middle;\n",
              "    }\n",
              "\n",
              "    .dataframe tbody tr th {\n",
              "        vertical-align: top;\n",
              "    }\n",
              "\n",
              "    .dataframe thead th {\n",
              "        text-align: right;\n",
              "    }\n",
              "</style>\n",
              "<table border=\"1\" class=\"dataframe\">\n",
              "  <thead>\n",
              "    <tr style=\"text-align: right;\">\n",
              "      <th></th>\n",
              "      <th>trans_date_trans_time</th>\n",
              "      <th>amt</th>\n",
              "      <th>trans_num</th>\n",
              "      <th>is_fraud</th>\n",
              "    </tr>\n",
              "  </thead>\n",
              "  <tbody>\n",
              "    <tr>\n",
              "      <th>0</th>\n",
              "      <td>2019-01-01 00:00:18</td>\n",
              "      <td>4.97</td>\n",
              "      <td>0b242abb623afc578575680df30655b9</td>\n",
              "      <td>0</td>\n",
              "    </tr>\n",
              "    <tr>\n",
              "      <th>1</th>\n",
              "      <td>2019-01-01 00:00:44</td>\n",
              "      <td>107.23</td>\n",
              "      <td>1f76529f8574734946361c461b024d99</td>\n",
              "      <td>0</td>\n",
              "    </tr>\n",
              "    <tr>\n",
              "      <th>2</th>\n",
              "      <td>2019-01-01 00:00:51</td>\n",
              "      <td>220.11</td>\n",
              "      <td>a1a22d70485983eac12b5b88dad1cf95</td>\n",
              "      <td>0</td>\n",
              "    </tr>\n",
              "    <tr>\n",
              "      <th>3</th>\n",
              "      <td>2019-01-01 00:01:16</td>\n",
              "      <td>45.00</td>\n",
              "      <td>6b849c168bdad6f867558c3793159a81</td>\n",
              "      <td>0</td>\n",
              "    </tr>\n",
              "    <tr>\n",
              "      <th>4</th>\n",
              "      <td>2019-01-01 00:03:06</td>\n",
              "      <td>41.96</td>\n",
              "      <td>a41d7549acf90789359a9aa5346dcb46</td>\n",
              "      <td>0</td>\n",
              "    </tr>\n",
              "  </tbody>\n",
              "</table>\n",
              "</div>"
            ],
            "text/plain": [
              "  trans_date_trans_time     amt                         trans_num  is_fraud\n",
              "0   2019-01-01 00:00:18    4.97  0b242abb623afc578575680df30655b9         0\n",
              "1   2019-01-01 00:00:44  107.23  1f76529f8574734946361c461b024d99         0\n",
              "2   2019-01-01 00:00:51  220.11  a1a22d70485983eac12b5b88dad1cf95         0\n",
              "3   2019-01-01 00:01:16   45.00  6b849c168bdad6f867558c3793159a81         0\n",
              "4   2019-01-01 00:03:06   41.96  a41d7549acf90789359a9aa5346dcb46         0"
            ]
          },
          "metadata": {
            "tags": []
          },
          "execution_count": 245
        }
      ]
    },
    {
      "cell_type": "code",
      "metadata": {
        "colab": {
          "base_uri": "https://localhost:8080/",
          "height": 204
        },
        "id": "YGnNHOtZn_Hb",
        "outputId": "208ef37e-72e5-4f15-8da3-2e561f20f5d4"
      },
      "source": [
        "# Creating dataframe of y_train_pred\n",
        "\n",
        "df_train_pred = pd.DataFrame(y_train_pred)\n",
        "df_train_pred.head()"
      ],
      "execution_count": null,
      "outputs": [
        {
          "output_type": "execute_result",
          "data": {
            "text/html": [
              "<div>\n",
              "<style scoped>\n",
              "    .dataframe tbody tr th:only-of-type {\n",
              "        vertical-align: middle;\n",
              "    }\n",
              "\n",
              "    .dataframe tbody tr th {\n",
              "        vertical-align: top;\n",
              "    }\n",
              "\n",
              "    .dataframe thead th {\n",
              "        text-align: right;\n",
              "    }\n",
              "</style>\n",
              "<table border=\"1\" class=\"dataframe\">\n",
              "  <thead>\n",
              "    <tr style=\"text-align: right;\">\n",
              "      <th></th>\n",
              "      <th>0</th>\n",
              "    </tr>\n",
              "  </thead>\n",
              "  <tbody>\n",
              "    <tr>\n",
              "      <th>0</th>\n",
              "      <td>0</td>\n",
              "    </tr>\n",
              "    <tr>\n",
              "      <th>1</th>\n",
              "      <td>0</td>\n",
              "    </tr>\n",
              "    <tr>\n",
              "      <th>2</th>\n",
              "      <td>0</td>\n",
              "    </tr>\n",
              "    <tr>\n",
              "      <th>3</th>\n",
              "      <td>0</td>\n",
              "    </tr>\n",
              "    <tr>\n",
              "      <th>4</th>\n",
              "      <td>0</td>\n",
              "    </tr>\n",
              "  </tbody>\n",
              "</table>\n",
              "</div>"
            ],
            "text/plain": [
              "   0\n",
              "0  0\n",
              "1  0\n",
              "2  0\n",
              "3  0\n",
              "4  0"
            ]
          },
          "metadata": {
            "tags": []
          },
          "execution_count": 244
        }
      ]
    },
    {
      "cell_type": "code",
      "metadata": {
        "colab": {
          "base_uri": "https://localhost:8080/",
          "height": 204
        },
        "id": "zLdg6fN7nwj1",
        "outputId": "8a19dbc1-ca1c-45f3-dbe7-b81718d843cc"
      },
      "source": [
        "# Merging the two dataframes\n",
        "\n",
        "df_train_final = pd.concat([df_train_merge, df_train_pred],axis=1)\n",
        "df_train_final.head()"
      ],
      "execution_count": null,
      "outputs": [
        {
          "output_type": "execute_result",
          "data": {
            "text/html": [
              "<div>\n",
              "<style scoped>\n",
              "    .dataframe tbody tr th:only-of-type {\n",
              "        vertical-align: middle;\n",
              "    }\n",
              "\n",
              "    .dataframe tbody tr th {\n",
              "        vertical-align: top;\n",
              "    }\n",
              "\n",
              "    .dataframe thead th {\n",
              "        text-align: right;\n",
              "    }\n",
              "</style>\n",
              "<table border=\"1\" class=\"dataframe\">\n",
              "  <thead>\n",
              "    <tr style=\"text-align: right;\">\n",
              "      <th></th>\n",
              "      <th>trans_date_trans_time</th>\n",
              "      <th>amt</th>\n",
              "      <th>trans_num</th>\n",
              "      <th>is_fraud</th>\n",
              "      <th>0</th>\n",
              "    </tr>\n",
              "  </thead>\n",
              "  <tbody>\n",
              "    <tr>\n",
              "      <th>0</th>\n",
              "      <td>2019-01-01 00:00:18</td>\n",
              "      <td>4.97</td>\n",
              "      <td>0b242abb623afc578575680df30655b9</td>\n",
              "      <td>0</td>\n",
              "      <td>0</td>\n",
              "    </tr>\n",
              "    <tr>\n",
              "      <th>1</th>\n",
              "      <td>2019-01-01 00:00:44</td>\n",
              "      <td>107.23</td>\n",
              "      <td>1f76529f8574734946361c461b024d99</td>\n",
              "      <td>0</td>\n",
              "      <td>0</td>\n",
              "    </tr>\n",
              "    <tr>\n",
              "      <th>2</th>\n",
              "      <td>2019-01-01 00:00:51</td>\n",
              "      <td>220.11</td>\n",
              "      <td>a1a22d70485983eac12b5b88dad1cf95</td>\n",
              "      <td>0</td>\n",
              "      <td>0</td>\n",
              "    </tr>\n",
              "    <tr>\n",
              "      <th>3</th>\n",
              "      <td>2019-01-01 00:01:16</td>\n",
              "      <td>45.00</td>\n",
              "      <td>6b849c168bdad6f867558c3793159a81</td>\n",
              "      <td>0</td>\n",
              "      <td>0</td>\n",
              "    </tr>\n",
              "    <tr>\n",
              "      <th>4</th>\n",
              "      <td>2019-01-01 00:03:06</td>\n",
              "      <td>41.96</td>\n",
              "      <td>a41d7549acf90789359a9aa5346dcb46</td>\n",
              "      <td>0</td>\n",
              "      <td>0</td>\n",
              "    </tr>\n",
              "  </tbody>\n",
              "</table>\n",
              "</div>"
            ],
            "text/plain": [
              "  trans_date_trans_time     amt                         trans_num  is_fraud  0\n",
              "0   2019-01-01 00:00:18    4.97  0b242abb623afc578575680df30655b9         0  0\n",
              "1   2019-01-01 00:00:44  107.23  1f76529f8574734946361c461b024d99         0  0\n",
              "2   2019-01-01 00:00:51  220.11  a1a22d70485983eac12b5b88dad1cf95         0  0\n",
              "3   2019-01-01 00:01:16   45.00  6b849c168bdad6f867558c3793159a81         0  0\n",
              "4   2019-01-01 00:03:06   41.96  a41d7549acf90789359a9aa5346dcb46         0  0"
            ]
          },
          "metadata": {
            "tags": []
          },
          "execution_count": 246
        }
      ]
    },
    {
      "cell_type": "code",
      "metadata": {
        "colab": {
          "base_uri": "https://localhost:8080/",
          "height": 204
        },
        "id": "WWHUqtono8YN",
        "outputId": "c00fc3e6-439b-4c17-a66d-e4368a97cedf"
      },
      "source": [
        "# Renaming column\n",
        "\n",
        "df_train_final= df_train_final.rename(columns={ 0 : 'is_fraud_pred'})\n",
        "df_train_final.head()"
      ],
      "execution_count": null,
      "outputs": [
        {
          "output_type": "execute_result",
          "data": {
            "text/html": [
              "<div>\n",
              "<style scoped>\n",
              "    .dataframe tbody tr th:only-of-type {\n",
              "        vertical-align: middle;\n",
              "    }\n",
              "\n",
              "    .dataframe tbody tr th {\n",
              "        vertical-align: top;\n",
              "    }\n",
              "\n",
              "    .dataframe thead th {\n",
              "        text-align: right;\n",
              "    }\n",
              "</style>\n",
              "<table border=\"1\" class=\"dataframe\">\n",
              "  <thead>\n",
              "    <tr style=\"text-align: right;\">\n",
              "      <th></th>\n",
              "      <th>trans_date_trans_time</th>\n",
              "      <th>amt</th>\n",
              "      <th>trans_num</th>\n",
              "      <th>is_fraud</th>\n",
              "      <th>is_fraud_pred</th>\n",
              "    </tr>\n",
              "  </thead>\n",
              "  <tbody>\n",
              "    <tr>\n",
              "      <th>0</th>\n",
              "      <td>2019-01-01 00:00:18</td>\n",
              "      <td>4.97</td>\n",
              "      <td>0b242abb623afc578575680df30655b9</td>\n",
              "      <td>0</td>\n",
              "      <td>0</td>\n",
              "    </tr>\n",
              "    <tr>\n",
              "      <th>1</th>\n",
              "      <td>2019-01-01 00:00:44</td>\n",
              "      <td>107.23</td>\n",
              "      <td>1f76529f8574734946361c461b024d99</td>\n",
              "      <td>0</td>\n",
              "      <td>0</td>\n",
              "    </tr>\n",
              "    <tr>\n",
              "      <th>2</th>\n",
              "      <td>2019-01-01 00:00:51</td>\n",
              "      <td>220.11</td>\n",
              "      <td>a1a22d70485983eac12b5b88dad1cf95</td>\n",
              "      <td>0</td>\n",
              "      <td>0</td>\n",
              "    </tr>\n",
              "    <tr>\n",
              "      <th>3</th>\n",
              "      <td>2019-01-01 00:01:16</td>\n",
              "      <td>45.00</td>\n",
              "      <td>6b849c168bdad6f867558c3793159a81</td>\n",
              "      <td>0</td>\n",
              "      <td>0</td>\n",
              "    </tr>\n",
              "    <tr>\n",
              "      <th>4</th>\n",
              "      <td>2019-01-01 00:03:06</td>\n",
              "      <td>41.96</td>\n",
              "      <td>a41d7549acf90789359a9aa5346dcb46</td>\n",
              "      <td>0</td>\n",
              "      <td>0</td>\n",
              "    </tr>\n",
              "  </tbody>\n",
              "</table>\n",
              "</div>"
            ],
            "text/plain": [
              "  trans_date_trans_time     amt  ... is_fraud  is_fraud_pred\n",
              "0   2019-01-01 00:00:18    4.97  ...        0              0\n",
              "1   2019-01-01 00:00:44  107.23  ...        0              0\n",
              "2   2019-01-01 00:00:51  220.11  ...        0              0\n",
              "3   2019-01-01 00:01:16   45.00  ...        0              0\n",
              "4   2019-01-01 00:03:06   41.96  ...        0              0\n",
              "\n",
              "[5 rows x 5 columns]"
            ]
          },
          "metadata": {
            "tags": []
          },
          "execution_count": 247
        }
      ]
    },
    {
      "cell_type": "code",
      "metadata": {
        "colab": {
          "base_uri": "https://localhost:8080/"
        },
        "id": "gEN2gHA-pONY",
        "outputId": "c231942d-1279-4253-afb2-5eb7db81dc52"
      },
      "source": [
        "df_train_final.groupby('is_fraud')['is_fraud'].count()"
      ],
      "execution_count": null,
      "outputs": [
        {
          "output_type": "execute_result",
          "data": {
            "text/plain": [
              "is_fraud\n",
              "0    1289169\n",
              "1       7506\n",
              "Name: is_fraud, dtype: int64"
            ]
          },
          "metadata": {
            "tags": []
          },
          "execution_count": 249
        }
      ]
    },
    {
      "cell_type": "code",
      "metadata": {
        "colab": {
          "base_uri": "https://localhost:8080/"
        },
        "id": "MnLbx8xxpf90",
        "outputId": "b4be3d2a-2804-412e-e794-f96b30fc8b3f"
      },
      "source": [
        "df_train_final.groupby('is_fraud_pred')['is_fraud_pred'].count()"
      ],
      "execution_count": null,
      "outputs": [
        {
          "output_type": "execute_result",
          "data": {
            "text/plain": [
              "is_fraud_pred\n",
              "0    1266868\n",
              "1      29807\n",
              "Name: is_fraud_pred, dtype: int64"
            ]
          },
          "metadata": {
            "tags": []
          },
          "execution_count": 250
        }
      ]
    },
    {
      "cell_type": "code",
      "metadata": {
        "colab": {
          "base_uri": "https://localhost:8080/",
          "height": 204
        },
        "id": "6pbZ5wILqR66",
        "outputId": "ddbbd0e5-5c48-4137-942c-9fe5af360f3f"
      },
      "source": [
        "# Subset of df_test\n",
        "\n",
        "df_test_merge = df_test[['trans_date_trans_time','amt','trans_num','is_fraud']]\n",
        "df_test_merge.head()"
      ],
      "execution_count": null,
      "outputs": [
        {
          "output_type": "execute_result",
          "data": {
            "text/html": [
              "<div>\n",
              "<style scoped>\n",
              "    .dataframe tbody tr th:only-of-type {\n",
              "        vertical-align: middle;\n",
              "    }\n",
              "\n",
              "    .dataframe tbody tr th {\n",
              "        vertical-align: top;\n",
              "    }\n",
              "\n",
              "    .dataframe thead th {\n",
              "        text-align: right;\n",
              "    }\n",
              "</style>\n",
              "<table border=\"1\" class=\"dataframe\">\n",
              "  <thead>\n",
              "    <tr style=\"text-align: right;\">\n",
              "      <th></th>\n",
              "      <th>trans_date_trans_time</th>\n",
              "      <th>amt</th>\n",
              "      <th>trans_num</th>\n",
              "      <th>is_fraud</th>\n",
              "    </tr>\n",
              "  </thead>\n",
              "  <tbody>\n",
              "    <tr>\n",
              "      <th>0</th>\n",
              "      <td>2020-06-21 12:14:25</td>\n",
              "      <td>2.86</td>\n",
              "      <td>2da90c7d74bd46a0caf3777415b3ebd3</td>\n",
              "      <td>0</td>\n",
              "    </tr>\n",
              "    <tr>\n",
              "      <th>1</th>\n",
              "      <td>2020-06-21 12:14:33</td>\n",
              "      <td>29.84</td>\n",
              "      <td>324cc204407e99f51b0d6ca0055005e7</td>\n",
              "      <td>0</td>\n",
              "    </tr>\n",
              "    <tr>\n",
              "      <th>2</th>\n",
              "      <td>2020-06-21 12:14:53</td>\n",
              "      <td>41.28</td>\n",
              "      <td>c81755dbbbea9d5c77f094348a7579be</td>\n",
              "      <td>0</td>\n",
              "    </tr>\n",
              "    <tr>\n",
              "      <th>3</th>\n",
              "      <td>2020-06-21 12:15:15</td>\n",
              "      <td>60.05</td>\n",
              "      <td>2159175b9efe66dc301f149d3d5abf8c</td>\n",
              "      <td>0</td>\n",
              "    </tr>\n",
              "    <tr>\n",
              "      <th>4</th>\n",
              "      <td>2020-06-21 12:15:17</td>\n",
              "      <td>3.19</td>\n",
              "      <td>57ff021bd3f328f8738bb535c302a31b</td>\n",
              "      <td>0</td>\n",
              "    </tr>\n",
              "  </tbody>\n",
              "</table>\n",
              "</div>"
            ],
            "text/plain": [
              "  trans_date_trans_time    amt                         trans_num  is_fraud\n",
              "0   2020-06-21 12:14:25   2.86  2da90c7d74bd46a0caf3777415b3ebd3         0\n",
              "1   2020-06-21 12:14:33  29.84  324cc204407e99f51b0d6ca0055005e7         0\n",
              "2   2020-06-21 12:14:53  41.28  c81755dbbbea9d5c77f094348a7579be         0\n",
              "3   2020-06-21 12:15:15  60.05  2159175b9efe66dc301f149d3d5abf8c         0\n",
              "4   2020-06-21 12:15:17   3.19  57ff021bd3f328f8738bb535c302a31b         0"
            ]
          },
          "metadata": {
            "tags": []
          },
          "execution_count": 254
        }
      ]
    },
    {
      "cell_type": "code",
      "metadata": {
        "colab": {
          "base_uri": "https://localhost:8080/",
          "height": 204
        },
        "id": "-BnawlMnqrZT",
        "outputId": "94f1cfad-87ec-43f0-fb27-3dad8eeabd0b"
      },
      "source": [
        "# Creating dataframe of y_test_pred\n",
        "\n",
        "df_test_pred = pd.DataFrame(y_test_pred)\n",
        "df_test_pred.head()"
      ],
      "execution_count": null,
      "outputs": [
        {
          "output_type": "execute_result",
          "data": {
            "text/html": [
              "<div>\n",
              "<style scoped>\n",
              "    .dataframe tbody tr th:only-of-type {\n",
              "        vertical-align: middle;\n",
              "    }\n",
              "\n",
              "    .dataframe tbody tr th {\n",
              "        vertical-align: top;\n",
              "    }\n",
              "\n",
              "    .dataframe thead th {\n",
              "        text-align: right;\n",
              "    }\n",
              "</style>\n",
              "<table border=\"1\" class=\"dataframe\">\n",
              "  <thead>\n",
              "    <tr style=\"text-align: right;\">\n",
              "      <th></th>\n",
              "      <th>0</th>\n",
              "    </tr>\n",
              "  </thead>\n",
              "  <tbody>\n",
              "    <tr>\n",
              "      <th>0</th>\n",
              "      <td>0</td>\n",
              "    </tr>\n",
              "    <tr>\n",
              "      <th>1</th>\n",
              "      <td>0</td>\n",
              "    </tr>\n",
              "    <tr>\n",
              "      <th>2</th>\n",
              "      <td>0</td>\n",
              "    </tr>\n",
              "    <tr>\n",
              "      <th>3</th>\n",
              "      <td>0</td>\n",
              "    </tr>\n",
              "    <tr>\n",
              "      <th>4</th>\n",
              "      <td>0</td>\n",
              "    </tr>\n",
              "  </tbody>\n",
              "</table>\n",
              "</div>"
            ],
            "text/plain": [
              "   0\n",
              "0  0\n",
              "1  0\n",
              "2  0\n",
              "3  0\n",
              "4  0"
            ]
          },
          "metadata": {
            "tags": []
          },
          "execution_count": 255
        }
      ]
    },
    {
      "cell_type": "code",
      "metadata": {
        "colab": {
          "base_uri": "https://localhost:8080/",
          "height": 204
        },
        "id": "OiOO4BQ_qz2s",
        "outputId": "b4427155-5a0c-4b15-8836-56eff6aa287f"
      },
      "source": [
        " # Merging the two dataframes\n",
        "\n",
        "df_test_final = pd.concat([df_test_merge, df_test_pred],axis=1)\n",
        "df_test_final.head()"
      ],
      "execution_count": null,
      "outputs": [
        {
          "output_type": "execute_result",
          "data": {
            "text/html": [
              "<div>\n",
              "<style scoped>\n",
              "    .dataframe tbody tr th:only-of-type {\n",
              "        vertical-align: middle;\n",
              "    }\n",
              "\n",
              "    .dataframe tbody tr th {\n",
              "        vertical-align: top;\n",
              "    }\n",
              "\n",
              "    .dataframe thead th {\n",
              "        text-align: right;\n",
              "    }\n",
              "</style>\n",
              "<table border=\"1\" class=\"dataframe\">\n",
              "  <thead>\n",
              "    <tr style=\"text-align: right;\">\n",
              "      <th></th>\n",
              "      <th>trans_date_trans_time</th>\n",
              "      <th>amt</th>\n",
              "      <th>trans_num</th>\n",
              "      <th>is_fraud</th>\n",
              "      <th>0</th>\n",
              "    </tr>\n",
              "  </thead>\n",
              "  <tbody>\n",
              "    <tr>\n",
              "      <th>0</th>\n",
              "      <td>2020-06-21 12:14:25</td>\n",
              "      <td>2.86</td>\n",
              "      <td>2da90c7d74bd46a0caf3777415b3ebd3</td>\n",
              "      <td>0</td>\n",
              "      <td>0</td>\n",
              "    </tr>\n",
              "    <tr>\n",
              "      <th>1</th>\n",
              "      <td>2020-06-21 12:14:33</td>\n",
              "      <td>29.84</td>\n",
              "      <td>324cc204407e99f51b0d6ca0055005e7</td>\n",
              "      <td>0</td>\n",
              "      <td>0</td>\n",
              "    </tr>\n",
              "    <tr>\n",
              "      <th>2</th>\n",
              "      <td>2020-06-21 12:14:53</td>\n",
              "      <td>41.28</td>\n",
              "      <td>c81755dbbbea9d5c77f094348a7579be</td>\n",
              "      <td>0</td>\n",
              "      <td>0</td>\n",
              "    </tr>\n",
              "    <tr>\n",
              "      <th>3</th>\n",
              "      <td>2020-06-21 12:15:15</td>\n",
              "      <td>60.05</td>\n",
              "      <td>2159175b9efe66dc301f149d3d5abf8c</td>\n",
              "      <td>0</td>\n",
              "      <td>0</td>\n",
              "    </tr>\n",
              "    <tr>\n",
              "      <th>4</th>\n",
              "      <td>2020-06-21 12:15:17</td>\n",
              "      <td>3.19</td>\n",
              "      <td>57ff021bd3f328f8738bb535c302a31b</td>\n",
              "      <td>0</td>\n",
              "      <td>0</td>\n",
              "    </tr>\n",
              "  </tbody>\n",
              "</table>\n",
              "</div>"
            ],
            "text/plain": [
              "  trans_date_trans_time    amt                         trans_num  is_fraud  0\n",
              "0   2020-06-21 12:14:25   2.86  2da90c7d74bd46a0caf3777415b3ebd3         0  0\n",
              "1   2020-06-21 12:14:33  29.84  324cc204407e99f51b0d6ca0055005e7         0  0\n",
              "2   2020-06-21 12:14:53  41.28  c81755dbbbea9d5c77f094348a7579be         0  0\n",
              "3   2020-06-21 12:15:15  60.05  2159175b9efe66dc301f149d3d5abf8c         0  0\n",
              "4   2020-06-21 12:15:17   3.19  57ff021bd3f328f8738bb535c302a31b         0  0"
            ]
          },
          "metadata": {
            "tags": []
          },
          "execution_count": 256
        }
      ]
    },
    {
      "cell_type": "code",
      "metadata": {
        "colab": {
          "base_uri": "https://localhost:8080/",
          "height": 204
        },
        "id": "V_BEVydcq9ya",
        "outputId": "68111a94-4310-4227-84f0-bbcce20093e1"
      },
      "source": [
        "# Renaming column\n",
        "\n",
        "df_test_final= df_test_final.rename(columns={ 0 : 'is_fraud_pred'})\n",
        "df_test_final.head()"
      ],
      "execution_count": null,
      "outputs": [
        {
          "output_type": "execute_result",
          "data": {
            "text/html": [
              "<div>\n",
              "<style scoped>\n",
              "    .dataframe tbody tr th:only-of-type {\n",
              "        vertical-align: middle;\n",
              "    }\n",
              "\n",
              "    .dataframe tbody tr th {\n",
              "        vertical-align: top;\n",
              "    }\n",
              "\n",
              "    .dataframe thead th {\n",
              "        text-align: right;\n",
              "    }\n",
              "</style>\n",
              "<table border=\"1\" class=\"dataframe\">\n",
              "  <thead>\n",
              "    <tr style=\"text-align: right;\">\n",
              "      <th></th>\n",
              "      <th>trans_date_trans_time</th>\n",
              "      <th>amt</th>\n",
              "      <th>trans_num</th>\n",
              "      <th>is_fraud</th>\n",
              "      <th>is_fraud_pred</th>\n",
              "    </tr>\n",
              "  </thead>\n",
              "  <tbody>\n",
              "    <tr>\n",
              "      <th>0</th>\n",
              "      <td>2020-06-21 12:14:25</td>\n",
              "      <td>2.86</td>\n",
              "      <td>2da90c7d74bd46a0caf3777415b3ebd3</td>\n",
              "      <td>0</td>\n",
              "      <td>0</td>\n",
              "    </tr>\n",
              "    <tr>\n",
              "      <th>1</th>\n",
              "      <td>2020-06-21 12:14:33</td>\n",
              "      <td>29.84</td>\n",
              "      <td>324cc204407e99f51b0d6ca0055005e7</td>\n",
              "      <td>0</td>\n",
              "      <td>0</td>\n",
              "    </tr>\n",
              "    <tr>\n",
              "      <th>2</th>\n",
              "      <td>2020-06-21 12:14:53</td>\n",
              "      <td>41.28</td>\n",
              "      <td>c81755dbbbea9d5c77f094348a7579be</td>\n",
              "      <td>0</td>\n",
              "      <td>0</td>\n",
              "    </tr>\n",
              "    <tr>\n",
              "      <th>3</th>\n",
              "      <td>2020-06-21 12:15:15</td>\n",
              "      <td>60.05</td>\n",
              "      <td>2159175b9efe66dc301f149d3d5abf8c</td>\n",
              "      <td>0</td>\n",
              "      <td>0</td>\n",
              "    </tr>\n",
              "    <tr>\n",
              "      <th>4</th>\n",
              "      <td>2020-06-21 12:15:17</td>\n",
              "      <td>3.19</td>\n",
              "      <td>57ff021bd3f328f8738bb535c302a31b</td>\n",
              "      <td>0</td>\n",
              "      <td>0</td>\n",
              "    </tr>\n",
              "  </tbody>\n",
              "</table>\n",
              "</div>"
            ],
            "text/plain": [
              "  trans_date_trans_time    amt  ... is_fraud  is_fraud_pred\n",
              "0   2020-06-21 12:14:25   2.86  ...        0              0\n",
              "1   2020-06-21 12:14:33  29.84  ...        0              0\n",
              "2   2020-06-21 12:14:53  41.28  ...        0              0\n",
              "3   2020-06-21 12:15:15  60.05  ...        0              0\n",
              "4   2020-06-21 12:15:17   3.19  ...        0              0\n",
              "\n",
              "[5 rows x 5 columns]"
            ]
          },
          "metadata": {
            "tags": []
          },
          "execution_count": 257
        }
      ]
    },
    {
      "cell_type": "code",
      "metadata": {
        "colab": {
          "base_uri": "https://localhost:8080/"
        },
        "id": "q0ayc37crFbh",
        "outputId": "0c112228-cad1-4c7e-bbaf-a5a3dc2509fd"
      },
      "source": [
        "df_test_final.groupby('is_fraud')['is_fraud'].count()"
      ],
      "execution_count": null,
      "outputs": [
        {
          "output_type": "execute_result",
          "data": {
            "text/plain": [
              "is_fraud\n",
              "0    553574\n",
              "1      2145\n",
              "Name: is_fraud, dtype: int64"
            ]
          },
          "metadata": {
            "tags": []
          },
          "execution_count": 260
        }
      ]
    },
    {
      "cell_type": "code",
      "metadata": {
        "colab": {
          "base_uri": "https://localhost:8080/"
        },
        "id": "fQuk3RsnrKk4",
        "outputId": "093c49b0-a5bd-4162-9a2a-56483cae401e"
      },
      "source": [
        "df_test_final.groupby('is_fraud_pred')['is_fraud_pred'].count()"
      ],
      "execution_count": null,
      "outputs": [
        {
          "output_type": "execute_result",
          "data": {
            "text/plain": [
              "is_fraud_pred\n",
              "0    544240\n",
              "1     11479\n",
              "Name: is_fraud_pred, dtype: int64"
            ]
          },
          "metadata": {
            "tags": []
          },
          "execution_count": 261
        }
      ]
    },
    {
      "cell_type": "code",
      "metadata": {
        "colab": {
          "base_uri": "https://localhost:8080/",
          "height": 204
        },
        "id": "1UH3RZ-SrLa5",
        "outputId": "774f03f4-1950-44d9-b5c1-101cf5fb51f3"
      },
      "source": [
        "# Merging train and test dataset for cost benefit analysis\n",
        "\n",
        "df_merge_final = pd.concat([df_train_final, df_test_final],axis=0)\n",
        "df_merge_final.head()"
      ],
      "execution_count": null,
      "outputs": [
        {
          "output_type": "execute_result",
          "data": {
            "text/html": [
              "<div>\n",
              "<style scoped>\n",
              "    .dataframe tbody tr th:only-of-type {\n",
              "        vertical-align: middle;\n",
              "    }\n",
              "\n",
              "    .dataframe tbody tr th {\n",
              "        vertical-align: top;\n",
              "    }\n",
              "\n",
              "    .dataframe thead th {\n",
              "        text-align: right;\n",
              "    }\n",
              "</style>\n",
              "<table border=\"1\" class=\"dataframe\">\n",
              "  <thead>\n",
              "    <tr style=\"text-align: right;\">\n",
              "      <th></th>\n",
              "      <th>trans_date_trans_time</th>\n",
              "      <th>amt</th>\n",
              "      <th>trans_num</th>\n",
              "      <th>is_fraud</th>\n",
              "      <th>is_fraud_pred</th>\n",
              "    </tr>\n",
              "  </thead>\n",
              "  <tbody>\n",
              "    <tr>\n",
              "      <th>0</th>\n",
              "      <td>2019-01-01 00:00:18</td>\n",
              "      <td>4.97</td>\n",
              "      <td>0b242abb623afc578575680df30655b9</td>\n",
              "      <td>0</td>\n",
              "      <td>0</td>\n",
              "    </tr>\n",
              "    <tr>\n",
              "      <th>1</th>\n",
              "      <td>2019-01-01 00:00:44</td>\n",
              "      <td>107.23</td>\n",
              "      <td>1f76529f8574734946361c461b024d99</td>\n",
              "      <td>0</td>\n",
              "      <td>0</td>\n",
              "    </tr>\n",
              "    <tr>\n",
              "      <th>2</th>\n",
              "      <td>2019-01-01 00:00:51</td>\n",
              "      <td>220.11</td>\n",
              "      <td>a1a22d70485983eac12b5b88dad1cf95</td>\n",
              "      <td>0</td>\n",
              "      <td>0</td>\n",
              "    </tr>\n",
              "    <tr>\n",
              "      <th>3</th>\n",
              "      <td>2019-01-01 00:01:16</td>\n",
              "      <td>45.00</td>\n",
              "      <td>6b849c168bdad6f867558c3793159a81</td>\n",
              "      <td>0</td>\n",
              "      <td>0</td>\n",
              "    </tr>\n",
              "    <tr>\n",
              "      <th>4</th>\n",
              "      <td>2019-01-01 00:03:06</td>\n",
              "      <td>41.96</td>\n",
              "      <td>a41d7549acf90789359a9aa5346dcb46</td>\n",
              "      <td>0</td>\n",
              "      <td>0</td>\n",
              "    </tr>\n",
              "  </tbody>\n",
              "</table>\n",
              "</div>"
            ],
            "text/plain": [
              "  trans_date_trans_time     amt  ... is_fraud  is_fraud_pred\n",
              "0   2019-01-01 00:00:18    4.97  ...        0              0\n",
              "1   2019-01-01 00:00:44  107.23  ...        0              0\n",
              "2   2019-01-01 00:00:51  220.11  ...        0              0\n",
              "3   2019-01-01 00:01:16   45.00  ...        0              0\n",
              "4   2019-01-01 00:03:06   41.96  ...        0              0\n",
              "\n",
              "[5 rows x 5 columns]"
            ]
          },
          "metadata": {
            "tags": []
          },
          "execution_count": 262
        }
      ]
    },
    {
      "cell_type": "code",
      "metadata": {
        "colab": {
          "base_uri": "https://localhost:8080/"
        },
        "id": "1NP3ZCwwrqDA",
        "outputId": "325e9a5b-a03c-4fdc-a9a3-0284ec8352c7"
      },
      "source": [
        "df_merge_final.shape"
      ],
      "execution_count": null,
      "outputs": [
        {
          "output_type": "execute_result",
          "data": {
            "text/plain": [
              "(1852394, 5)"
            ]
          },
          "metadata": {
            "tags": []
          },
          "execution_count": 263
        }
      ]
    },
    {
      "cell_type": "markdown",
      "metadata": {
        "id": "CdkLEB8XsuaN"
      },
      "source": [
        "### Cost Benefit Analysis"
      ]
    },
    {
      "cell_type": "code",
      "metadata": {
        "colab": {
          "base_uri": "https://localhost:8080/",
          "height": 204
        },
        "id": "q2LtlShHrtVw",
        "outputId": "299e3db0-c20a-4244-90ea-fa131eb252d6"
      },
      "source": [
        "# Creating month and year columns\n",
        "\n",
        "df_merge_final['month'] = pd.DatetimeIndex(df_merge_final['trans_date_trans_time']).month\n",
        "df_merge_final['year'] = pd.DatetimeIndex(df_merge_final['trans_date_trans_time']).year\n",
        "df_merge_final.head()"
      ],
      "execution_count": null,
      "outputs": [
        {
          "output_type": "execute_result",
          "data": {
            "text/html": [
              "<div>\n",
              "<style scoped>\n",
              "    .dataframe tbody tr th:only-of-type {\n",
              "        vertical-align: middle;\n",
              "    }\n",
              "\n",
              "    .dataframe tbody tr th {\n",
              "        vertical-align: top;\n",
              "    }\n",
              "\n",
              "    .dataframe thead th {\n",
              "        text-align: right;\n",
              "    }\n",
              "</style>\n",
              "<table border=\"1\" class=\"dataframe\">\n",
              "  <thead>\n",
              "    <tr style=\"text-align: right;\">\n",
              "      <th></th>\n",
              "      <th>trans_date_trans_time</th>\n",
              "      <th>amt</th>\n",
              "      <th>trans_num</th>\n",
              "      <th>is_fraud</th>\n",
              "      <th>is_fraud_pred</th>\n",
              "      <th>month</th>\n",
              "      <th>year</th>\n",
              "    </tr>\n",
              "  </thead>\n",
              "  <tbody>\n",
              "    <tr>\n",
              "      <th>0</th>\n",
              "      <td>2019-01-01 00:00:18</td>\n",
              "      <td>4.97</td>\n",
              "      <td>0b242abb623afc578575680df30655b9</td>\n",
              "      <td>0</td>\n",
              "      <td>0</td>\n",
              "      <td>1</td>\n",
              "      <td>2019</td>\n",
              "    </tr>\n",
              "    <tr>\n",
              "      <th>1</th>\n",
              "      <td>2019-01-01 00:00:44</td>\n",
              "      <td>107.23</td>\n",
              "      <td>1f76529f8574734946361c461b024d99</td>\n",
              "      <td>0</td>\n",
              "      <td>0</td>\n",
              "      <td>1</td>\n",
              "      <td>2019</td>\n",
              "    </tr>\n",
              "    <tr>\n",
              "      <th>2</th>\n",
              "      <td>2019-01-01 00:00:51</td>\n",
              "      <td>220.11</td>\n",
              "      <td>a1a22d70485983eac12b5b88dad1cf95</td>\n",
              "      <td>0</td>\n",
              "      <td>0</td>\n",
              "      <td>1</td>\n",
              "      <td>2019</td>\n",
              "    </tr>\n",
              "    <tr>\n",
              "      <th>3</th>\n",
              "      <td>2019-01-01 00:01:16</td>\n",
              "      <td>45.00</td>\n",
              "      <td>6b849c168bdad6f867558c3793159a81</td>\n",
              "      <td>0</td>\n",
              "      <td>0</td>\n",
              "      <td>1</td>\n",
              "      <td>2019</td>\n",
              "    </tr>\n",
              "    <tr>\n",
              "      <th>4</th>\n",
              "      <td>2019-01-01 00:03:06</td>\n",
              "      <td>41.96</td>\n",
              "      <td>a41d7549acf90789359a9aa5346dcb46</td>\n",
              "      <td>0</td>\n",
              "      <td>0</td>\n",
              "      <td>1</td>\n",
              "      <td>2019</td>\n",
              "    </tr>\n",
              "  </tbody>\n",
              "</table>\n",
              "</div>"
            ],
            "text/plain": [
              "  trans_date_trans_time     amt  ... month  year\n",
              "0   2019-01-01 00:00:18    4.97  ...     1  2019\n",
              "1   2019-01-01 00:00:44  107.23  ...     1  2019\n",
              "2   2019-01-01 00:00:51  220.11  ...     1  2019\n",
              "3   2019-01-01 00:01:16   45.00  ...     1  2019\n",
              "4   2019-01-01 00:03:06   41.96  ...     1  2019\n",
              "\n",
              "[5 rows x 7 columns]"
            ]
          },
          "metadata": {
            "tags": []
          },
          "execution_count": 264
        }
      ]
    },
    {
      "cell_type": "code",
      "metadata": {
        "id": "IRI_mSc_u18G"
      },
      "source": [
        "# Group by variable creation\n",
        "\n",
        "g = df_merge_final.groupby([\"year\",\"month\"])"
      ],
      "execution_count": null,
      "outputs": []
    },
    {
      "cell_type": "code",
      "metadata": {
        "colab": {
          "base_uri": "https://localhost:8080/"
        },
        "id": "5KNIFDiHvYBS",
        "outputId": "654a8728-917e-406e-b4a5-c896247adc3b"
      },
      "source": [
        "# Number of transactions per month\n",
        "\n",
        "g.trans_num.count()"
      ],
      "execution_count": null,
      "outputs": [
        {
          "output_type": "execute_result",
          "data": {
            "text/plain": [
              "year  month\n",
              "2019  1         52525\n",
              "      2         49866\n",
              "      3         70939\n",
              "      4         68078\n",
              "      5         72532\n",
              "      6         86064\n",
              "      7         86596\n",
              "      8         87359\n",
              "      9         70652\n",
              "      10        68758\n",
              "      11        70421\n",
              "      12       141060\n",
              "2020  1         52202\n",
              "      2         47791\n",
              "      3         72850\n",
              "      4         66892\n",
              "      5         74343\n",
              "      6         87805\n",
              "      7         85848\n",
              "      8         88759\n",
              "      9         69533\n",
              "      10        69348\n",
              "      11        72635\n",
              "      12       139538\n",
              "Name: trans_num, dtype: int64"
            ]
          },
          "metadata": {
            "tags": []
          },
          "execution_count": 268
        }
      ]
    },
    {
      "cell_type": "code",
      "metadata": {
        "colab": {
          "base_uri": "https://localhost:8080/"
        },
        "id": "2MeOouecv6px",
        "outputId": "2c325a39-9b4a-41d5-b0b2-b9ccab7655b0"
      },
      "source": [
        "# Average number of transactions per month\n",
        "\n",
        "df_merge_final.trans_num.count()/24"
      ],
      "execution_count": null,
      "outputs": [
        {
          "output_type": "execute_result",
          "data": {
            "text/plain": [
              "77183.08333333333"
            ]
          },
          "metadata": {
            "tags": []
          },
          "execution_count": 269
        }
      ]
    },
    {
      "cell_type": "code",
      "metadata": {
        "colab": {
          "base_uri": "https://localhost:8080/"
        },
        "id": "nNOVThaSwjt3",
        "outputId": "9824f014-2ca4-4df0-f8c3-f525118ae629"
      },
      "source": [
        "# Average Number of fraudulent transactions per month\n",
        "\n",
        "df_merge_final[df_merge_final['is_fraud']==1].trans_num.count()/24"
      ],
      "execution_count": null,
      "outputs": [
        {
          "output_type": "execute_result",
          "data": {
            "text/plain": [
              "402.125"
            ]
          },
          "metadata": {
            "tags": []
          },
          "execution_count": 270
        }
      ]
    },
    {
      "cell_type": "code",
      "metadata": {
        "colab": {
          "base_uri": "https://localhost:8080/"
        },
        "id": "gkW9UjWPxCP-",
        "outputId": "9580d200-a5e7-47c3-fc81-be3222f5361a"
      },
      "source": [
        "# Average amount per fraud transaction\n",
        "\n",
        "df_merge_final[df_merge_final['is_fraud']==1].amt.mean()"
      ],
      "execution_count": null,
      "outputs": [
        {
          "output_type": "execute_result",
          "data": {
            "text/plain": [
              "530.6614122888789"
            ]
          },
          "metadata": {
            "tags": []
          },
          "execution_count": 272
        }
      ]
    },
    {
      "cell_type": "code",
      "metadata": {
        "colab": {
          "base_uri": "https://localhost:8080/"
        },
        "id": "ixA0arM7yDTF",
        "outputId": "0320680c-c40f-4fc3-c9c1-073ed88abc85"
      },
      "source": [
        "# Average number of transactions per month detected as fraud by the model\n",
        "\n",
        "df_merge_final[df_merge_final['is_fraud_pred']==1].trans_num.count()/24"
      ],
      "execution_count": null,
      "outputs": [
        {
          "output_type": "execute_result",
          "data": {
            "text/plain": [
              "1720.25"
            ]
          },
          "metadata": {
            "tags": []
          },
          "execution_count": 273
        }
      ]
    },
    {
      "cell_type": "code",
      "metadata": {
        "colab": {
          "base_uri": "https://localhost:8080/"
        },
        "id": "IAJgVjH4yjxD",
        "outputId": "8fc6eb78-7ac8-4fd4-c206-b5730893419f"
      },
      "source": [
        "# Average number of transactions per month that are fraudulent but are not detected by the model\n",
        "\n",
        "Undetected_frauds = df_merge_final.loc[(df_merge_final.is_fraud_pred==0) & (df_merge_final.is_fraud==1)]\n",
        "Undetected_frauds.trans_num.count()/24"
      ],
      "execution_count": null,
      "outputs": [
        {
          "output_type": "execute_result",
          "data": {
            "text/plain": [
              "67.66666666666667"
            ]
          },
          "metadata": {
            "tags": []
          },
          "execution_count": 280
        }
      ]
    },
    {
      "cell_type": "code",
      "metadata": {
        "id": "xCrSc9cg0WGQ"
      },
      "source": [
        ""
      ],
      "execution_count": null,
      "outputs": []
    }
  ]
}